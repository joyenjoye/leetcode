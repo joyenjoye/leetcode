{
 "cells": [
  {
   "cell_type": "markdown",
   "metadata": {},
   "source": [
    "23June22: 737,995"
   ]
  },
  {
   "cell_type": "code",
   "execution_count": 1,
   "metadata": {},
   "outputs": [
    {
     "name": "stdout",
     "output_type": "stream",
     "text": [
      "83 out of 2742, which is 3.03% \n"
     ]
    }
   ],
   "source": [
    "done = 64+17+2\n",
    "total = 687+1451+604\n",
    "print(\"%s out of %s, which is %.2f%% \" %(done, total,done/total*100))"
   ]
  },
  {
   "cell_type": "markdown",
   "metadata": {},
   "source": [
    "## Solution 1\n",
    "\n",
    "|  Python3  |         |  |\n",
    "|:--------:|:-------:|---------------|\n",
    "| 运行时长(ms) | 43| 75.68 |\n",
    "|   内存消耗(mb)      |16.3 | 26.72\n"
   ]
  },
  {
   "cell_type": "code",
   "execution_count": 2,
   "metadata": {},
   "outputs": [],
   "source": [
    "class Solution:\n",
    "    def getRow(self, rowIndex: int) -> List[int]:\n",
    "        if rowIndex==0:\n",
    "            return [1]\n",
    "        if rowIndex==1:\n",
    "            return [1,1]\n",
    "        row = [1,1]\n",
    "        for i in range(2,rowIndex+1):\n",
    "            curr_row = []\n",
    "            for j in range(i+1):\n",
    "                if j==0:\n",
    "                    curr_row.append(1)\n",
    "                elif j ==i:\n",
    "                    curr_row.append(1)\n",
    "                else:\n",
    "                    curr_row.append(row[j]+row[j-1])\n",
    "            row = curr_row\n",
    "        return row"
   ]
  }
 ],
 "metadata": {
  "interpreter": {
   "hash": "762306bead03dc84e16aee56f31f40b1a0c18d71c74386c9334f6620b6a3216a"
  },
  "kernelspec": {
   "display_name": "Python 3 (ipykernel)",
   "language": "python",
   "name": "python3"
  },
  "language_info": {
   "codemirror_mode": {
    "name": "ipython",
    "version": 3
   },
   "file_extension": ".py",
   "mimetype": "text/x-python",
   "name": "python",
   "nbconvert_exporter": "python",
   "pygments_lexer": "ipython3",
   "version": "3.9.12"
  }
 },
 "nbformat": 4,
 "nbformat_minor": 4
}
