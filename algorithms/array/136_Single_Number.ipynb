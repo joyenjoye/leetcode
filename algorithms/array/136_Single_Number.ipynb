{
 "cells": [
  {
   "cell_type": "code",
   "execution_count": 1,
   "id": "38370e03-b7e9-4546-b362-b48af1203b37",
   "metadata": {},
   "outputs": [],
   "source": [
    "from typing import List"
   ]
  },
  {
   "cell_type": "code",
   "execution_count": 18,
   "id": "b13513a2-091a-49ab-9d94-ba644c4e623e",
   "metadata": {},
   "outputs": [],
   "source": [
    "class Solution:\n",
    "    def singleNumber(self, nums: List[int]) -> int:\n",
    "        num_dict = dict()\n",
    "        for num in nums:\n",
    "            if num not in num_dict: \n",
    "                num_dict[num]=1\n",
    "            else:\n",
    "                num_dict.pop(num)\n",
    "        return list(num_dict.keys())[0]"
   ]
  },
  {
   "cell_type": "code",
   "execution_count": 20,
   "id": "c8a0f5c3-31ad-4f76-b65e-692400b3ef0d",
   "metadata": {},
   "outputs": [],
   "source": [
    "class Solution:\n",
    "    def singleNumber(self, nums: List[int]) -> int:\n",
    "        num_list = []\n",
    "        for num in nums:\n",
    "            if num not in  num_list: \n",
    "                num_list.append(num)\n",
    "            else:\n",
    "                num_list.remove(num)\n",
    "        return num_list[0]"
   ]
  },
  {
   "cell_type": "code",
   "execution_count": 21,
   "id": "c9e6cacb-4e67-4155-9c71-a7502d71bbff",
   "metadata": {},
   "outputs": [
    {
     "data": {
      "text/plain": [
       "1"
      ]
     },
     "execution_count": 21,
     "metadata": {},
     "output_type": "execute_result"
    }
   ],
   "source": [
    "Solution().singleNumber([2,2,1])"
   ]
  }
 ],
 "metadata": {
  "kernelspec": {
   "display_name": "Python 3 (ipykernel)",
   "language": "python",
   "name": "python3"
  },
  "language_info": {
   "codemirror_mode": {
    "name": "ipython",
    "version": 3
   },
   "file_extension": ".py",
   "mimetype": "text/x-python",
   "name": "python",
   "nbconvert_exporter": "python",
   "pygments_lexer": "ipython3",
   "version": "3.8.13"
  }
 },
 "nbformat": 4,
 "nbformat_minor": 5
}
