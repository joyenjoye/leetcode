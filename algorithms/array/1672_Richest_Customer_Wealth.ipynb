{
 "cells": [
  {
   "cell_type": "markdown",
   "id": "c7654375-bf42-474e-91f5-55d236f2857a",
   "metadata": {},
   "source": [
    "23May11: 1,173,519"
   ]
  },
  {
   "cell_type": "code",
   "execution_count": 1,
   "id": "420873de-b12a-4b28-bdee-70e98ddd1205",
   "metadata": {},
   "outputs": [
    {
     "name": "stdout",
     "output_type": "stream",
     "text": [
      "40 out of 2674 \n"
     ]
    }
   ],
   "source": [
    "print(\"%s out of %s \" %(40, 662+1420+592))"
   ]
  },
  {
   "cell_type": "markdown",
   "id": "75ffeeb7-6dd4-4398-8936-2cb018fd59ca",
   "metadata": {},
   "source": [
    "## Solution 1\n",
    "|  Python3  |         |  |\n",
    "|:--------:|:-------:|---------------|\n",
    "| 运行时长(ms) |68 |   14.79|\n",
    "|   内存消耗(mb)      | 16.3  | 20.85\n"
   ]
  },
  {
   "cell_type": "code",
   "execution_count": 3,
   "id": "4e653a05-0e78-4c3e-95e4-6ae1a522c5ee",
   "metadata": {},
   "outputs": [],
   "source": [
    "from typing import List"
   ]
  },
  {
   "cell_type": "code",
   "execution_count": 4,
   "id": "b9ad9843-b7d7-4126-98c2-4f714b00b5db",
   "metadata": {},
   "outputs": [],
   "source": [
    "class Solution:\n",
    "    def maximumWealth(self, accounts: List[List[int]]) -> int:\n",
    "        richest = 0\n",
    "        for account in accounts:\n",
    "            wealth = sum(account)\n",
    "            if  wealth >richest:\n",
    "                richest = wealth\n",
    "        return richest\n"
   ]
  }
 ],
 "metadata": {
  "kernelspec": {
   "display_name": "Python 3 (ipykernel)",
   "language": "python",
   "name": "python3"
  },
  "language_info": {
   "codemirror_mode": {
    "name": "ipython",
    "version": 3
   },
   "file_extension": ".py",
   "mimetype": "text/x-python",
   "name": "python",
   "nbconvert_exporter": "python",
   "pygments_lexer": "ipython3",
   "version": "3.8.13"
  }
 },
 "nbformat": 4,
 "nbformat_minor": 5
}
