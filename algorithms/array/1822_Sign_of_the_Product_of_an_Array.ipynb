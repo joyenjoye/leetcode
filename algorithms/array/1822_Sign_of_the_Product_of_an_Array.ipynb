{
 "cells": [
  {
   "cell_type": "markdown",
   "id": "b081c228-8f5b-4582-b0e0-b892e8319a72",
   "metadata": {},
   "source": [
    "23May2\n",
    "\n",
    "Day22: 1,322,898\n",
    "\n",
    "33/2663"
   ]
  },
  {
   "cell_type": "code",
   "execution_count": 2,
   "id": "2fa34cbb-9c71-49fa-8d0e-78972dce7cea",
   "metadata": {},
   "outputs": [],
   "source": [
    "from typing import List"
   ]
  },
  {
   "cell_type": "markdown",
   "id": "744d8325-a9d7-496a-8815-8c397b872b82",
   "metadata": {},
   "source": [
    "## Solution 1\n",
    "|  Python3  |         |  |\n",
    "|:--------:|:-------:|---------------|\n",
    "| 运行时长(ms) | 76 |   5.64|\n",
    "|   内存消耗(mb)      | 16.5  | 7.53\n"
   ]
  },
  {
   "cell_type": "code",
   "execution_count": 3,
   "id": "2244ff5b-1b72-4b34-bd9a-04410f8eadff",
   "metadata": {},
   "outputs": [],
   "source": [
    "class Solution:\n",
    "    def arraySign(self, nums: List[int]) -> int:\n",
    "        if 0 in nums:\n",
    "            return 0\n",
    "        s = 1\n",
    "        for num in nums:\n",
    "            s = s* (num/abs(num))\n",
    "        return int(s)"
   ]
  },
  {
   "cell_type": "markdown",
   "id": "2ea20645-3d36-4940-8628-b72bd6f63ea5",
   "metadata": {},
   "source": [
    "## Solution 2\n",
    "|  Python3  |         |  |\n",
    "|:--------:|:-------:|---------------|\n",
    "| 运行时长(ms) | 77 |   5.64|\n",
    "|   内存消耗(mb)      | 16.4  | 7.53\n"
   ]
  },
  {
   "cell_type": "code",
   "execution_count": 4,
   "id": "90491041-1d7f-4121-a57d-6915cf87fe6a",
   "metadata": {},
   "outputs": [],
   "source": [
    "class Solution:\n",
    "    def arraySign(self, nums: List[int]) -> int:\n",
    "        nums.sort()\n",
    "        n = len(nums)\n",
    "        i = n//2\n",
    "        j = n//2\n",
    "        if 0 in nums:\n",
    "            return 0\n",
    "        if nums[i]>0:\n",
    "            while j>=0 and nums[j]>0:\n",
    "                j -=1\n",
    "            return pow(-1,j+1)\n",
    "\n",
    "        if nums[i]<0: \n",
    "            while j<=n-1 and nums[j]<0:\n",
    "                j +=1\n",
    "            return pow(-1,j)\n"
   ]
  },
  {
   "cell_type": "code",
   "execution_count": 12,
   "id": "a270a349-25a6-4724-ac10-4a8aed710b78",
   "metadata": {},
   "outputs": [],
   "source": [
    "dp = [[1]*2]*2"
   ]
  },
  {
   "cell_type": "code",
   "execution_count": 13,
   "id": "88932e5d-c65c-4466-a2ee-513e918a288f",
   "metadata": {},
   "outputs": [
    {
     "data": {
      "text/plain": [
       "1"
      ]
     },
     "execution_count": 13,
     "metadata": {},
     "output_type": "execute_result"
    }
   ],
   "source": [
    "dp[0][0]"
   ]
  },
  {
   "cell_type": "code",
   "execution_count": null,
   "id": "3c2b1061-f833-437c-bb6b-57bfbdb837c2",
   "metadata": {},
   "outputs": [],
   "source": [
    "     total = sum(nums)\n",
    "        \n",
    "        # If total sum is odd, can't partition into two equal subsets\n",
    "        if total % 2 != 0:\n",
    "            return False\n",
    "        \n",
    "        target = total // 2\n",
    "        \n",
    "        # Initialize a boolean DP array\n",
    "        dp = [False] * (target + 1)\n",
    "        dp[0] = True\n",
    "        \n",
    "        for num in nums:\n",
    "            # Update the dp array from the end to the start\n",
    "            for j in range(target, num - 1, -1):\n",
    "                dp[j] = dp[j] or dp[j - num]\n",
    "        \n",
    "        return dp[target]"
   ]
  }
 ],
 "metadata": {
  "kernelspec": {
   "display_name": "Python 3 (ipykernel)",
   "language": "python",
   "name": "python3"
  },
  "language_info": {
   "codemirror_mode": {
    "name": "ipython",
    "version": 3
   },
   "file_extension": ".py",
   "mimetype": "text/x-python",
   "name": "python",
   "nbconvert_exporter": "python",
   "pygments_lexer": "ipython3",
   "version": "3.9.12"
  }
 },
 "nbformat": 4,
 "nbformat_minor": 5
}
