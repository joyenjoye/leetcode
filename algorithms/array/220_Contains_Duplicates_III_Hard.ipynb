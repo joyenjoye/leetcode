{
 "cells": [
  {
   "cell_type": "code",
   "execution_count": 12,
   "id": "23d7a48b-322e-441e-8794-f4b636ee6d2c",
   "metadata": {},
   "outputs": [],
   "source": [
    "from typing import List"
   ]
  },
  {
   "cell_type": "markdown",
   "id": "a39cf685-437e-4e76-8353-6adf8c6a97b9",
   "metadata": {},
   "source": [
    "## Solution1\n",
    "\n",
    "Time Limit Exceed"
   ]
  },
  {
   "cell_type": "code",
   "execution_count": null,
   "id": "d31d5b2f-a5b3-47cb-9e6e-69a39e88c284",
   "metadata": {},
   "outputs": [],
   "source": [
    "class Solution:\n",
    "    def containsNearbyAlmostDuplicate(self, nums: List[int], indexDiff: int, valueDiff: int) -> bool:\n",
    "        index_dict = {}\n",
    "        for i, n in enumerate(nums):\n",
    "            for v, idx in index_dict.items():\n",
    "                if abs(n-v) <=valueDiff and abs(i - idx)<= indexDiff:\n",
    "                    return True\n",
    "            index_dict[n] = i\n",
    "        return False"
   ]
  },
  {
   "cell_type": "markdown",
   "id": "d22a438b-1b89-44bb-a9e7-6e995fd3f2eb",
   "metadata": {},
   "source": [
    "## Solution2\n",
    "\n",
    "Time Limit Exceed"
   ]
  },
  {
   "cell_type": "code",
   "execution_count": null,
   "id": "0353361e-b1c5-472e-899c-e1d001b524be",
   "metadata": {},
   "outputs": [],
   "source": [
    "class Solution:\n",
    "    def containsNearbyAlmostDuplicate(self, nums: List[int], indexDiff: int, valueDiff: int) -> bool:\n",
    "        index_dict = {}\n",
    "        for i, num in enumerate(nums):\n",
    "            for diff in range(-valueDiff,valueDiff+1):\n",
    "                n_diff = num +diff\n",
    "                if n_diff in index_dict and i-index_dict[n_diff]<=indexDiff:\n",
    "                    return True               \n",
    "            index_dict[num] = i\n",
    "        return False"
   ]
  },
  {
   "cell_type": "markdown",
   "id": "9c411daf-14ae-4d9e-9849-a2738d095cd2",
   "metadata": {},
   "source": [
    "## Solution 3"
   ]
  },
  {
   "cell_type": "code",
   "execution_count": null,
   "id": "4d373d6c-9953-4f8c-826e-0aae424dbc9a",
   "metadata": {},
   "outputs": [],
   "source": [
    "class Solution:\n",
    "    def containsNearbyAlmostDuplicate(self, nums: List[int], indexDiff: int, valueDiff: int) -> bool:\n",
    "        index_dict = {}\n",
    "        for i, num in enumerate(nums):\n",
    "            num_scaled = num//(valueDiff+1)\n",
    "            if num_scaled in index_dict and i - index_dict[num_scaled][0]<=indexDiff and abs(num -index_dict[num_scaled][1])<=valueDiff:\n",
    "                return True\n",
    "            if num_scaled-1 in index_dict and i - index_dict[num_scaled-1][0]<=indexDiff and abs(num -index_dict[num_scaled-1][1])<=valueDiff:\n",
    "                return True\n",
    "            if num_scaled+1 in index_dict and i - index_dict[num_scaled+1][0]<=indexDiff and abs(num -index_dict[num_scaled+1][1])<=valueDiff:\n",
    "                return True\n",
    "                \n",
    "            index_dict[num_scaled] = (i,num)\n",
    "           \n",
    "        return False"
   ]
  }
 ],
 "metadata": {
  "kernelspec": {
   "display_name": "Python 3 (ipykernel)",
   "language": "python",
   "name": "python3"
  },
  "language_info": {
   "codemirror_mode": {
    "name": "ipython",
    "version": 3
   },
   "file_extension": ".py",
   "mimetype": "text/x-python",
   "name": "python",
   "nbconvert_exporter": "python",
   "pygments_lexer": "ipython3",
   "version": "3.8.13"
  }
 },
 "nbformat": 4,
 "nbformat_minor": 5
}
