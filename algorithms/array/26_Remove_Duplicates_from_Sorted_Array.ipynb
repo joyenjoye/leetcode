{
 "cells": [
  {
   "cell_type": "markdown",
   "metadata": {},
   "source": [
    "# 26. 删除有序数组中的重复项\n",
    "\n",
    "- https://leetcode.com/problems/remove-duplicates-from-sorted-array/\n",
    "- https://leetcode.cn/problems/remove-duplicates-from-sorted-array/"
   ]
  },
  {
   "cell_type": "markdown",
   "metadata": {},
   "source": [
    "## Solution 1\n",
    "\n",
    "\n",
    "|  Python3  |         |  |\n",
    "|:--------:|:-------:|---------------|\n",
    "| 运行时长(ms) |  145  |    17.85  |\n",
    "|   内存消耗(mb)      | 15.5  | 49.24\n"
   ]
  },
  {
   "cell_type": "code",
   "execution_count": null,
   "metadata": {},
   "outputs": [],
   "source": [
    "#2022-04-10\n",
    "class Solution:\n",
    "    def removeDuplicates(self, nums: List[int]) -> int:\n",
    "        curr = nums[0]\n",
    "        i = 1\n",
    "        while i< len(nums):\n",
    "            num = nums[i]\n",
    "            if num==curr:\n",
    "                nums.pop(i)\n",
    "            else:\n",
    "                curr = num\n",
    "                i = i+1\n",
    "        return len(nums)"
   ]
  }
 ],
 "metadata": {
  "interpreter": {
   "hash": "762306bead03dc84e16aee56f31f40b1a0c18d71c74386c9334f6620b6a3216a"
  },
  "kernelspec": {
   "display_name": "Python 3 (ipykernel)",
   "language": "python",
   "name": "python3"
  },
  "language_info": {
   "codemirror_mode": {
    "name": "ipython",
    "version": 3
   },
   "file_extension": ".py",
   "mimetype": "text/x-python",
   "name": "python",
   "nbconvert_exporter": "python",
   "pygments_lexer": "ipython3",
   "version": "3.9.12"
  }
 },
 "nbformat": 4,
 "nbformat_minor": 4
}
