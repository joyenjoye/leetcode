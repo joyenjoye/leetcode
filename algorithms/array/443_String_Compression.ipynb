{
 "cells": [
  {
   "cell_type": "markdown",
   "metadata": {},
   "source": [
    "23June5: 862,475"
   ]
  },
  {
   "cell_type": "code",
   "execution_count": 1,
   "metadata": {},
   "outputs": [
    {
     "name": "stdout",
     "output_type": "stream",
     "text": [
      "67 out of 2719, which is 2.46% \n"
     ]
    }
   ],
   "source": [
    "done = 67\n",
    "total = 678+1440+601\n",
    "print(\"%s out of %s, which is %.2f%% \" %(done, total,done/total*100))"
   ]
  },
  {
   "cell_type": "code",
   "execution_count": 3,
   "metadata": {},
   "outputs": [],
   "source": [
    "from typing import List"
   ]
  },
  {
   "cell_type": "markdown",
   "metadata": {},
   "source": [
    "## Solution 1\n",
    "\n",
    "|  Python3  |         |  |\n",
    "|:--------:|:-------:|---------------|\n",
    "| 运行时长(ms) | 79| 37.35  |\n",
    "|   内存消耗(mb)      | 16.4 | 72.92"
   ]
  },
  {
   "cell_type": "code",
   "execution_count": 4,
   "metadata": {},
   "outputs": [],
   "source": [
    "class Solution:\n",
    "    def compress(self, chars: List[str]) -> int:\n",
    "        c = chars[0]\n",
    "        i = 1\n",
    "        n = 1\n",
    "        while i <len(chars):\n",
    "            if chars[i]==c:\n",
    "                n+=1\n",
    "                chars.pop(i)\n",
    "                if i==len(chars):\n",
    "                    for item in list(str(n)):\n",
    "                        chars.insert(i,item)\n",
    "                        i += 1\n",
    "            else:\n",
    "                if n >1:\n",
    "                    for item in list(str(n)):\n",
    "                        chars.insert(i,item)\n",
    "                        i += 1\n",
    "                c = chars[i]\n",
    "                n = 1\n",
    "                i = i+1\n",
    "        return len(chars)"
   ]
  }
 ],
 "metadata": {
  "interpreter": {
   "hash": "762306bead03dc84e16aee56f31f40b1a0c18d71c74386c9334f6620b6a3216a"
  },
  "kernelspec": {
   "display_name": "Python 3 (ipykernel)",
   "language": "python",
   "name": "python3"
  },
  "language_info": {
   "codemirror_mode": {
    "name": "ipython",
    "version": 3
   },
   "file_extension": ".py",
   "mimetype": "text/x-python",
   "name": "python",
   "nbconvert_exporter": "python",
   "pygments_lexer": "ipython3",
   "version": "3.9.12"
  }
 },
 "nbformat": 4,
 "nbformat_minor": 4
}
