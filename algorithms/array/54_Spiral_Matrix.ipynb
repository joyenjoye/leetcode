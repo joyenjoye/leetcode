<<<<<<< HEAD
{
 "cells": [
  {
   "cell_type": "markdown",
   "id": "fc4afd78-499c-475e-a733-803855038061",
   "metadata": {},
   "source": [
    "23May9: 1,204,985\n",
    "\n",
    "38/2673"
   ]
  },
  {
   "cell_type": "markdown",
   "id": "aa185609-919f-499c-b8c9-1be566d40d8e",
   "metadata": {},
   "source": [
    "## Solution 1\n"
   ]
  },
  {
   "cell_type": "code",
   "execution_count": 3,
   "id": "3f3f9ea1-dc10-4614-ae4e-77b572eeb135",
   "metadata": {},
   "outputs": [],
   "source": [
    "from typing import List"
   ]
  },
  {
   "cell_type": "code",
   "execution_count": 4,
   "id": "41edde37-ae94-466b-9cf1-801af8f3d786",
   "metadata": {},
   "outputs": [],
   "source": [
    "class Solution:\n",
    "    def spiralOrder(self, matrix: List[List[int]]) -> List[int]:\n",
    "        n_row = len(matrix)\n",
    "        n_col = len(matrix[0])\n",
    "        i = 0\n",
    "        j = 0\n",
    "        turn = \"row\"\n",
    "        row_dir = 1\n",
    "        col_dir = 1\n",
    "        m = n_row * n_col\n",
    "        res = []\n",
    "        while len(res)< m:\n",
    "            print(matrix)\n",
    "            if turn == \"row\":\n",
    "                res.append(matrix[i][j])\n",
    "                if (j == n_col-1 and row_dir == 1) or (j == 0 and row_dir == -1):\n",
    "                    matrix.pop(i)\n",
    "                    turn = \"col\"\n",
    "                    row_dir = row_dir*-1\n",
    "                    # if row_dir == -1:\n",
    "                    #     i= i+1\n",
    "                    # else:\n",
    "                    #     i = i-1\n",
    "                    n_row = len(matrix)\n",
    "                    if matrix:\n",
    "                        n_col = len(matrix[0])\n",
    "                else:\n",
    "                    j =j+1*row_dir\n",
    "            elif turn == \"col\":\n",
    "                res.append(matrix[i][j])\n",
    "               \n",
    "                if (i == n_row-1 and col_dir ==1) or (i == 0 and col_dir == -1):\n",
    "                    turn = \"row\"\n",
    "                    col_dir = col_dir*-1 \n",
    "                    if col_dir == -1:\n",
    "                        j= j-1\n",
    "                    else:\n",
    "                        j =j+1\n",
    "                    n_row = len(matrix)\n",
    "                    n_col = len(matrix[0])\n",
    "                else:\n",
    "                    matrix[i].pop(j)\n",
    "                    i = i+1*col_dir\n",
    "        \n",
    "        return res\n"
   ]
  }
 ],
 "metadata": {
  "kernelspec": {
   "display_name": "Python 3 (ipykernel)",
   "language": "python",
   "name": "python3"
  },
  "language_info": {
   "codemirror_mode": {
    "name": "ipython",
    "version": 3
   },
   "file_extension": ".py",
   "mimetype": "text/x-python",
   "name": "python",
   "nbconvert_exporter": "python",
   "pygments_lexer": "ipython3",
   "version": "3.8.13"
  }
 },
 "nbformat": 4,
 "nbformat_minor": 5
}
=======
class Solution:
    def spiralOrder(self, matrix: List[List[int]]) -> List[int]:
        n_row = len(matrix)
        n_col = len(matrix[0])
        i = 0
        j = 0
        turn = "row"
        row_dir = 1
        col_dir = 1
        m = n_row * n_col
        res = []
        while len(res)< m:
            print(matrix)
            if turn == "row":
                res.append(matrix[i][j])
                if (j == n_col-1 and row_dir == 1) or (j == 0 and row_dir == -1):
                    matrix.pop(i)
                    turn = "col"
                    row_dir = row_dir*-1
                    # if row_dir == -1:
                    #     i= i+1
                    # else:
                    #     i = i-1
                    n_row = len(matrix)
                    if matrix:
                        n_col = len(matrix[0])
                else:
                    j =j+1*row_dir
            elif turn == "col":
                res.append(matrix[i][j])
               
                if (i == n_row-1 and col_dir ==1) or (i == 0 and col_dir == -1):
                    turn = "row"
                    col_dir = col_dir*-1 
                    if col_dir == -1:
                        j= j-1
                    else:
                        j =j+1
                    n_row = len(matrix)
                    n_col = len(matrix[0])
                else:
                    matrix[i].pop(j)
                    i = i+1*col_dir
        
        return res
>>>>>>> 362ee99 (Create 54_Spiral_Matrix.ipynb)
