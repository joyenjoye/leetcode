{
 "cells": [
  {
   "cell_type": "markdown",
   "id": "81762280-496e-4e09-865f-44e5ac99da76",
   "metadata": {},
   "source": [
    "23May7\n",
    "\n",
    "Day27: 1,223,092\n",
    "\n",
    "36/2663"
   ]
  },
  {
   "cell_type": "markdown",
   "id": "7ffc7b13-314c-466c-88d9-81bc1aad3eef",
   "metadata": {},
   "source": [
    "Design a data structure that keeps track of the values in it and answers some queries regarding their frequencies.\n",
    "\n",
    "Implement the FrequencyTracker class.\n",
    "\n",
    "FrequencyTracker(): Initializes the FrequencyTracker object with an empty array initially.\n",
    "void add(int number): Adds number to the data structure.\n",
    "void deleteOne(int number): Deletes one occurence of number from the data structure. The data structure may not contain number, and in this case nothing is deleted.\n",
    "bool hasFrequency(int frequency): Returns true if there is a number in the data structure that occurs frequency number of times, otherwise, it returns false"
   ]
  },
  {
   "cell_type": "markdown",
   "id": "a119455c-69e3-4513-938f-da039cdfc75b",
   "metadata": {},
   "source": [
    "## Solution 1\n",
    "\n",
    "Time Limit Exceeded"
   ]
  },
  {
   "cell_type": "code",
   "execution_count": 1,
   "id": "c34f9a54-a87f-4381-940f-6eea2132aad5",
   "metadata": {},
   "outputs": [],
   "source": [
    "class FrequencyTracker:\n",
    "\n",
    "    def __init__(self):\n",
    "        self.tracker = []\n",
    "        self.tracker_dict = dict()\n",
    "        \n",
    "\n",
    "    def add(self, number: int) -> None:\n",
    "        self.tracker.append(number)\n",
    "        if number not in self.tracker_dict:\n",
    "            self.tracker_dict[number]=1\n",
    "        else:\n",
    "            self.tracker_dict[number]+=1\n",
    "\n",
    "    def deleteOne(self, number: int) -> None:\n",
    "        if number in self.tracker:\n",
    "            self.tracker.remove(number)\n",
    "            self.tracker_dict[number] -=1\n",
    "        \n",
    "\n",
    "    def hasFrequency(self, frequency: int) -> bool:\n",
    "        for num in self.tracker_dict:\n",
    "            if self.tracker_dict[num]==frequency:\n",
    "                return True\n",
    "        return False\n",
    "\n",
    "\n",
    "# Your FrequencyTracker object will be instantiated and called as such:\n",
    "# obj = FrequencyTracker()\n",
    "# obj.add(number)\n",
    "# obj.deleteOne(number)\n",
    "# param_3 = obj.hasFrequency(frequency)"
   ]
  },
  {
   "cell_type": "code",
   "execution_count": null,
   "id": "4ecaef55-fa05-442c-aa68-46414a8fc3fd",
   "metadata": {},
   "outputs": [],
   "source": []
  }
 ],
 "metadata": {
  "kernelspec": {
   "display_name": "Python 3 (ipykernel)",
   "language": "python",
   "name": "python3"
  },
  "language_info": {
   "codemirror_mode": {
    "name": "ipython",
    "version": 3
   },
   "file_extension": ".py",
   "mimetype": "text/x-python",
   "name": "python",
   "nbconvert_exporter": "python",
   "pygments_lexer": "ipython3",
   "version": "3.8.13"
  }
 },
 "nbformat": 4,
 "nbformat_minor": 5
}
