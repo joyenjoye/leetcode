{
 "cells": [
  {
   "cell_type": "code",
   "execution_count": 1,
   "id": "b8ed31d4-ecad-4d44-b261-bd3219822478",
   "metadata": {},
   "outputs": [],
   "source": [
    "from typing import List"
   ]
  },
  {
   "cell_type": "code",
   "execution_count": 2,
   "id": "4cb20b67-0585-4871-a1a4-92c644c210fd",
   "metadata": {},
   "outputs": [],
   "source": [
    "class Solution:\n",
    "    def removeDuplicates(self, nums: List[int]) -> int:\n",
    "        i = 0\n",
    "        j = 0\n",
    "        while j <len(nums):\n",
    "            if i ==0:\n",
    "                m=nums[j]\n",
    "                i = i+1\n",
    "            else:\n",
    "                if m==nums[j]:\n",
    "                    i=i+1\n",
    "                else:\n",
    "                    m=nums[j]\n",
    "                    i=1\n",
    "            if i>2:\n",
    "                nums.pop(j)\n",
    "            else:\n",
    "                j = j+1\n",
    "        \n",
    "        return j\n"
   ]
  },
  {
   "cell_type": "code",
   "execution_count": null,
   "id": "d8c9258b-c15d-4e1f-a5cd-827e2c9d0565",
   "metadata": {},
   "outputs": [],
   "source": [
    "class Solution:\n",
    "    def removeDuplicates(self, nums: List[int]) -> int:\n",
    "        i = 0\n",
    "        for n in nums:\n",
    "            if i < 2 or n > nums[i-2]:\n",
    "                nums[i] = n\n",
    "                i += 1\n",
    "        return i"
   ]
  }
 ],
 "metadata": {
  "kernelspec": {
   "display_name": "Python 3 (ipykernel)",
   "language": "python",
   "name": "python3"
  },
  "language_info": {
   "codemirror_mode": {
    "name": "ipython",
    "version": 3
   },
   "file_extension": ".py",
   "mimetype": "text/x-python",
   "name": "python",
   "nbconvert_exporter": "python",
   "pygments_lexer": "ipython3",
   "version": "3.8.13"
  }
 },
 "nbformat": 4,
 "nbformat_minor": 5
}
