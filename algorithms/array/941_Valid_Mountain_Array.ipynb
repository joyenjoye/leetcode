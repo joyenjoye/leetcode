{
 "cells": [
  {
   "cell_type": "markdown",
   "metadata": {},
   "source": [
    "23May26: 988,152"
   ]
  },
  {
   "cell_type": "code",
   "execution_count": 7,
   "metadata": {},
   "outputs": [
    {
     "name": "stdout",
     "output_type": "stream",
     "text": [
      "54 out of 2702, which is 2.00% \n"
     ]
    }
   ],
   "source": [
    "done = 54\n",
    "total = 671+1434+597\n",
    "print(\"%s out of %s, which is %.2f%% \" %(done, total,done/total*100))"
   ]
  },
  {
   "cell_type": "markdown",
   "metadata": {},
   "source": [
    "## Solution 1\n",
    "\n",
    "|  Python3  |         |  |\n",
    "|:--------:|:-------:|---------------|\n",
    "| 运行时长(ms) | 2317| 7.58  |\n",
    "|   内存消耗(mb)      | 17.7 | 20.86"
   ]
  },
  {
   "cell_type": "code",
   "execution_count": 9,
   "metadata": {},
   "outputs": [],
   "source": [
    "from typing import List"
   ]
  },
  {
   "cell_type": "code",
   "execution_count": 10,
   "metadata": {},
   "outputs": [],
   "source": [
    "class Solution:\n",
    "    def validMountainArray(self, arr: List[int]) -> bool:\n",
    "        change = 0\n",
    "        direction = 0 \n",
    "        i = 0\n",
    "        while i < len(arr)-1:\n",
    "            if i==0:\n",
    "                if arr[i]>=arr[i+1]:\n",
    "                    return False\n",
    "            else:    \n",
    "                if arr[i]==arr[i+1]:\n",
    "                    return False\n",
    "\n",
    "                else:\n",
    "                    if direction ==0:\n",
    "                        if arr[i]>arr[i+1]:\n",
    "                            change +=1\n",
    "                            direction = 1\n",
    "                    else:\n",
    "                        if arr[i]<arr[i+1]:\n",
    "                            change +=1\n",
    "                            direction = 0\n",
    "            i = i+1\n",
    "            if change>1:\n",
    "                return False \n",
    "        return change==1\n",
    "                "
   ]
  }
 ],
 "metadata": {
  "interpreter": {
   "hash": "762306bead03dc84e16aee56f31f40b1a0c18d71c74386c9334f6620b6a3216a"
  },
  "kernelspec": {
   "display_name": "Python 3 (ipykernel)",
   "language": "python",
   "name": "python3"
  },
  "language_info": {
   "codemirror_mode": {
    "name": "ipython",
    "version": 3
   },
   "file_extension": ".py",
   "mimetype": "text/x-python",
   "name": "python",
   "nbconvert_exporter": "python",
   "pygments_lexer": "ipython3",
   "version": "3.9.12"
  }
 },
 "nbformat": 4,
 "nbformat_minor": 4
}
