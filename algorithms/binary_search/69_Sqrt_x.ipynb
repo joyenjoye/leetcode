{
 "cells": [
  {
   "cell_type": "markdown",
   "metadata": {},
   "source": [
    "23June17: 775,881"
   ]
  },
  {
   "cell_type": "code",
   "execution_count": 3,
   "metadata": {},
   "outputs": [
    {
     "name": "stdout",
     "output_type": "stream",
     "text": [
      "79 out of 2738, which is 2.89% \n"
     ]
    }
   ],
   "source": [
    "done = 79\n",
    "total = 686+1449+603\n",
    "print(\"%s out of %s, which is %.2f%% \" %(done, total,done/total*100))"
   ]
  },
  {
   "cell_type": "markdown",
   "metadata": {},
   "source": [
    "## Solution 1\n",
    "\n",
    "|  Python3  |         |  |\n",
    "|:--------:|:-------:|---------------|\n",
    "| 运行时长(ms) | 55 | 51.69 |\n",
    "|   内存消耗(mb)      |16.3 | 16.85\n"
   ]
  },
  {
   "cell_type": "code",
   "execution_count": 4,
   "metadata": {},
   "outputs": [],
   "source": [
    "class Solution:\n",
    "    def mySqrt(self, x: int) -> int:\n",
    "        if x == 0:\n",
    "            return 0\n",
    "        first, last = 1, x\n",
    "        while first <= last:\n",
    "            mid = first + (last - first) // 2\n",
    "            if mid == x // mid:\n",
    "                return mid\n",
    "            elif mid > x // mid:\n",
    "                last = mid - 1\n",
    "            else:\n",
    "                first = mid + 1\n",
    "        return last"
   ]
  }
 ],
 "metadata": {
  "interpreter": {
   "hash": "762306bead03dc84e16aee56f31f40b1a0c18d71c74386c9334f6620b6a3216a"
  },
  "kernelspec": {
   "display_name": "Python 3 (ipykernel)",
   "language": "python",
   "name": "python3"
  },
  "language_info": {
   "codemirror_mode": {
    "name": "ipython",
    "version": 3
   },
   "file_extension": ".py",
   "mimetype": "text/x-python",
   "name": "python",
   "nbconvert_exporter": "python",
   "pygments_lexer": "ipython3",
   "version": "3.9.12"
  }
 },
 "nbformat": 4,
 "nbformat_minor": 4
}
