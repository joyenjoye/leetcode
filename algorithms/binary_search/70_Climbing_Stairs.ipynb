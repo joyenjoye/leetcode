{
 "cells": [
  {
   "cell_type": "markdown",
   "metadata": {},
   "source": [
    "23June18: 769,434"
   ]
  },
  {
   "cell_type": "code",
   "execution_count": 1,
   "metadata": {},
   "outputs": [
    {
     "name": "stdout",
     "output_type": "stream",
     "text": [
      "80 out of 2742, which is 2.92% \n"
     ]
    }
   ],
   "source": [
    "done = 80\n",
    "total = 687+1451+604\n",
    "print(\"%s out of %s, which is %.2f%% \" %(done, total,done/total*100))"
   ]
  },
  {
   "cell_type": "markdown",
   "metadata": {},
   "source": [
    "## Solution 1\n",
    "\n",
    "|  Python3  |         |  |\n",
    "|:--------:|:-------:|---------------|\n",
    "| 运行时长(ms) | 48 | 36.1 |\n",
    "|   内存消耗(mb)      |16.4 | 20.61\n"
   ]
  },
  {
   "cell_type": "code",
   "execution_count": 2,
   "metadata": {},
   "outputs": [],
   "source": [
    "class Solution:\n",
    "    def climbStairs(self, n: int) -> int:\n",
    "        @lru_cache\n",
    "        def climb(n):\n",
    "            if n ==1:\n",
    "                return 1\n",
    "            elif n ==2:\n",
    "                return  2\n",
    "            else:\n",
    "                return climb(n-1)+climb(n-2)\n",
    "        return climb(n)"
   ]
  }
 ],
 "metadata": {
  "interpreter": {
   "hash": "762306bead03dc84e16aee56f31f40b1a0c18d71c74386c9334f6620b6a3216a"
  },
  "kernelspec": {
   "display_name": "Python 3 (ipykernel)",
   "language": "python",
   "name": "python3"
  },
  "language_info": {
   "codemirror_mode": {
    "name": "ipython",
    "version": 3
   },
   "file_extension": ".py",
   "mimetype": "text/x-python",
   "name": "python",
   "nbconvert_exporter": "python",
   "pygments_lexer": "ipython3",
   "version": "3.9.12"
  }
 },
 "nbformat": 4,
 "nbformat_minor": 4
}
