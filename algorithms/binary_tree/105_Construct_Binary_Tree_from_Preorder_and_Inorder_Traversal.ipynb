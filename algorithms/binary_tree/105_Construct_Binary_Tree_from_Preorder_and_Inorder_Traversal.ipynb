{
 "cells": [
  {
   "cell_type": "markdown",
   "id": "46ec06fb-cb68-4b4f-9079-3b6395d418c9",
   "metadata": {
    "tags": []
   },
   "source": [
    "## 105. Construct Binary Tree from Preorder and Inorder Traversal\n",
    "\n",
    "<div class=\"elfjS\" data-track-load=\"description_content\"><p>Given two integer arrays <code>preorder</code> and <code>inorder</code> where <code>preorder</code> is the preorder traversal of a binary tree and <code>inorder</code> is the inorder traversal of the same tree, construct and return <em>the binary tree</em>.</p>\n",
    "\n",
    "<p>&nbsp;</p>\n",
    "<p><strong class=\"example\">Example 1:</strong></p>\n",
    "<img alt=\"\" src=\"https://assets.leetcode.com/uploads/2021/02/19/tree.jpg\" style=\"width: 277px; height: 302px;\">\n",
    "<pre><strong>Input:</strong> preorder = [3,9,20,15,7], inorder = [9,3,15,20,7]\n",
    "<strong>Output:</strong> [3,9,20,null,null,15,7]\n",
    "</pre>\n",
    "\n",
    "<p><strong class=\"example\">Example 2:</strong></p>\n",
    "\n",
    "<pre><strong>Input:</strong> preorder = [-1], inorder = [-1]\n",
    "<strong>Output:</strong> [-1]\n",
    "</pre>\n",
    "\n",
    "<p>&nbsp;</p>\n",
    "<p><strong>Constraints:</strong></p>\n",
    "\n",
    "<ul>\n",
    "\t<li><code>1 &lt;= preorder.length &lt;= 3000</code></li>\n",
    "\t<li><code>inorder.length == preorder.length</code></li>\n",
    "\t<li><code>-3000 &lt;= preorder[i], inorder[i] &lt;= 3000</code></li>\n",
    "\t<li><code>preorder</code> and <code>inorder</code> consist of <strong>unique</strong> values.</li>\n",
    "\t<li>Each value of <code>inorder</code> also appears in <code>preorder</code>.</li>\n",
    "\t<li><code>preorder</code> is <strong>guaranteed</strong> to be the preorder traversal of the tree.</li>\n",
    "\t<li><code>inorder</code> is <strong>guaranteed</strong> to be the inorder traversal of the tree.</li>\n",
    "</ul>\n",
    "</div>"
   ]
  },
  {
   "cell_type": "code",
   "execution_count": 1,
   "id": "2fa34cbb-9c71-49fa-8d0e-78972dce7cea",
   "metadata": {},
   "outputs": [],
   "source": [
    "import numpy as np\n",
    "from typing import List, Optional\n",
    "%load_ext memory_magics\n",
    "\n",
    "# Definition for a binary tree node.\n",
    "class TreeNode:\n",
    "    def __init__(self, val=0, left=None, right=None):\n",
    "        self.val = val\n",
    "        self.left = left\n",
    "        self.right = right"
   ]
  },
  {
   "cell_type": "code",
   "execution_count": 2,
   "id": "3335c04e-e6c6-45cf-8f8e-f097ce41e8e9",
   "metadata": {},
   "outputs": [],
   "source": [
    "from graphviz import Digraph\n",
    "from collections import deque \n",
    "\n",
    "def plot_tree(node, graph=None, node_id=0):\n",
    "    if graph is None:\n",
    "        graph = Digraph()\n",
    "        graph.attr(size='8,8')\n",
    "    if node is not None:\n",
    "        graph.node(str(node_id), str(node.val))\n",
    "        if node.left:\n",
    "            graph.edge(str(node_id), str(2 * node_id + 1))\n",
    "            plot_tree(node.left, graph, 2 * node_id + 1)\n",
    "        if node.right:\n",
    "            graph.edge(str(node_id), str(2 * node_id + 2))\n",
    "            plot_tree(node.right, graph, 2 * node_id + 2)\n",
    "    return graph"
   ]
  },
  {
   "cell_type": "markdown",
   "id": "744d8325-a9d7-496a-8815-8c397b872b82",
   "metadata": {
    "tags": []
   },
   "source": [
    "## Solution 1\n",
    "<!-- class Solution:\n",
    "    def buildTree(self, preorder: List[int], inorder: List[int]) -> Optional[TreeNode]:\n",
    "        from collections import deque\n",
    "        iter_values = iter(preorder )\n",
    "        iter_inorder = iter(inorder)\n",
    "        root = TreeNode(next(iter_values))\n",
    "        queue = deque([root])\n",
    "        while queue:\n",
    "            node = queue.popleft()\n",
    "            try:\n",
    "                left_val = next(iter_values)\n",
    "                inorder_val = next(iter_inorder)\n",
    "                if left_val is not None:\n",
    "                    if left_val == inorder_val:\n",
    "                        node.left = TreeNode(left_val)\n",
    "                        queue.append(node.left)\n",
    "                        _ =  next(iter_inorder)\n",
    "                        \n",
    "                right_val = next(iter_values)\n",
    "                inorder_val = next(iter_inorder)\n",
    "                if right_val is not None:\n",
    "                    if left_val == inorder_val:\n",
    "                        node.right = TreeNode(right_val)\n",
    "                        queue.append(node.right)\n",
    "                    else:\n",
    "                        node.right = None\n",
    "                        \n",
    "            except StopIteration:\n",
    "                break -->"
   ]
  },
  {
   "cell_type": "code",
   "execution_count": 3,
   "id": "a1eae05a-240b-4ede-b1e2-563b0feff465",
   "metadata": {},
   "outputs": [],
   "source": [
    "\n",
    "class Solution:\n",
    "    def buildTree(self, preorder: List[int], inorder: List[int]) -> Optional[TreeNode]:\n",
    "        if not preorder or not inorder:\n",
    "            return None\n",
    "        \n",
    "        # The first element in preorder is always the root\n",
    "        root_val = preorder.pop(0)\n",
    "        root = TreeNode(root_val)\n",
    "        \n",
    "        # Find the index of the root in inorder to split left and right subtrees\n",
    "        index = inorder.index(root_val)\n",
    "        \n",
    "        # Recursively build the left and right subtree\n",
    "        root.left = self.buildTree(preorder, inorder[:index])\n",
    "        root.right = self.buildTree(preorder, inorder[index+1:])\n",
    "        \n",
    "        return root"
   ]
  },
  {
   "cell_type": "code",
   "execution_count": 4,
   "id": "df2123c2-4040-4ff1-a1cd-dc6265f39ace",
   "metadata": {},
   "outputs": [
    {
     "name": "stdout",
     "output_type": "stream",
     "text": [
      "CPU times: user 22 µs, sys: 1 µs, total: 23 µs\n",
      "Wall time: 27.2 µs\n"
     ]
    }
   ],
   "source": [
    "%%time\n",
    "preorder = [3,9,20,15,7]\n",
    "inorder = [9,3,15,20,7]\n",
    "solution = Solution()\n",
    "tree1 = solution.buildTree(preorder, inorder)"
   ]
  },
  {
   "cell_type": "code",
   "execution_count": 5,
   "id": "26aa6a0b-076c-4e04-b7e5-f508e338870f",
   "metadata": {},
   "outputs": [
    {
     "data": {
      "image/svg+xml": [
       "<?xml version=\"1.0\" encoding=\"UTF-8\" standalone=\"no\"?>\n",
       "<!DOCTYPE svg PUBLIC \"-//W3C//DTD SVG 1.1//EN\"\n",
       " \"http://www.w3.org/Graphics/SVG/1.1/DTD/svg11.dtd\">\n",
       "<!-- Generated by graphviz version 8.0.4 (20230421.1958)\n",
       " -->\n",
       "<!-- Pages: 1 -->\n",
       "<svg width=\"170pt\" height=\"188pt\"\n",
       " viewBox=\"0.00 0.00 170.00 188.00\" xmlns=\"http://www.w3.org/2000/svg\" xmlns:xlink=\"http://www.w3.org/1999/xlink\">\n",
       "<g id=\"graph0\" class=\"graph\" transform=\"scale(1 1) rotate(0) translate(4 184)\">\n",
       "<polygon fill=\"white\" stroke=\"none\" points=\"-4,4 -4,-184 166,-184 166,4 -4,4\"/>\n",
       "<!-- 0 -->\n",
       "<g id=\"node1\" class=\"node\">\n",
       "<title>0</title>\n",
       "<ellipse fill=\"none\" stroke=\"black\" cx=\"63\" cy=\"-162\" rx=\"27\" ry=\"18\"/>\n",
       "<text text-anchor=\"middle\" x=\"63\" y=\"-156.95\" font-family=\"Times,serif\" font-size=\"14.00\">3</text>\n",
       "</g>\n",
       "<!-- 1 -->\n",
       "<g id=\"node2\" class=\"node\">\n",
       "<title>1</title>\n",
       "<ellipse fill=\"none\" stroke=\"black\" cx=\"27\" cy=\"-90\" rx=\"27\" ry=\"18\"/>\n",
       "<text text-anchor=\"middle\" x=\"27\" y=\"-84.95\" font-family=\"Times,serif\" font-size=\"14.00\">9</text>\n",
       "</g>\n",
       "<!-- 0&#45;&gt;1 -->\n",
       "<g id=\"edge1\" class=\"edge\">\n",
       "<title>0&#45;&gt;1</title>\n",
       "<path fill=\"none\" stroke=\"black\" d=\"M54.65,-144.76C50.38,-136.46 45.08,-126.15 40.27,-116.79\"/>\n",
       "<polygon fill=\"black\" stroke=\"black\" points=\"42.99,-115.44 35.3,-108.15 36.77,-118.64 42.99,-115.44\"/>\n",
       "</g>\n",
       "<!-- 2 -->\n",
       "<g id=\"node3\" class=\"node\">\n",
       "<title>2</title>\n",
       "<ellipse fill=\"none\" stroke=\"black\" cx=\"99\" cy=\"-90\" rx=\"27\" ry=\"18\"/>\n",
       "<text text-anchor=\"middle\" x=\"99\" y=\"-84.95\" font-family=\"Times,serif\" font-size=\"14.00\">20</text>\n",
       "</g>\n",
       "<!-- 0&#45;&gt;2 -->\n",
       "<g id=\"edge2\" class=\"edge\">\n",
       "<title>0&#45;&gt;2</title>\n",
       "<path fill=\"none\" stroke=\"black\" d=\"M71.35,-144.76C75.62,-136.46 80.92,-126.15 85.73,-116.79\"/>\n",
       "<polygon fill=\"black\" stroke=\"black\" points=\"89.23,-118.64 90.7,-108.15 83.01,-115.44 89.23,-118.64\"/>\n",
       "</g>\n",
       "<!-- 5 -->\n",
       "<g id=\"node4\" class=\"node\">\n",
       "<title>5</title>\n",
       "<ellipse fill=\"none\" stroke=\"black\" cx=\"63\" cy=\"-18\" rx=\"27\" ry=\"18\"/>\n",
       "<text text-anchor=\"middle\" x=\"63\" y=\"-12.95\" font-family=\"Times,serif\" font-size=\"14.00\">15</text>\n",
       "</g>\n",
       "<!-- 2&#45;&gt;5 -->\n",
       "<g id=\"edge3\" class=\"edge\">\n",
       "<title>2&#45;&gt;5</title>\n",
       "<path fill=\"none\" stroke=\"black\" d=\"M90.65,-72.76C86.38,-64.46 81.08,-54.15 76.27,-44.79\"/>\n",
       "<polygon fill=\"black\" stroke=\"black\" points=\"78.99,-43.44 71.3,-36.15 72.77,-46.64 78.99,-43.44\"/>\n",
       "</g>\n",
       "<!-- 6 -->\n",
       "<g id=\"node5\" class=\"node\">\n",
       "<title>6</title>\n",
       "<ellipse fill=\"none\" stroke=\"black\" cx=\"135\" cy=\"-18\" rx=\"27\" ry=\"18\"/>\n",
       "<text text-anchor=\"middle\" x=\"135\" y=\"-12.95\" font-family=\"Times,serif\" font-size=\"14.00\">7</text>\n",
       "</g>\n",
       "<!-- 2&#45;&gt;6 -->\n",
       "<g id=\"edge4\" class=\"edge\">\n",
       "<title>2&#45;&gt;6</title>\n",
       "<path fill=\"none\" stroke=\"black\" d=\"M107.35,-72.76C111.62,-64.46 116.92,-54.15 121.73,-44.79\"/>\n",
       "<polygon fill=\"black\" stroke=\"black\" points=\"125.23,-46.64 126.7,-36.15 119.01,-43.44 125.23,-46.64\"/>\n",
       "</g>\n",
       "</g>\n",
       "</svg>\n"
      ],
      "text/plain": [
       "<graphviz.graphs.Digraph at 0x7fc7a561c370>"
      ]
     },
     "execution_count": 5,
     "metadata": {},
     "output_type": "execute_result"
    }
   ],
   "source": [
    "\n",
    "plot_tree(tree1)"
   ]
  }
 ],
 "metadata": {
  "kernelspec": {
   "display_name": "Python 3 (ipykernel)",
   "language": "python",
   "name": "python3"
  },
  "language_info": {
   "codemirror_mode": {
    "name": "ipython",
    "version": 3
   },
   "file_extension": ".py",
   "mimetype": "text/x-python",
   "name": "python",
   "nbconvert_exporter": "python",
   "pygments_lexer": "ipython3",
   "version": "3.9.12"
  }
 },
 "nbformat": 4,
 "nbformat_minor": 5
}
