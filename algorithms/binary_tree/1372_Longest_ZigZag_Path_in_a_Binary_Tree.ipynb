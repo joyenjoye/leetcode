{
 "cells": [
  {
   "cell_type": "markdown",
   "id": "46ec06fb-cb68-4b4f-9079-3b6395d418c9",
   "metadata": {
    "tags": []
   },
   "source": [
    "## 1372. Longest ZigZag Path in a Binary Tree\n",
    "\n",
    "<div class=\"elfjS\" data-track-load=\"description_content\"><p>You are given the <code>root</code> of a binary tree.</p>\n",
    "\n",
    "<p>A ZigZag path for a binary tree is defined as follow:</p>\n",
    "\n",
    "<ul>\n",
    "\t<li>Choose <strong>any </strong>node in the binary tree and a direction (right or left).</li>\n",
    "\t<li>If the current direction is right, move to the right child of the current node; otherwise, move to the left child.</li>\n",
    "\t<li>Change the direction from right to left or from left to right.</li>\n",
    "\t<li>Repeat the second and third steps until you can't move in the tree.</li>\n",
    "</ul>\n",
    "\n",
    "<p>Zigzag length is defined as the number of nodes visited - 1. (A single node has a length of 0).</p>\n",
    "\n",
    "<p>Return <em>the longest <strong>ZigZag</strong> path contained in that tree</em>.</p>\n",
    "\n",
    "<p>&nbsp;</p>\n",
    "<p><strong class=\"example\">Example 1:</strong></p>\n",
    "<img alt=\"\" src=\"https://assets.leetcode.com/uploads/2020/01/22/sample_1_1702.png\" style=\"width: 221px; height: 383px;\">\n",
    "<pre><strong>Input:</strong> root = [1,None,1,1,1,None,None,1,1,None,1,None,None,None,1]\n",
    "<strong>Output:</strong> 3\n",
    "<strong>Explanation:</strong> Longest ZigZag path in blue nodes (right -&gt; left -&gt; right).\n",
    "</pre>\n",
    "\n",
    "<p><strong class=\"example\">Example 2:</strong></p>\n",
    "<img alt=\"\" src=\"https://assets.leetcode.com/uploads/2020/01/22/sample_2_1702.png\" style=\"width: 157px; height: 329px;\">\n",
    "<pre><strong>Input:</strong> root = [1,1,1,None,1,None,None,1,1,None,1]\n",
    "<strong>Output:</strong> 4\n",
    "<strong>Explanation:</strong> Longest ZigZag path in blue nodes (left -&gt; right -&gt; left -&gt; right).\n",
    "</pre>\n",
    "\n",
    "<p><strong class=\"example\">Example 3:</strong></p>\n",
    "\n",
    "<pre><strong>Input:</strong> root = [1]\n",
    "<strong>Output:</strong> 0\n",
    "</pre>\n",
    "\n",
    "<p>&nbsp;</p>\n",
    "<p><strong>Constraints:</strong></p>\n",
    "\n",
    "<ul>\n",
    "\t<li>The number of nodes in the tree is in the range <code>[1, 5 * 10<sup>4</sup>]</code>.</li>\n",
    "\t<li><code>1 &lt;= Node.val &lt;= 100</code></li>\n",
    "</ul>\n",
    "</div>"
   ]
  },
  {
   "cell_type": "code",
   "execution_count": 1,
   "id": "2fa34cbb-9c71-49fa-8d0e-78972dce7cea",
   "metadata": {},
   "outputs": [],
   "source": [
    "import numpy as np\n",
    "from typing import List, Optional\n",
    "%load_ext memory_magics\n",
    "\n",
    "# Definition for a binary tree node.\n",
    "class TreeNode:\n",
    "    def __init__(self, val=0, left=None, right=None):\n",
    "        self.val = val\n",
    "        self.left = left\n",
    "        self.right = right"
   ]
  },
  {
   "cell_type": "code",
   "execution_count": 2,
   "id": "3335c04e-e6c6-45cf-8f8e-f097ce41e8e9",
   "metadata": {},
   "outputs": [],
   "source": [
    "from graphviz import Digraph\n",
    "from collections import deque \n",
    "\n",
    "def build_tree(values):\n",
    "    if not values:\n",
    "        return None\n",
    "    iter_values = iter(values)\n",
    "    root = TreeNode(next(iter_values))\n",
    "    queue = deque([root])\n",
    "    while queue:\n",
    "        node = queue.popleft()\n",
    "        try:\n",
    "            left_val = next(iter_values)\n",
    "            if left_val is not None:\n",
    "                node.left = TreeNode(left_val)\n",
    "                queue.append(node.left)\n",
    "            right_val = next(iter_values)\n",
    "            if right_val is not None:\n",
    "                node.right = TreeNode(right_val)\n",
    "                queue.append(node.right)\n",
    "        except StopIteration:\n",
    "            break\n",
    "    return root\n",
    "\n",
    "def plot_tree(node, graph=None, node_id=0):\n",
    "    if graph is None:\n",
    "        graph = Digraph()\n",
    "        graph.attr(size='8,8')\n",
    "    if node is not None:\n",
    "        graph.node(str(node_id), str(node.val))\n",
    "        if node.left:\n",
    "            graph.edge(str(node_id), str(2 * node_id + 1))\n",
    "            plot_tree(node.left, graph, 2 * node_id + 1)\n",
    "        if node.right:\n",
    "            graph.edge(str(node_id), str(2 * node_id + 2))\n",
    "            plot_tree(node.right, graph, 2 * node_id + 2)\n",
    "    return graph"
   ]
  },
  {
   "cell_type": "markdown",
   "id": "744d8325-a9d7-496a-8815-8c397b872b82",
   "metadata": {
    "tags": []
   },
   "source": [
    "## Solution 1"
   ]
  },
  {
   "cell_type": "code",
   "execution_count": 3,
   "id": "a1eae05a-240b-4ede-b1e2-563b0feff465",
   "metadata": {},
   "outputs": [],
   "source": [
    "class Solution:\n",
    "    def longestZigZag(self, root: TreeNode) -> int:\n",
    "        if not root:\n",
    "            return 0\n",
    "        \n",
    "        def dfs(node, direction, length):\n",
    "            nonlocal max_length\n",
    "            if not node:\n",
    "                return\n",
    "            max_length = max(max_length, length)\n",
    "            if direction == 'left':\n",
    "                dfs(node.left, 'right', length + 1)\n",
    "                dfs(node.right, 'left', 1)\n",
    "            else:\n",
    "                dfs(node.right, 'left', length + 1)\n",
    "                dfs(node.left, 'right', 1)\n",
    "        \n",
    "        max_length = 0\n",
    "        dfs(root.left, 'right', 1)\n",
    "        dfs(root.right, 'left', 1)\n",
    "        return max_length\n",
    "       \n",
    "            "
   ]
  },
  {
   "cell_type": "code",
   "execution_count": 4,
   "id": "26aa6a0b-076c-4e04-b7e5-f508e338870f",
   "metadata": {},
   "outputs": [
    {
     "data": {
      "image/svg+xml": [
       "<?xml version=\"1.0\" encoding=\"UTF-8\" standalone=\"no\"?>\n",
       "<!DOCTYPE svg PUBLIC \"-//W3C//DTD SVG 1.1//EN\"\n",
       " \"http://www.w3.org/Graphics/SVG/1.1/DTD/svg11.dtd\">\n",
       "<!-- Generated by graphviz version 8.0.4 (20230421.1958)\n",
       " -->\n",
       "<!-- Pages: 1 -->\n",
       "<svg width=\"170pt\" height=\"332pt\"\n",
       " viewBox=\"0.00 0.00 170.00 332.00\" xmlns=\"http://www.w3.org/2000/svg\" xmlns:xlink=\"http://www.w3.org/1999/xlink\">\n",
       "<g id=\"graph0\" class=\"graph\" transform=\"scale(1 1) rotate(0) translate(4 328)\">\n",
       "<polygon fill=\"white\" stroke=\"none\" points=\"-4,4 -4,-328 166,-328 166,4 -4,4\"/>\n",
       "<!-- 0 -->\n",
       "<g id=\"node1\" class=\"node\">\n",
       "<title>0</title>\n",
       "<ellipse fill=\"none\" stroke=\"black\" cx=\"99\" cy=\"-306\" rx=\"27\" ry=\"18\"/>\n",
       "<text text-anchor=\"middle\" x=\"99\" y=\"-300.95\" font-family=\"Times,serif\" font-size=\"14.00\">1</text>\n",
       "</g>\n",
       "<!-- 1 -->\n",
       "<g id=\"node2\" class=\"node\">\n",
       "<title>1</title>\n",
       "<ellipse fill=\"none\" stroke=\"black\" cx=\"63\" cy=\"-234\" rx=\"27\" ry=\"18\"/>\n",
       "<text text-anchor=\"middle\" x=\"63\" y=\"-228.95\" font-family=\"Times,serif\" font-size=\"14.00\">1</text>\n",
       "</g>\n",
       "<!-- 0&#45;&gt;1 -->\n",
       "<g id=\"edge1\" class=\"edge\">\n",
       "<title>0&#45;&gt;1</title>\n",
       "<path fill=\"none\" stroke=\"black\" d=\"M90.65,-288.76C86.38,-280.46 81.08,-270.15 76.27,-260.79\"/>\n",
       "<polygon fill=\"black\" stroke=\"black\" points=\"78.99,-259.44 71.3,-252.15 72.77,-262.64 78.99,-259.44\"/>\n",
       "</g>\n",
       "<!-- 2 -->\n",
       "<g id=\"node7\" class=\"node\">\n",
       "<title>2</title>\n",
       "<ellipse fill=\"none\" stroke=\"black\" cx=\"135\" cy=\"-234\" rx=\"27\" ry=\"18\"/>\n",
       "<text text-anchor=\"middle\" x=\"135\" y=\"-228.95\" font-family=\"Times,serif\" font-size=\"14.00\">1</text>\n",
       "</g>\n",
       "<!-- 0&#45;&gt;2 -->\n",
       "<g id=\"edge6\" class=\"edge\">\n",
       "<title>0&#45;&gt;2</title>\n",
       "<path fill=\"none\" stroke=\"black\" d=\"M107.35,-288.76C111.62,-280.46 116.92,-270.15 121.73,-260.79\"/>\n",
       "<polygon fill=\"black\" stroke=\"black\" points=\"125.23,-262.64 126.7,-252.15 119.01,-259.44 125.23,-262.64\"/>\n",
       "</g>\n",
       "<!-- 4 -->\n",
       "<g id=\"node3\" class=\"node\">\n",
       "<title>4</title>\n",
       "<ellipse fill=\"none\" stroke=\"black\" cx=\"63\" cy=\"-162\" rx=\"27\" ry=\"18\"/>\n",
       "<text text-anchor=\"middle\" x=\"63\" y=\"-156.95\" font-family=\"Times,serif\" font-size=\"14.00\">1</text>\n",
       "</g>\n",
       "<!-- 1&#45;&gt;4 -->\n",
       "<g id=\"edge2\" class=\"edge\">\n",
       "<title>1&#45;&gt;4</title>\n",
       "<path fill=\"none\" stroke=\"black\" d=\"M63,-215.7C63,-208.24 63,-199.32 63,-190.97\"/>\n",
       "<polygon fill=\"black\" stroke=\"black\" points=\"66.5,-191.1 63,-181.1 59.5,-191.1 66.5,-191.1\"/>\n",
       "</g>\n",
       "<!-- 9 -->\n",
       "<g id=\"node4\" class=\"node\">\n",
       "<title>9</title>\n",
       "<ellipse fill=\"none\" stroke=\"black\" cx=\"27\" cy=\"-90\" rx=\"27\" ry=\"18\"/>\n",
       "<text text-anchor=\"middle\" x=\"27\" y=\"-84.95\" font-family=\"Times,serif\" font-size=\"14.00\">1</text>\n",
       "</g>\n",
       "<!-- 4&#45;&gt;9 -->\n",
       "<g id=\"edge3\" class=\"edge\">\n",
       "<title>4&#45;&gt;9</title>\n",
       "<path fill=\"none\" stroke=\"black\" d=\"M54.65,-144.76C50.38,-136.46 45.08,-126.15 40.27,-116.79\"/>\n",
       "<polygon fill=\"black\" stroke=\"black\" points=\"42.99,-115.44 35.3,-108.15 36.77,-118.64 42.99,-115.44\"/>\n",
       "</g>\n",
       "<!-- 10 -->\n",
       "<g id=\"node6\" class=\"node\">\n",
       "<title>10</title>\n",
       "<ellipse fill=\"none\" stroke=\"black\" cx=\"99\" cy=\"-90\" rx=\"27\" ry=\"18\"/>\n",
       "<text text-anchor=\"middle\" x=\"99\" y=\"-84.95\" font-family=\"Times,serif\" font-size=\"14.00\">1</text>\n",
       "</g>\n",
       "<!-- 4&#45;&gt;10 -->\n",
       "<g id=\"edge5\" class=\"edge\">\n",
       "<title>4&#45;&gt;10</title>\n",
       "<path fill=\"none\" stroke=\"black\" d=\"M71.35,-144.76C75.62,-136.46 80.92,-126.15 85.73,-116.79\"/>\n",
       "<polygon fill=\"black\" stroke=\"black\" points=\"89.23,-118.64 90.7,-108.15 83.01,-115.44 89.23,-118.64\"/>\n",
       "</g>\n",
       "<!-- 20 -->\n",
       "<g id=\"node5\" class=\"node\">\n",
       "<title>20</title>\n",
       "<ellipse fill=\"none\" stroke=\"black\" cx=\"27\" cy=\"-18\" rx=\"27\" ry=\"18\"/>\n",
       "<text text-anchor=\"middle\" x=\"27\" y=\"-12.95\" font-family=\"Times,serif\" font-size=\"14.00\">1</text>\n",
       "</g>\n",
       "<!-- 9&#45;&gt;20 -->\n",
       "<g id=\"edge4\" class=\"edge\">\n",
       "<title>9&#45;&gt;20</title>\n",
       "<path fill=\"none\" stroke=\"black\" d=\"M27,-71.7C27,-64.24 27,-55.32 27,-46.97\"/>\n",
       "<polygon fill=\"black\" stroke=\"black\" points=\"30.5,-47.1 27,-37.1 23.5,-47.1 30.5,-47.1\"/>\n",
       "</g>\n",
       "</g>\n",
       "</svg>\n"
      ],
      "text/plain": [
       "<graphviz.graphs.Digraph at 0x7fe7ce670640>"
      ]
     },
     "execution_count": 4,
     "metadata": {},
     "output_type": "execute_result"
    }
   ],
   "source": [
    "tree1 = build_tree(iter([1,1,1,None,1,None,None,1,1,None,1]))\n",
    "plot_tree(tree1)"
   ]
  },
  {
   "cell_type": "code",
   "execution_count": 5,
   "id": "eaf11a73-e349-48c7-965e-ad2c68ed78e5",
   "metadata": {},
   "outputs": [
    {
     "name": "stdout",
     "output_type": "stream",
     "text": [
      "CPU times: user 26 µs, sys: 4 µs, total: 30 µs\n",
      "Wall time: 31.7 µs\n"
     ]
    },
    {
     "data": {
      "text/plain": [
       "4"
      ]
     },
     "execution_count": 5,
     "metadata": {},
     "output_type": "execute_result"
    }
   ],
   "source": [
    "%%time\n",
    "solution = Solution()\n",
    "solution.longestZigZag(tree1)"
   ]
  }
 ],
 "metadata": {
  "kernelspec": {
   "display_name": "Python 3 (ipykernel)",
   "language": "python",
   "name": "python3"
  },
  "language_info": {
   "codemirror_mode": {
    "name": "ipython",
    "version": 3
   },
   "file_extension": ".py",
   "mimetype": "text/x-python",
   "name": "python",
   "nbconvert_exporter": "python",
   "pygments_lexer": "ipython3",
   "version": "3.9.12"
  }
 },
 "nbformat": 4,
 "nbformat_minor": 5
}
