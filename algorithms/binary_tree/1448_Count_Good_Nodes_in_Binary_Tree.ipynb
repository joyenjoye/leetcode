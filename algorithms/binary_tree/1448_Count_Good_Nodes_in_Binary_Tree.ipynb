{
 "cells": [
  {
   "cell_type": "markdown",
   "id": "46ec06fb-cb68-4b4f-9079-3b6395d418c9",
   "metadata": {
    "tags": []
   },
   "source": [
    "## 1448. Count Good Nodes in Binary Tree\n",
    "\n",
    "<div class=\"elfjS\" data-track-load=\"description_content\"><p>Given a binary tree <code>root</code>, a node <em>X</em> in the tree is named&nbsp;<strong>good</strong> if in the path from root to <em>X</em> there are no nodes with a value <em>greater than</em> X.</p>\n",
    "\n",
    "<p>Return the number of <strong>good</strong> nodes in the binary tree.</p>\n",
    "\n",
    "<p>&nbsp;</p>\n",
    "<p><strong class=\"example\">Example 1:</strong></p>\n",
    "\n",
    "<p><strong><img alt=\"\" src=\"https://assets.leetcode.com/uploads/2020/04/02/test_sample_1.png\" style=\"width: 263px; height: 156px;\"></strong></p>\n",
    "\n",
    "<pre><strong>Input:</strong> root = [3,1,4,3,null,1,5]\n",
    "<strong>Output:</strong> 4\n",
    "<strong>Explanation:</strong> Nodes in blue are <strong>good</strong>.\n",
    "Root Node (3) is always a good node.\n",
    "Node 4 -&gt; (3,4) is the maximum value in the path starting from the root.\n",
    "Node 5 -&gt; (3,4,5) is the maximum value in the path\n",
    "Node 3 -&gt; (3,1,3) is the maximum value in the path.</pre>\n",
    "\n",
    "<p><strong class=\"example\">Example 2:</strong></p>\n",
    "\n",
    "<p><strong><img alt=\"\" src=\"https://assets.leetcode.com/uploads/2020/04/02/test_sample_2.png\" style=\"width: 157px; height: 161px;\"></strong></p>\n",
    "\n",
    "<pre><strong>Input:</strong> root = [3,3,null,4,2]\n",
    "<strong>Output:</strong> 3\n",
    "<strong>Explanation:</strong> Node 2 -&gt; (3, 3, 2) is not good, because \"3\" is higher than it.</pre>\n",
    "\n",
    "<p><strong class=\"example\">Example 3:</strong></p>\n",
    "\n",
    "<pre><strong>Input:</strong> root = [1]\n",
    "<strong>Output:</strong> 1\n",
    "<strong>Explanation:</strong> Root is considered as <strong>good</strong>.</pre>\n",
    "\n",
    "<p>&nbsp;</p>\n",
    "<p><strong>Constraints:</strong></p>\n",
    "\n",
    "<ul>\n",
    "\t<li>The number of nodes in the binary tree is in the range&nbsp;<code>[1, 10^5]</code>.</li>\n",
    "\t<li>Each node's value is between <code>[-10^4, 10^4]</code>.</li>\n",
    "</ul></div>"
   ]
  },
  {
   "cell_type": "code",
   "execution_count": 1,
   "id": "2fa34cbb-9c71-49fa-8d0e-78972dce7cea",
   "metadata": {},
   "outputs": [],
   "source": [
    "import numpy as np\n",
    "from typing import List, Optional\n",
    "%load_ext memory_magics\n",
    "\n",
    "# Definition for a binary tree node.\n",
    "class TreeNode:\n",
    "    def __init__(self, val=0, left=None, right=None):\n",
    "        self.val = val\n",
    "        self.left = left\n",
    "        self.right = right"
   ]
  },
  {
   "cell_type": "code",
   "execution_count": 2,
   "id": "3335c04e-e6c6-45cf-8f8e-f097ce41e8e9",
   "metadata": {},
   "outputs": [],
   "source": [
    "from graphviz import Digraph\n",
    "from collections import deque \n",
    "\n",
    "def build_tree(values):\n",
    "    if not values:\n",
    "        return None\n",
    "    iter_values = iter(values)\n",
    "    root = TreeNode(next(iter_values))\n",
    "    queue = deque([root])\n",
    "    while queue:\n",
    "        node = queue.popleft()\n",
    "        try:\n",
    "            left_val = next(iter_values)\n",
    "            if left_val is not None:\n",
    "                node.left = TreeNode(left_val)\n",
    "                queue.append(node.left)\n",
    "            right_val = next(iter_values)\n",
    "            if right_val is not None:\n",
    "                node.right = TreeNode(right_val)\n",
    "                queue.append(node.right)\n",
    "        except StopIteration:\n",
    "            break\n",
    "    return root\n",
    "\n",
    "def plot_tree(node, graph=None, node_id=0):\n",
    "    if graph is None:\n",
    "        graph = Digraph()\n",
    "        graph.attr(size='8,8')\n",
    "    if node is not None:\n",
    "        graph.node(str(node_id), str(node.val))\n",
    "        if node.left:\n",
    "            graph.edge(str(node_id), str(2 * node_id + 1))\n",
    "            plot_tree(node.left, graph, 2 * node_id + 1)\n",
    "        if node.right:\n",
    "            graph.edge(str(node_id), str(2 * node_id + 2))\n",
    "            plot_tree(node.right, graph, 2 * node_id + 2)\n",
    "    return graph"
   ]
  },
  {
   "cell_type": "markdown",
   "id": "744d8325-a9d7-496a-8815-8c397b872b82",
   "metadata": {
    "tags": []
   },
   "source": [
    "## Solution 1"
   ]
  },
  {
   "cell_type": "code",
   "execution_count": 3,
   "id": "a1eae05a-240b-4ede-b1e2-563b0feff465",
   "metadata": {},
   "outputs": [],
   "source": [
    "class Solution:\n",
    "    def goodNodes(self, root: TreeNode) -> int:\n",
    "        n = 1\n",
    "        if root.left is None and root.right is None:\n",
    "            return 1\n",
    "\n",
    "        if root.left is not None:\n",
    "            if root.left.val>=root.val:\n",
    "                n+=1\n",
    "            else:\n",
    "                root.left.val=root.val\n",
    "            n += self.goodNodes(root.left)-1\n",
    "        if root.right is not None:\n",
    "            if root.right.val>=root.val:\n",
    "                n+=1\n",
    "            else:\n",
    "                root.right.val=root.val\n",
    "            n += self.goodNodes(root.right)-1\n",
    "        return n\n",
    "        "
   ]
  },
  {
   "cell_type": "code",
   "execution_count": 4,
   "id": "26aa6a0b-076c-4e04-b7e5-f508e338870f",
   "metadata": {},
   "outputs": [
    {
     "data": {
      "image/svg+xml": [
       "<?xml version=\"1.0\" encoding=\"UTF-8\" standalone=\"no\"?>\n",
       "<!DOCTYPE svg PUBLIC \"-//W3C//DTD SVG 1.1//EN\"\n",
       " \"http://www.w3.org/Graphics/SVG/1.1/DTD/svg11.dtd\">\n",
       "<!-- Generated by graphviz version 8.0.4 (20230421.1958)\n",
       " -->\n",
       "<!-- Pages: 1 -->\n",
       "<svg width=\"62pt\" height=\"188pt\"\n",
       " viewBox=\"0.00 0.00 62.00 188.00\" xmlns=\"http://www.w3.org/2000/svg\" xmlns:xlink=\"http://www.w3.org/1999/xlink\">\n",
       "<g id=\"graph0\" class=\"graph\" transform=\"scale(1 1) rotate(0) translate(4 184)\">\n",
       "<polygon fill=\"white\" stroke=\"none\" points=\"-4,4 -4,-184 58,-184 58,4 -4,4\"/>\n",
       "<!-- 0 -->\n",
       "<g id=\"node1\" class=\"node\">\n",
       "<title>0</title>\n",
       "<ellipse fill=\"none\" stroke=\"black\" cx=\"27\" cy=\"-162\" rx=\"27\" ry=\"18\"/>\n",
       "<text text-anchor=\"middle\" x=\"27\" y=\"-156.95\" font-family=\"Times,serif\" font-size=\"14.00\">9</text>\n",
       "</g>\n",
       "<!-- 2 -->\n",
       "<g id=\"node2\" class=\"node\">\n",
       "<title>2</title>\n",
       "<ellipse fill=\"none\" stroke=\"black\" cx=\"27\" cy=\"-90\" rx=\"27\" ry=\"18\"/>\n",
       "<text text-anchor=\"middle\" x=\"27\" y=\"-84.95\" font-family=\"Times,serif\" font-size=\"14.00\">3</text>\n",
       "</g>\n",
       "<!-- 0&#45;&gt;2 -->\n",
       "<g id=\"edge1\" class=\"edge\">\n",
       "<title>0&#45;&gt;2</title>\n",
       "<path fill=\"none\" stroke=\"black\" d=\"M27,-143.7C27,-136.24 27,-127.32 27,-118.97\"/>\n",
       "<polygon fill=\"black\" stroke=\"black\" points=\"30.5,-119.1 27,-109.1 23.5,-119.1 30.5,-119.1\"/>\n",
       "</g>\n",
       "<!-- 5 -->\n",
       "<g id=\"node3\" class=\"node\">\n",
       "<title>5</title>\n",
       "<ellipse fill=\"none\" stroke=\"black\" cx=\"27\" cy=\"-18\" rx=\"27\" ry=\"18\"/>\n",
       "<text text-anchor=\"middle\" x=\"27\" y=\"-12.95\" font-family=\"Times,serif\" font-size=\"14.00\">6</text>\n",
       "</g>\n",
       "<!-- 2&#45;&gt;5 -->\n",
       "<g id=\"edge2\" class=\"edge\">\n",
       "<title>2&#45;&gt;5</title>\n",
       "<path fill=\"none\" stroke=\"black\" d=\"M27,-71.7C27,-64.24 27,-55.32 27,-46.97\"/>\n",
       "<polygon fill=\"black\" stroke=\"black\" points=\"30.5,-47.1 27,-37.1 23.5,-47.1 30.5,-47.1\"/>\n",
       "</g>\n",
       "</g>\n",
       "</svg>\n"
      ],
      "text/plain": [
       "<graphviz.graphs.Digraph at 0x7f97737778b0>"
      ]
     },
     "execution_count": 4,
     "metadata": {},
     "output_type": "execute_result"
    }
   ],
   "source": [
    "tree1 = build_tree(iter([9,None,3,6]))\n",
    "plot_tree(tree1)"
   ]
  },
  {
   "cell_type": "code",
   "execution_count": 5,
   "id": "eaf11a73-e349-48c7-965e-ad2c68ed78e5",
   "metadata": {},
   "outputs": [
    {
     "name": "stdout",
     "output_type": "stream",
     "text": [
      "CPU times: user 34 µs, sys: 8 µs, total: 42 µs\n",
      "Wall time: 46.7 µs\n"
     ]
    },
    {
     "data": {
      "text/plain": [
       "1"
      ]
     },
     "execution_count": 5,
     "metadata": {},
     "output_type": "execute_result"
    }
   ],
   "source": [
    "%%time\n",
    "solution = Solution()\n",
    "solution.goodNodes(tree1)"
   ]
  },
  {
   "cell_type": "markdown",
   "id": "98bf1118-1f64-4f04-9642-ad83c5cfebeb",
   "metadata": {
    "tags": []
   },
   "source": [
    "## Solution 2"
   ]
  },
  {
   "cell_type": "code",
   "execution_count": 6,
   "id": "0cd3c0ff-e7a9-4552-8240-b65ed3b8ebdb",
   "metadata": {},
   "outputs": [],
   "source": [
    "class Solution:\n",
    "    def goodNodes(self, root: TreeNode) -> int:\n",
    "        # Stack for DFS: (node, max_val) where max_val is the max value in the path from the root to the current node\n",
    "        stack = [(root, root.val)]\n",
    "        good_nodes_count = 0\n",
    "        \n",
    "        while stack:\n",
    "            node, max_val = stack.pop()\n",
    "            \n",
    "            # Check if the current node is a good node\n",
    "            if node.val >= max_val:\n",
    "                good_nodes_count += 1\n",
    "            \n",
    "            # Update max_val to be the maximum of max_val and the current node's value\n",
    "            new_max_val = max(max_val, node.val)\n",
    "            \n",
    "            # Add children to stack with the updated max_val\n",
    "            if node.right:\n",
    "                stack.append((node.right, new_max_val))\n",
    "            if node.left:\n",
    "                stack.append((node.left, new_max_val))\n",
    "        \n",
    "        return good_nodes_count\n",
    "    "
   ]
  },
  {
   "cell_type": "code",
   "execution_count": 7,
   "id": "ba51a5b1-8bd3-49a0-bd9f-9444ab9b4b78",
   "metadata": {},
   "outputs": [
    {
     "name": "stdout",
     "output_type": "stream",
     "text": [
      "CPU times: user 21 µs, sys: 1 µs, total: 22 µs\n",
      "Wall time: 23.6 µs\n"
     ]
    },
    {
     "data": {
      "text/plain": [
       "3"
      ]
     },
     "execution_count": 7,
     "metadata": {},
     "output_type": "execute_result"
    }
   ],
   "source": [
    "%%time\n",
    "solution = Solution()\n",
    "solution.goodNodes(tree1)"
   ]
  }
 ],
 "metadata": {
  "kernelspec": {
   "display_name": "Python 3 (ipykernel)",
   "language": "python",
   "name": "python3"
  },
  "language_info": {
   "codemirror_mode": {
    "name": "ipython",
    "version": 3
   },
   "file_extension": ".py",
   "mimetype": "text/x-python",
   "name": "python",
   "nbconvert_exporter": "python",
   "pygments_lexer": "ipython3",
   "version": "3.9.12"
  }
 },
 "nbformat": 4,
 "nbformat_minor": 5
}
