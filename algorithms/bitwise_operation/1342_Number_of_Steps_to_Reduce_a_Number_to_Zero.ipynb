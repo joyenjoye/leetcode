{
 "cells": [
  {
   "cell_type": "markdown",
   "id": "c7654375-bf42-474e-91f5-55d236f2857a",
   "metadata": {},
   "source": [
    "23May12: 1,141,786"
   ]
  },
  {
   "cell_type": "code",
   "execution_count": 2,
   "id": "420873de-b12a-4b28-bdee-70e98ddd1205",
   "metadata": {},
   "outputs": [
    {
     "name": "stdout",
     "output_type": "stream",
     "text": [
      "41 out of 2678 \n"
     ]
    }
   ],
   "source": [
    "print(\"%s out of %s \" %(41, 663+1423+592))"
   ]
  },
  {
   "cell_type": "markdown",
   "id": "75ffeeb7-6dd4-4398-8936-2cb018fd59ca",
   "metadata": {},
   "source": [
    "## Solution 1\n",
    "|  Python3  |         |  |\n",
    "|:--------:|:-------:|---------------|\n",
    "| 运行时长(ms) |57 |   5.51|\n",
    "|   内存消耗(mb)      | 16.3  | 11.24\n"
   ]
  },
  {
   "cell_type": "code",
   "execution_count": 4,
   "id": "b9ad9843-b7d7-4126-98c2-4f714b00b5db",
   "metadata": {},
   "outputs": [],
   "source": [
    "class Solution:\n",
    "    def numberOfSteps(self, num: int) -> int:\n",
    "        n_steps = 0\n",
    "        while num >0:\n",
    "            if num%2 ==1:\n",
    "                num = num -1\n",
    "            else:\n",
    "                num = num//2\n",
    "            n_steps +=1\n",
    "        return n_steps"
   ]
  }
 ],
 "metadata": {
  "kernelspec": {
   "display_name": "Python 3 (ipykernel)",
   "language": "python",
   "name": "python3"
  },
  "language_info": {
   "codemirror_mode": {
    "name": "ipython",
    "version": 3
   },
   "file_extension": ".py",
   "mimetype": "text/x-python",
   "name": "python",
   "nbconvert_exporter": "python",
   "pygments_lexer": "ipython3",
   "version": "3.9.12"
  }
 },
 "nbformat": 4,
 "nbformat_minor": 5
}
