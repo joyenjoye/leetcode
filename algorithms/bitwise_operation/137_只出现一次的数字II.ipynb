{
 "cells": [
  {
   "cell_type": "markdown",
   "metadata": {},
   "source": [
    "https://leetcode-cn.com/problems/single-number-ii/"
   ]
  },
  {
   "cell_type": "code",
   "execution_count": 2,
   "metadata": {},
   "outputs": [],
   "source": [
    "from typing import List"
   ]
  },
  {
   "cell_type": "markdown",
   "metadata": {},
   "source": [
    "## Solution 1: 使用位运算\n",
    "\n",
    "https://leetcode-cn.com/problems/single-number-ii/solution/zhi-chu-xian-yi-ci-de-shu-zi-ii-by-leetc-23t6/\n",
    "\n",
    "\n",
    "|  Python3  |         |  |\n",
    "|:--------:|:-------:|---------------|\n",
    "| 运行时长(ms) |  96|        23.08%  |\n",
    "|   内存消耗(mb)       |  15.8 | 88.54%  "
   ]
  },
  {
   "cell_type": "code",
   "execution_count": null,
   "metadata": {},
   "outputs": [],
   "source": [
    "class Solution:\n",
    "    def singleNumber(self, nums: List[int]) -> int:\n",
    "        ans = 0\n",
    "        for i in range(32):\n",
    "            #num >> i 判断第i二进制位是否为1\n",
    "            #求和代表nums所有位第i个i二进制位为1的个数\n",
    "            total = sum((num >> i) & 1 for num in nums)\n",
    "\n",
    "            #如果第i个二进制位的个数不是3的倍数\n",
    "            #则说明“只出现一次的这个数”在第i个二进制位为1\n",
    "            #为什么呢？因为除去“只出现一次的这个数”，其他数字都出现3次\n",
    "            #而每个数字的i个二进制位要么为0：3*0=0，0%3 = 0.\n",
    "            #要么为1：3*1=0，3%3 = 0.\n",
    "\n",
    "            if total % 3:\n",
    "                # 因为“只出现一次的这个数”在第i个二进制位为1 \n",
    "                # 把加入到结果ans中\n",
    "                # 1 << i 生成一个第i进制位为1的数字. \n",
    "\n",
    "                # 当i不等于31时，ans |= (1 << i)将这个数与ans做进制位的或运算“｜”。\n",
    "                # 因为 1 << i 这个数只在第i进制位为1，而ans的第i进制位为0. \n",
    "                # 这里的或运算“｜”本质其实就是在做加法\n",
    "\n",
    "                # 当i等于31时. 1 << 31. 在python中为2的31次方。\n",
    "                # 而在其他语言中（C++/java/Javascript/Golang/C）\n",
    "                # 因为最高位代表补码意义下的符号位,其等于-2的31次方\n",
    "                # 因此这里需要对i=32时特殊处理，对1 << i 取负，换而言之，用ans去减，而不是+。\n",
    "                if i == 31:\n",
    "                    ans -= (1 << i)\n",
    "                else:\n",
    "                    ans |= (1 << i)\n",
    "        return ans"
   ]
  },
  {
   "cell_type": "code",
   "execution_count": null,
   "metadata": {},
   "outputs": [],
   "source": [
    "class Solution:\n",
    "    def singleNumber(self, nums: List[int]) -> int:\n",
    "        ans = 0\n",
    "        for i in range(32):\n",
    "\n",
    "            total = sum((num >> i) & 1 for num in nums)\n",
    "\n",
    "            if total % 3:\n",
    "                if i == 31:\n",
    "                    ans -= (1 << i)\n",
    "                else:\n",
    "                    ans |= (1 << i)\n",
    "        return ans"
   ]
  },
  {
   "cell_type": "markdown",
   "metadata": {},
   "source": [
    "## Solution 2\n",
    "\n",
    "|  Python3  |         |  |\n",
    "|:--------:|:-------:|---------------|\n",
    "| 运行时长(ms) | 28| 97.33%        |\n",
    "|   内存消耗(mb)       | 16.1 | 32.11%     "
   ]
  },
  {
   "cell_type": "code",
   "execution_count": 3,
   "metadata": {},
   "outputs": [],
   "source": [
    "class Solution:\n",
    "    def singleNumber(self, nums: List[int]) -> int:\n",
    "        nums.sort()\n",
    "        k = 0\n",
    "        for i in range(1,len(nums)):\n",
    "            if nums[i]-nums[i-1]>0:\n",
    "                k +=1\n",
    "            else: \n",
    "                k = 0\n",
    "            if k>1:\n",
    "                return nums[i-1]\n",
    "        if k==0:\n",
    "            return nums[0]\n",
    "        else:\n",
    "            return nums[-1]\n"
   ]
  },
  {
   "cell_type": "markdown",
   "metadata": {},
   "source": [
    "## Solution 3\n",
    "\n",
    "|  Python3  |         |  |\n",
    "|:--------:|:-------:|---------------|\n",
    "| 运行时长(ms) | 996  | 5.00%        |\n",
    "|   内存消耗(mb)       | 16 | 52.21%        |"
   ]
  },
  {
   "cell_type": "code",
   "execution_count": 4,
   "metadata": {},
   "outputs": [],
   "source": [
    "class Solution:\n",
    "    def singleNumber(self, nums: List[int]) -> int:\n",
    "        while True:\n",
    "            if nums[0] in nums[1:]:\n",
    "                item = nums.pop(0)\n",
    "                nums.remove(item)\n",
    "                nums.remove(item)\n",
    "            else:\n",
    "                return nums[0]\n"
   ]
  }
 ],
 "metadata": {
  "interpreter": {
   "hash": "762306bead03dc84e16aee56f31f40b1a0c18d71c74386c9334f6620b6a3216a"
  },
  "kernelspec": {
   "display_name": "Python 3.7.1 ('base')",
   "language": "python",
   "name": "python3"
  },
  "language_info": {
   "codemirror_mode": {
    "name": "ipython",
    "version": 3
   },
   "file_extension": ".py",
   "mimetype": "text/x-python",
   "name": "python",
   "nbconvert_exporter": "python",
   "pygments_lexer": "ipython3",
   "version": "3.8.11"
  },
  "orig_nbformat": 4
 },
 "nbformat": 4,
 "nbformat_minor": 2
}
