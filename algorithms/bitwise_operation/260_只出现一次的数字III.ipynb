{
 "cells": [
  {
   "cell_type": "markdown",
   "metadata": {},
   "source": [
    "https://leetcode-cn.com/problems/single-number-iii/"
   ]
  },
  {
   "cell_type": "code",
   "execution_count": 2,
   "metadata": {},
   "outputs": [],
   "source": [
    "from typing import List"
   ]
  },
  {
   "cell_type": "markdown",
   "metadata": {},
   "source": [
    "## Solution 1: 基于位运算\n",
    "\n",
    "|  Python3  |         |  |\n",
    "|:--------:|:-------:|---------------|\n",
    "| 运行时长(ms) | 32| 91.26%        |\n",
    "|   内存消耗(mb)       | 16.2 | 37.36%     "
   ]
  },
  {
   "cell_type": "code",
   "execution_count": 3,
   "metadata": {},
   "outputs": [],
   "source": [
    "class Solution:\n",
    "    def singleNumber(self, nums: List[int]) -> List[int]:\n",
    "\n",
    "        #先对nums里面的左右数字做异或运算得到curr\n",
    "        curr = 0\n",
    "        for i in nums:\n",
    "            curr = curr^i\n",
    "        \n",
    "        #检查curr的第k个二进制位，如果为1，则返回k的值\n",
    "        #为什么呢？因为除去2个“只出现一次的数”，其他数都出现2次，\n",
    "        #数与自己异或得到的结果为0，则在二进制位的每一位都为0\n",
    "        #如果第k位为1，则代表2个“只出现一次的数”在该进制位不同\n",
    "        for k in range(31,0,-1):\n",
    "            if (curr>>k)&1:\n",
    "                break\n",
    "\n",
    "        #已知2个“只出现一次的数”在第k进制位不同。\n",
    "        #其他数在第k进制位可能为1，可能为1.\n",
    "        #根据 (i>>k) & 1 判断第k位是否为1，将所有数分为两组\n",
    "        #对每组的内的数分别做异或，结果几位2个“只出现一次的数”\n",
    "\n",
    "        curr_ = 0\n",
    "        curr = 0\n",
    "        for i in nums:\n",
    "            if (i>>k) & 1:\n",
    "                curr^=i\n",
    "            else:\n",
    "                curr_^=i\n",
    "        return [curr,curr_]\n",
    "\n",
    "        \n"
   ]
  },
  {
   "cell_type": "markdown",
   "metadata": {},
   "source": [
    "## Solution 2：不使用位运算\n",
    "\n",
    "|  Python3  |         |  |\n",
    "|:--------:|:-------:|---------------|\n",
    "| 运行时长(ms) | 1484  | 5.51%        |\n",
    "|   内存消耗(mb)       | 16.4 | 11.50%        |"
   ]
  },
  {
   "cell_type": "code",
   "execution_count": null,
   "metadata": {},
   "outputs": [],
   "source": [
    "class Solution:\n",
    "    def singleNumber(self, nums: List[int]) -> List[int]:\n",
    "        res = []\n",
    "        while nums:\n",
    "            if nums[0] in nums[1:]:\n",
    "                item = nums.pop(0)\n",
    "                nums.remove(item)\n",
    "            else:\n",
    "                res.append(nums[0]) \n",
    "                item = nums.pop(0)\n",
    "        return res"
   ]
  }
 ],
 "metadata": {
  "interpreter": {
   "hash": "762306bead03dc84e16aee56f31f40b1a0c18d71c74386c9334f6620b6a3216a"
  },
  "kernelspec": {
   "display_name": "Python 3.7.1 ('base')",
   "language": "python",
   "name": "python3"
  },
  "language_info": {
   "codemirror_mode": {
    "name": "ipython",
    "version": 3
   },
   "file_extension": ".py",
   "mimetype": "text/x-python",
   "name": "python",
   "nbconvert_exporter": "python",
   "pygments_lexer": "ipython3",
   "version": "3.8.11"
  },
  "orig_nbformat": 4
 },
 "nbformat": 4,
 "nbformat_minor": 2
}
