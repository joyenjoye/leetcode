{
 "cells": [
  {
   "cell_type": "markdown",
   "metadata": {},
   "source": [
    "https://leetcode-cn.com/problems/subsets/"
   ]
  },
  {
   "cell_type": "code",
   "execution_count": 2,
   "metadata": {},
   "outputs": [],
   "source": [
    "from typing import List"
   ]
  },
  {
   "cell_type": "markdown",
   "metadata": {},
   "source": [
    "## Solution 1: 基于位运算\n",
    "\n",
    "|  Python3  |         |  |\n",
    "|:--------:|:-------:|---------------|\n",
    "| 运行时长(ms) | 40| 23.83%        |\n",
    "|   内存消耗(mb)       | 15 | 85.63%     "
   ]
  },
  {
   "cell_type": "code",
   "execution_count": 3,
   "metadata": {},
   "outputs": [],
   "source": [
    "class Solution:\n",
    "    def subsets(self, nums: List[int]) -> List[List[int]]:\n",
    "        # 列表的长度\n",
    "        # 下面以nums = [1,2,3] 为例，n = 3\n",
    "        n = len(nums)\n",
    "\n",
    "        # 子集的个数 1 << n 代表2的n次方。\n",
    "        # nums = [1,2,3]的子集个数为2的3次方=8.\n",
    "        m = 1 << n\n",
    "\n",
    "        # nums = [1,2,3]的8个子集分别如下\n",
    "        # 第0个：[]      <=> 0的二进制表示为000\n",
    "        # 第1个：[1]     <=> 1的二进制表示为001\n",
    "        # 第2个：[2]     <=> 2的二进制表示为010\n",
    "        # 第3个：[1,2]   <=> 3的二进制表示为011\n",
    "        # 第4个：[3]     <=> 4的二进制表示为100   \n",
    "        # 第5个：[1,3]   <=> 5的二进制表示为101\n",
    "        # 第6个：[2,3]   <=> 6的二进制表示为110\n",
    "        # 第7个：[1,2,3] <=> 6的二进制表示为111\n",
    "\n",
    "        #观察规律发现，二进制位的左侧第一位为1，可表示nums的第零位加入当前子集\n",
    "        #依次类推二进制位的左侧第二位为1，可表示nums的第一位加入当前子集\n",
    "        #因此，对于第i个子集，我们可以遍历i的每个二进制位来获取。\n",
    "        #i >> j & 1 判断i的第j个二进制位是否位1\n",
    "\n",
    "        #空集和本身一定为子集， 先放入结果 [[], [1,2,3]]\n",
    "        #然后从1数到m-2. 在例子中则为1到6.\n",
    "\n",
    "\n",
    "        subset = [[], nums]\n",
    "        for i in range(1, m-1):\n",
    "            temp = []\n",
    "            for j in range(n):\n",
    "                if i >> j & 1:\n",
    "                    temp.append(nums[j])\n",
    "            subset.append(temp)\n",
    "        return subset\n"
   ]
  }
 ],
 "metadata": {
  "interpreter": {
   "hash": "762306bead03dc84e16aee56f31f40b1a0c18d71c74386c9334f6620b6a3216a"
  },
  "kernelspec": {
   "display_name": "Python 3.7.1 ('base')",
   "language": "python",
   "name": "python3"
  },
  "language_info": {
   "codemirror_mode": {
    "name": "ipython",
    "version": 3
   },
   "file_extension": ".py",
   "mimetype": "text/x-python",
   "name": "python",
   "nbconvert_exporter": "python",
   "pygments_lexer": "ipython3",
   "version": "3.8.11"
  },
  "orig_nbformat": 4
 },
 "nbformat": 4,
 "nbformat_minor": 2
}
