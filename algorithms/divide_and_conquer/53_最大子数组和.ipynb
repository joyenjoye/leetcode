{
 "cells": [
  {
   "cell_type": "markdown",
   "metadata": {},
   "source": [
    "https://leetcode-cn.com/problems/maximum-subarray/"
   ]
  },
  {
   "cell_type": "code",
   "execution_count": 3,
   "metadata": {},
   "outputs": [],
   "source": [
    "from typing import List"
   ]
  },
  {
   "cell_type": "markdown",
   "metadata": {},
   "source": [
    "## Solution 1: Using Divide and Conquer\n",
    "\n",
    "|  Python3  |         |  |\n",
    "|:--------:|:-------:|---------------|\n",
    "| 运行时长(ms) |  1996  |   5.01%  |\n",
    "|   内存消耗(mb)      | 25.7  |  48.04\n",
    "\n",
    "来源：[leetcode中文题解](https://leetcode-cn.com/problems/maximum-subarray/solution/dong-tai-gui-hua-fen-zhi-fa-python-dai-ma-java-dai/)"
   ]
  },
  {
   "cell_type": "code",
   "execution_count": null,
   "metadata": {},
   "outputs": [],
   "source": [
    "class Solution:\n",
    "    def maxSubArray(self, nums: List[int]) -> int:\n",
    "        size = len(nums)\n",
    "        if size == 0:\n",
    "            return 0\n",
    "        return self.__max_sub_array(nums, 0, size - 1)\n",
    "\n",
    "    def __max_sub_array(self, nums, left, right):\n",
    "        if left == right:\n",
    "            return nums[left]\n",
    "        mid = (left + right) >> 1\n",
    "        return max(self.__max_sub_array(nums, left, mid),\n",
    "                   self.__max_sub_array(nums, mid + 1, right),\n",
    "                   self.__max_cross_array(nums, left, mid, right))\n",
    "\n",
    "    def __max_cross_array(self, nums, left, mid, right):\n",
    "        # 一定包含 nums[mid] 元素的最大连续子数组的和，\n",
    "        # 思路是看看左边\"扩散到底\"，得到一个最大数，右边\"扩散到底\"得到一个最大数\n",
    "        # 然后再加上中间数\n",
    "        left_sum_max = 0\n",
    "        start_left = mid - 1\n",
    "        s1 = 0\n",
    "        while start_left >= left:\n",
    "            s1 += nums[start_left]\n",
    "            left_sum_max = max(left_sum_max, s1)\n",
    "            start_left -= 1\n",
    "\n",
    "        right_sum_max = 0\n",
    "        start_right = mid + 1\n",
    "        s2 = 0\n",
    "        while start_right <= right:\n",
    "            s2 += nums[start_right]\n",
    "            right_sum_max = max(right_sum_max, s2)\n",
    "            start_right += 1\n",
    "        return left_sum_max + nums[mid] + right_sum_max"
   ]
  },
  {
   "cell_type": "markdown",
   "metadata": {},
   "source": [
    "## Solution 2: Without Using Divide and Conquer\n",
    "\n",
    "\n",
    "|  Python3  |         |  |\n",
    "|:--------:|:-------:|---------------|\n",
    "| 运行时长(ms) | 112 |   92.68 |\n",
    "|   内存消耗(mb)      | 25.7  | 70.77\n",
    "\n",
    "来源： Joye's Solutions"
   ]
  },
  {
   "cell_type": "code",
   "execution_count": null,
   "metadata": {},
   "outputs": [],
   "source": [
    "class Solution:\n",
    "    def maxSubArray(self, nums: List[int]) -> int:\n",
    "        num = nums[0]\n",
    "        max_num = num\n",
    "        for i in range(1,len(nums)):\n",
    "            num+= nums[i]\n",
    "\n",
    "            if num<nums[i]:\n",
    "                num =nums[i]\n",
    "        \n",
    "            if num>max_num:\n",
    "                max_num = num\n",
    "                \n",
    "        return max_num"
   ]
  }
 ],
 "metadata": {
  "interpreter": {
   "hash": "762306bead03dc84e16aee56f31f40b1a0c18d71c74386c9334f6620b6a3216a"
  },
  "kernelspec": {
   "display_name": "Python 3.7.1 ('base')",
   "language": "python",
   "name": "python3"
  },
  "language_info": {
   "codemirror_mode": {
    "name": "ipython",
    "version": 3
   },
   "file_extension": ".py",
   "mimetype": "text/x-python",
   "name": "python",
   "nbconvert_exporter": "python",
   "pygments_lexer": "ipython3",
   "version": "3.7.1"
  },
  "orig_nbformat": 4
 },
 "nbformat": 4,
 "nbformat_minor": 2
}
