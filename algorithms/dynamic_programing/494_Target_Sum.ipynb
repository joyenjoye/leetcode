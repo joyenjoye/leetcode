{
 "cells": [
  {
   "cell_type": "markdown",
   "id": "46ec06fb-cb68-4b4f-9079-3b6395d418c9",
   "metadata": {
    "tags": []
   },
   "source": [
    "## 494. Target Sum\n",
    "<div class=\"elfjS\" data-track-load=\"description_content\"><p>You are given an integer array <code>nums</code> and an integer <code>target</code>.</p>\n",
    "\n",
    "<p>You want to build an <strong>expression</strong> out of nums by adding one of the symbols <code>'+'</code> and <code>'-'</code> before each integer in nums and then concatenate all the integers.</p>\n",
    "\n",
    "<ul>\n",
    "\t<li>For example, if <code>nums = [2, 1]</code>, you can add a <code>'+'</code> before <code>2</code> and a <code>'-'</code> before <code>1</code> and concatenate them to build the expression <code>\"+2-1\"</code>.</li>\n",
    "</ul>\n",
    "\n",
    "<p>Return the number of different <strong>expressions</strong> that you can build, which evaluates to <code>target</code>.</p>\n",
    "\n",
    "<p>&nbsp;</p>\n",
    "<p><strong class=\"example\">Example 1:</strong></p>\n",
    "\n",
    "<pre><strong>Input:</strong> nums = [1,1,1,1,1], target = 3\n",
    "<strong>Output:</strong> 5\n",
    "<strong>Explanation:</strong> There are 5 ways to assign symbols to make the sum of nums be target 3.\n",
    "-1 + 1 + 1 + 1 + 1 = 3\n",
    "+1 - 1 + 1 + 1 + 1 = 3\n",
    "+1 + 1 - 1 + 1 + 1 = 3\n",
    "+1 + 1 + 1 - 1 + 1 = 3\n",
    "+1 + 1 + 1 + 1 - 1 = 3\n",
    "</pre>\n",
    "\n",
    "<p><strong class=\"example\">Example 2:</strong></p>\n",
    "\n",
    "<pre><strong>Input:</strong> nums = [1], target = 1\n",
    "<strong>Output:</strong> 1\n",
    "</pre>\n",
    "\n",
    "<p>&nbsp;</p>\n",
    "<p><strong>Constraints:</strong></p>\n",
    "\n",
    "<ul>\n",
    "\t<li><code>1 &lt;= nums.length &lt;= 20</code></li>\n",
    "\t<li><code>0 &lt;= nums[i] &lt;= 1000</code></li>\n",
    "\t<li><code>0 &lt;= sum(nums[i]) &lt;= 1000</code></li>\n",
    "\t<li><code>-1000 &lt;= target &lt;= 1000</code></li>\n",
    "</ul>\n",
    "</div>\n"
   ]
  },
  {
   "cell_type": "code",
   "execution_count": 2,
   "id": "2fa34cbb-9c71-49fa-8d0e-78972dce7cea",
   "metadata": {},
   "outputs": [],
   "source": [
    "from typing import List\n",
    "%load_ext memory_magics"
   ]
  },
  {
   "cell_type": "markdown",
   "id": "744d8325-a9d7-496a-8815-8c397b872b82",
   "metadata": {},
   "source": [
    "## Solution 1"
   ]
  },
  {
   "cell_type": "code",
   "execution_count": 3,
   "id": "a1eae05a-240b-4ede-b1e2-563b0feff465",
   "metadata": {},
   "outputs": [],
   "source": [
    "class Solution:\n",
    "    def findTargetSumWays(self, nums: List[int], target: int) -> int:\n",
    "        dp = defaultdict(int)\n",
    "        dp[0] = 1  # Base case: one way to achieve sum 0 (doing nothing)\n",
    "\n",
    "        for num in nums:\n",
    "            next_dp = defaultdict(int)\n",
    "            for s in dp:\n",
    "                next_dp[s + num] += dp[s]\n",
    "                next_dp[s - num] += dp[s]\n",
    "            dp = next_dp  # Move to the next state\n",
    "        \n",
    "        return dp[target]"
   ]
  },
  {
   "cell_type": "code",
   "execution_count": null,
   "id": "eaf11a73-e349-48c7-965e-ad2c68ed78e5",
   "metadata": {},
   "outputs": [
    {
     "name": "stdout",
     "output_type": "stream",
     "text": [
      "RAM usage: line: 1.23 KiB / 13.79 KiB\n",
      "CPU times: user 14.3 ms, sys: 22.1 ms, total: 36.4 ms\n",
      "Wall time: 86.2 ms\n"
     ]
    }
   ],
   "source": [
    "%%time\n",
    "solution = Solution()\n",
    "%memory _ = solution.findTargetSumWays([1,1,1,1,1],3)"
   ]
  },
  {
   "cell_type": "markdown",
   "id": "f3780b0a-8280-46b8-87ca-fb98773daf2d",
   "metadata": {},
   "source": [
    "\n",
    "- **Time Complexity**: $O(N \\cdot S)$\n",
    "  - The algorithm iterates through each number in the `nums` list once, resulting in $O(N)$ iterations.\n",
    "  - Within each iteration, it performs operations on all possible sums. The range of sums is proportional to the sum of all elements in `nums`, which we denote as $S$.\n",
    "  - For each sum `s`, the algorithm performs constant time operations (addition and assignment).\n",
    "  - Therefore, the total time complexity is $O(N \\cdot S)$, where $S$ is the sum of all elements in `nums`.\n",
    "\n",
    "- **Space Complexity**: $O(S)$\n",
    "  - The algorithm uses a dictionary `dp` to store the number of ways to achieve each sum, which can grow up to $O(S)$ in size, where $S$ is the sum of all elements in `nums`.\n",
    "  - The `next_dp` dictionary is also of size $O(S)$.\n",
    "  - At any point, the maximum space used is proportional to the sum of elements in `nums`.\n",
    "  - Therefore, the space complexity is $O(S)$.\n"
   ]
  }
 ],
 "metadata": {
  "kernelspec": {
   "display_name": "Python 3 (ipykernel)",
   "language": "python",
   "name": "python3"
  },
  "language_info": {
   "codemirror_mode": {
    "name": "ipython",
    "version": 3
   },
   "file_extension": ".py",
   "mimetype": "text/x-python",
   "name": "python",
   "nbconvert_exporter": "python",
   "pygments_lexer": "ipython3",
   "version": "3.9.12"
  }
 },
 "nbformat": 4,
 "nbformat_minor": 5
}
