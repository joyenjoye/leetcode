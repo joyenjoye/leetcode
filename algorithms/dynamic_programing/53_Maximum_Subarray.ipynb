{
 "cells": [
  {
   "cell_type": "markdown",
   "id": "46ec06fb-cb68-4b4f-9079-3b6395d418c9",
   "metadata": {
    "tags": []
   },
   "source": [
    "## 53. Maximum Subarray\n",
    "\n",
    "<div class=\"elfjS\" data-track-load=\"description_content\"><p>Given an integer array <code>nums</code>, find the <span data-keyword=\"subarray-nonempty\" class=\" cursor-pointer relative text-dark-blue-s text-sm\"><div class=\"popover-wrapper inline-block\" data-headlessui-state=\"\"><div><div aria-expanded=\"false\" data-headlessui-state=\"\" id=\"headlessui-popover-button-:r47:\"><div>subarray</div></div><div style=\"position: fixed; z-index: 40; inset: 0px auto auto 0px; transform: translate(296px, 236px);\"></div></div></div></span> with the largest sum, and return <em>its sum</em>.</p>\n",
    "\n",
    "<p>&nbsp;</p>\n",
    "<p><strong class=\"example\">Example 1:</strong></p>\n",
    "\n",
    "<pre><strong>Input:</strong> nums = [-2,1,-3,4,-1,2,1,-5,4]\n",
    "<strong>Output:</strong> 6\n",
    "<strong>Explanation:</strong> The subarray [4,-1,2,1] has the largest sum 6.\n",
    "</pre>\n",
    "\n",
    "<p><strong class=\"example\">Example 2:</strong></p>\n",
    "\n",
    "<pre><strong>Input:</strong> nums = [1]\n",
    "<strong>Output:</strong> 1\n",
    "<strong>Explanation:</strong> The subarray [1] has the largest sum 1.\n",
    "</pre>\n",
    "\n",
    "<p><strong class=\"example\">Example 3:</strong></p>\n",
    "\n",
    "<pre><strong>Input:</strong> nums = [5,4,-1,7,8]\n",
    "<strong>Output:</strong> 23\n",
    "<strong>Explanation:</strong> The subarray [5,4,-1,7,8] has the largest sum 23.\n",
    "</pre>\n",
    "\n",
    "<p>&nbsp;</p>\n",
    "<p><strong>Constraints:</strong></p>\n",
    "\n",
    "<ul>\n",
    "\t<li><code>1 &lt;= nums.length &lt;= 10<sup>5</sup></code></li>\n",
    "\t<li><code>-10<sup>4</sup> &lt;= nums[i] &lt;= 10<sup>4</sup></code></li>\n",
    "</ul>\n",
    "\n",
    "<p>&nbsp;</p>\n",
    "<p><strong>Follow up:</strong> If you have figured out the <code>O(n)</code> solution, try coding another solution using the <strong>divide and conquer</strong> approach, which is more subtle.</p>\n",
    "</div>"
   ]
  },
  {
   "cell_type": "code",
   "execution_count": 1,
   "id": "2fa34cbb-9c71-49fa-8d0e-78972dce7cea",
   "metadata": {},
   "outputs": [],
   "source": [
    "from typing import List, Optional\n",
    "%load_ext memory_magics"
   ]
  },
  {
   "cell_type": "markdown",
   "id": "744d8325-a9d7-496a-8815-8c397b872b82",
   "metadata": {
    "tags": []
   },
   "source": [
    "## Solution 1"
   ]
  },
  {
   "cell_type": "code",
   "execution_count": 2,
   "id": "a1eae05a-240b-4ede-b1e2-563b0feff465",
   "metadata": {},
   "outputs": [],
   "source": [
    "class Solution:\n",
    "    def maxSubArray(self, nums: List[int]) -> int:\n",
    "        n = len(nums)\n",
    "        if n ==1:\n",
    "            return nums[0]\n",
    "        dp = [[0 for _ in range(n)] for _ in range(n)]\n",
    "        max_sum = nums[0]\n",
    "        for i in range(n):\n",
    "            for j in range(i,n):\n",
    "                if i==0:\n",
    "                    dp[i][j] = nums[j]\n",
    "                else:\n",
    "                    dp[i][j] = dp[i-1][j-1]+nums[j]    \n",
    "                max_sum = max(max_sum,dp[i][j])\n",
    "        return max_sum\n",
    "            "
   ]
  },
  {
   "cell_type": "code",
   "execution_count": 3,
   "id": "eaf11a73-e349-48c7-965e-ad2c68ed78e5",
   "metadata": {},
   "outputs": [
    {
     "name": "stdout",
     "output_type": "stream",
     "text": [
      "CPU times: user 105 µs, sys: 10 µs, total: 115 µs\n",
      "Wall time: 141 µs\n"
     ]
    },
    {
     "data": {
      "text/plain": [
       "6"
      ]
     },
     "execution_count": 3,
     "metadata": {},
     "output_type": "execute_result"
    }
   ],
   "source": [
    "%%time\n",
    "solution = Solution()\n",
    "solution.maxSubArray([-2,1,-3,4,-1,2,1,-5,4])"
   ]
  },
  {
   "cell_type": "markdown",
   "id": "98bf1118-1f64-4f04-9642-ad83c5cfebeb",
   "metadata": {
    "tags": []
   },
   "source": [
    "## Solution 2"
   ]
  },
  {
   "cell_type": "code",
   "execution_count": 4,
   "id": "104f0f87-42ed-40f4-a36e-3eb4d288928a",
   "metadata": {},
   "outputs": [],
   "source": [
    "class Solution:\n",
    "    def maxSubArray(self, nums: List[int]) -> int:\n",
    "        n = len(nums)\n",
    "        if n ==1:\n",
    "            return nums[0]\n",
    "        prev_row = [0 for _ in range(n)]\n",
    "        max_sum = nums[0]\n",
    "        for i in range(n):\n",
    "            curr_row = [0 for _ in range(n)]\n",
    "            for j in range(i,n):\n",
    "                if n ==0:\n",
    "                     curr_row[j] = nums[j]  \n",
    "                else:\n",
    "                    curr_row[j] = prev_row[j-1]+nums[j]   \n",
    "                max_sum = max(max_sum, curr_row[j])\n",
    "            prev_row = curr_row.copy()\n",
    "               \n",
    "        return max_sum\n",
    "            "
   ]
  },
  {
   "cell_type": "code",
   "execution_count": 5,
   "id": "ca77707f-8d19-49ed-a7f3-8c5497dee1ae",
   "metadata": {},
   "outputs": [
    {
     "name": "stdout",
     "output_type": "stream",
     "text": [
      "CPU times: user 93 µs, sys: 5 µs, total: 98 µs\n",
      "Wall time: 104 µs\n"
     ]
    },
    {
     "data": {
      "text/plain": [
       "6"
      ]
     },
     "execution_count": 5,
     "metadata": {},
     "output_type": "execute_result"
    }
   ],
   "source": [
    "%%time\n",
    "solution = Solution()\n",
    "solution.maxSubArray([-2,1,-3,4,-1,2,1,-5,4])"
   ]
  },
  {
   "cell_type": "markdown",
   "id": "9c3d608d-a19e-4a71-91ab-e39b4e763398",
   "metadata": {
    "tags": []
   },
   "source": [
    "## Solution 3"
   ]
  },
  {
   "cell_type": "code",
   "execution_count": 6,
   "id": "0cd3c0ff-e7a9-4552-8240-b65ed3b8ebdb",
   "metadata": {},
   "outputs": [],
   "source": [
    "class Solution:\n",
    "    def maxSubArray(self, nums: List[int]) -> int:\n",
    "        n = len(nums)\n",
    "        if n ==1:\n",
    "            return nums[0]\n",
    "        max_sum = curr_sum = nums[0]\n",
    "        for i in range(1,n):\n",
    "            curr_sum = max(curr_sum+nums[i], nums[i])\n",
    "            max_sum = max(curr_sum, max_sum)\n",
    "        return max_sum\n",
    "            "
   ]
  },
  {
   "cell_type": "code",
   "execution_count": 7,
   "id": "ba51a5b1-8bd3-49a0-bd9f-9444ab9b4b78",
   "metadata": {},
   "outputs": [
    {
     "name": "stdout",
     "output_type": "stream",
     "text": [
      "CPU times: user 82 µs, sys: 15 µs, total: 97 µs\n",
      "Wall time: 1.3 ms\n"
     ]
    },
    {
     "data": {
      "text/plain": [
       "6"
      ]
     },
     "execution_count": 7,
     "metadata": {},
     "output_type": "execute_result"
    }
   ],
   "source": [
    "%%time\n",
    "solution = Solution()\n",
    "solution.maxSubArray([-2,1,-3,4,-1,2,1,-5,4])"
   ]
  }
 ],
 "metadata": {
  "kernelspec": {
   "display_name": "Python 3 (ipykernel)",
   "language": "python",
   "name": "python3"
  },
  "language_info": {
   "codemirror_mode": {
    "name": "ipython",
    "version": 3
   },
   "file_extension": ".py",
   "mimetype": "text/x-python",
   "name": "python",
   "nbconvert_exporter": "python",
   "pygments_lexer": "ipython3",
   "version": "3.9.12"
  }
 },
 "nbformat": 4,
 "nbformat_minor": 5
}
