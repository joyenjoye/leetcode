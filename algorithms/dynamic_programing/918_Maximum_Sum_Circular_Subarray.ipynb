{
 "cells": [
  {
   "cell_type": "markdown",
   "id": "46ec06fb-cb68-4b4f-9079-3b6395d418c9",
   "metadata": {
    "tags": []
   },
   "source": [
    "## 918. Maximum Sum Circular Subarray\n",
    "\n",
    "<div class=\"elfjS\" data-track-load=\"description_content\"><p>Given a <strong>circular integer array</strong> <code>nums</code> of length <code>n</code>, return <em>the maximum possible sum of a non-empty <strong>subarray</strong> of </em><code>nums</code>.</p>\n",
    "\n",
    "<p>A <strong>circular array</strong> means the end of the array connects to the beginning of the array. Formally, the next element of <code>nums[i]</code> is <code>nums[(i + 1) % n]</code> and the previous element of <code>nums[i]</code> is <code>nums[(i - 1 + n) % n]</code>.</p>\n",
    "\n",
    "<p>A <strong>subarray</strong> may only include each element of the fixed buffer <code>nums</code> at most once. Formally, for a subarray <code>nums[i], nums[i + 1], ..., nums[j]</code>, there does not exist <code>i &lt;= k1</code>, <code>k2 &lt;= j</code> with <code>k1 % n == k2 % n</code>.</p>\n",
    "\n",
    "<p>&nbsp;</p>\n",
    "<p><strong class=\"example\">Example 1:</strong></p>\n",
    "\n",
    "<pre><strong>Input:</strong> nums = [1,-2,3,-2]\n",
    "<strong>Output:</strong> 3\n",
    "<strong>Explanation:</strong> Subarray [3] has maximum sum 3.\n",
    "</pre>\n",
    "\n",
    "<p><strong class=\"example\">Example 2:</strong></p>\n",
    "\n",
    "<pre><strong>Input:</strong> nums = [5,-3,5]\n",
    "<strong>Output:</strong> 10\n",
    "<strong>Explanation:</strong> Subarray [5,5] has maximum sum 5 + 5 = 10.\n",
    "</pre>\n",
    "\n",
    "<p><strong class=\"example\">Example 3:</strong></p>\n",
    "\n",
    "<pre><strong>Input:</strong> nums = [-3,-2,-3]\n",
    "<strong>Output:</strong> -2\n",
    "<strong>Explanation:</strong> Subarray [-2] has maximum sum -2.\n",
    "</pre>\n",
    "\n",
    "<p>&nbsp;</p>\n",
    "<p><strong>Constraints:</strong></p>\n",
    "\n",
    "<ul>\n",
    "\t<li><code>n == nums.length</code></li>\n",
    "\t<li><code>1 &lt;= n &lt;= 3 * 10<sup>4</sup></code></li>\n",
    "\t<li><code>-3 * 10<sup>4</sup> &lt;= nums[i] &lt;= 3 * 10<sup>4</sup></code></li>\n",
    "</ul>\n",
    "</div>"
   ]
  },
  {
   "cell_type": "code",
   "execution_count": 1,
   "id": "2fa34cbb-9c71-49fa-8d0e-78972dce7cea",
   "metadata": {},
   "outputs": [],
   "source": [
    "from typing import List, Optional\n",
    "%load_ext memory_magics"
   ]
  },
  {
   "cell_type": "markdown",
   "id": "744d8325-a9d7-496a-8815-8c397b872b82",
   "metadata": {
    "tags": []
   },
   "source": [
    "## Solution 1"
   ]
  },
  {
   "cell_type": "code",
   "execution_count": 2,
   "id": "a1eae05a-240b-4ede-b1e2-563b0feff465",
   "metadata": {},
   "outputs": [],
   "source": [
    "class Solution:\n",
    "    def maxSubArray(self, nums: List[int]) -> int:\n",
    "        n = len(nums)\n",
    "        if n ==1:\n",
    "            return nums[0]\n",
    "        max_sum = curr_sum = nums[0]\n",
    "        for i in range(1,n):\n",
    "            curr_sum = max(curr_sum+nums[i], nums[i])\n",
    "            max_sum = max(curr_sum, max_sum)\n",
    "        return max_sum\n",
    "    \n",
    "    def maxSubarraySumCircular(self, nums: List[int]) -> int:\n",
    "        n = len(nums)\n",
    "        max_sum = nums[0]\n",
    "        for i in range(n):\n",
    "            curr_nums = nums[i:n]+nums[:i]\n",
    "            max_sum = max(max_sum,self.maxSubArray(curr_nums))\n",
    "\n",
    "        return max_sum"
   ]
  },
  {
   "cell_type": "code",
   "execution_count": 3,
   "id": "eaf11a73-e349-48c7-965e-ad2c68ed78e5",
   "metadata": {},
   "outputs": [
    {
     "name": "stdout",
     "output_type": "stream",
     "text": [
      "CPU times: user 54 µs, sys: 5 µs, total: 59 µs\n",
      "Wall time: 62.9 µs\n"
     ]
    },
    {
     "data": {
      "text/plain": [
       "10"
      ]
     },
     "execution_count": 3,
     "metadata": {},
     "output_type": "execute_result"
    }
   ],
   "source": [
    "%%time\n",
    "solution = Solution()\n",
    "solution.maxSubarraySumCircular([5,-3,5])"
   ]
  },
  {
   "cell_type": "markdown",
   "id": "98bf1118-1f64-4f04-9642-ad83c5cfebeb",
   "metadata": {
    "tags": []
   },
   "source": [
    "## Solution 2"
   ]
  },
  {
   "cell_type": "code",
   "execution_count": 4,
   "id": "104f0f87-42ed-40f4-a36e-3eb4d288928a",
   "metadata": {},
   "outputs": [],
   "source": [
    "class Solution:\n",
    "    def maxSubarraySumCircular(self, nums: List[int]) -> int:\n",
    "        n = len(nums)\n",
    "        if n ==1:\n",
    "            return nums[0]\n",
    "        max_sum_=nums[0]\n",
    "        s = 0\n",
    "        while s<n:\n",
    "            max_sum = curr_sum = nums[s]\n",
    "            if nums[s]>=0:\n",
    "                j = s+1\n",
    "                while j<n+s:\n",
    "                    e = j%n\n",
    "                    if curr_sum+nums[e]>nums[e]:\n",
    "                        curr_sum = curr_sum+nums[e]\n",
    "                    else: \n",
    "                        curr_sum = nums[e]\n",
    "                    max_sum = max(curr_sum, max_sum) \n",
    "                    j = j +1\n",
    "                max_sum_ = max(max_sum_,max_sum)\n",
    "            else:\n",
    "                max_sum_ = max(max_sum_,max_sum)\n",
    "\n",
    "            s = s+1\n",
    "        return  max_sum_"
   ]
  },
  {
   "cell_type": "code",
   "execution_count": 5,
   "id": "ca77707f-8d19-49ed-a7f3-8c5497dee1ae",
   "metadata": {},
   "outputs": [
    {
     "name": "stdout",
     "output_type": "stream",
     "text": [
      "CPU times: user 36 µs, sys: 1e+03 ns, total: 37 µs\n",
      "Wall time: 42 µs\n"
     ]
    },
    {
     "data": {
      "text/plain": [
       "10"
      ]
     },
     "execution_count": 5,
     "metadata": {},
     "output_type": "execute_result"
    }
   ],
   "source": [
    "%%time\n",
    "solution = Solution()\n",
    "solution.maxSubarraySumCircular([5,-3,5])"
   ]
  },
  {
   "cell_type": "markdown",
   "id": "9c3d608d-a19e-4a71-91ab-e39b4e763398",
   "metadata": {
    "tags": []
   },
   "source": [
    "## Solution 3"
   ]
  },
  {
   "cell_type": "code",
   "execution_count": 6,
   "id": "0cd3c0ff-e7a9-4552-8240-b65ed3b8ebdb",
   "metadata": {},
   "outputs": [],
   "source": [
    "class Solution:\n",
    "    def maxSubArray(self, nums: List[int]) -> int:\n",
    "        max_sum = curr_sum = nums[0]\n",
    "        for num in nums[1:]:\n",
    "            curr_sum = max(num, curr_sum + num)\n",
    "            max_sum = max(max_sum, curr_sum)\n",
    "        return max_sum\n",
    "    \n",
    "    def maxSubarraySumCircular(self, nums: List[int]) -> int:\n",
    "        total_sum = sum(nums)\n",
    "        max_sum = self.maxSubArray(nums)\n",
    "        \n",
    "        # Invert the array to find the minimum subarray sum\n",
    "        min_sum = self.maxSubArray([-num for num in nums])\n",
    "        max_wraparound_sum = total_sum + min_sum  # equivalent to total_sum - (-min_sum)\n",
    "        \n",
    "        # Edge case where all elements are negative\n",
    "        if max_wraparound_sum == 0:\n",
    "            return max_sum\n",
    "        \n",
    "        return max(max_sum, max_wraparound_sum)\n"
   ]
  },
  {
   "cell_type": "code",
   "execution_count": 7,
   "id": "ba51a5b1-8bd3-49a0-bd9f-9444ab9b4b78",
   "metadata": {},
   "outputs": [
    {
     "name": "stdout",
     "output_type": "stream",
     "text": [
      "CPU times: user 29 µs, sys: 0 ns, total: 29 µs\n",
      "Wall time: 33.1 µs\n"
     ]
    },
    {
     "data": {
      "text/plain": [
       "-2"
      ]
     },
     "execution_count": 7,
     "metadata": {},
     "output_type": "execute_result"
    }
   ],
   "source": [
    "%%time\n",
    "solution = Solution()\n",
    "solution.maxSubarraySumCircular([-3,-2,-3])"
   ]
  }
 ],
 "metadata": {
  "kernelspec": {
   "display_name": "Python 3 (ipykernel)",
   "language": "python",
   "name": "python3"
  },
  "language_info": {
   "codemirror_mode": {
    "name": "ipython",
    "version": 3
   },
   "file_extension": ".py",
   "mimetype": "text/x-python",
   "name": "python",
   "nbconvert_exporter": "python",
   "pygments_lexer": "ipython3",
   "version": "3.9.12"
  }
 },
 "nbformat": 4,
 "nbformat_minor": 5
}
