{
 "cells": [
  {
   "cell_type": "markdown",
   "id": "bcde21cc-d635-4062-99b9-4e313eec3c66",
   "metadata": {},
   "source": [
    "23May15: 1,112,048"
   ]
  },
  {
   "cell_type": "code",
   "execution_count": 1,
   "id": "bd7a8fd4-e15f-4168-bc8a-14a4c7e924c8",
   "metadata": {},
   "outputs": [
    {
     "name": "stdout",
     "output_type": "stream",
     "text": [
      "44 out of 2688 \n"
     ]
    }
   ],
   "source": [
    "print(\"%s out of %s \" %(44, 666+1429+593))"
   ]
  },
  {
   "cell_type": "markdown",
   "id": "996bff2d-a227-4f4c-ae57-7a4ff668b8fc",
   "metadata": {},
   "source": [
    "## Solution 1\n",
    "|  Python3  |         |  |\n",
    "|:--------:|:-------:|---------------|\n",
    "| 运行时长(ms) |41 |   22.93|\n",
    "|   内存消耗(mb)      | 16.3  | 15.8\n"
   ]
  },
  {
   "cell_type": "code",
   "execution_count": 3,
   "id": "de67fd7c-90a8-4eb4-bea8-c4d5ce1b73fc",
   "metadata": {},
   "outputs": [],
   "source": [
    "from typing import Optional"
   ]
  },
  {
   "cell_type": "code",
   "execution_count": 2,
   "id": "df7fda7f-8bba-47b9-8da2-75680d2defe5",
   "metadata": {},
   "outputs": [
    {
     "ename": "NameError",
     "evalue": "name 'Optional' is not defined",
     "output_type": "error",
     "traceback": [
      "\u001b[0;31m---------------------------------------------------------------------------\u001b[0m",
      "\u001b[0;31mNameError\u001b[0m                                 Traceback (most recent call last)",
      "Input \u001b[0;32mIn [2]\u001b[0m, in \u001b[0;36m<cell line: 7>\u001b[0;34m()\u001b[0m\n\u001b[1;32m      4\u001b[0m         \u001b[38;5;28mself\u001b[39m\u001b[38;5;241m.\u001b[39mval \u001b[38;5;241m=\u001b[39m val\n\u001b[1;32m      5\u001b[0m         \u001b[38;5;28mself\u001b[39m\u001b[38;5;241m.\u001b[39mnext \u001b[38;5;241m=\u001b[39m \u001b[38;5;28mnext\u001b[39m\n\u001b[0;32m----> 7\u001b[0m \u001b[38;5;28;01mclass\u001b[39;00m \u001b[38;5;21;01mSolution\u001b[39;00m:\n\u001b[1;32m      8\u001b[0m     \u001b[38;5;28;01mdef\u001b[39;00m \u001b[38;5;21mmiddleNode\u001b[39m(\u001b[38;5;28mself\u001b[39m, head: Optional[ListNode]) \u001b[38;5;241m-\u001b[39m\u001b[38;5;241m>\u001b[39m Optional[ListNode]:\n\u001b[1;32m      9\u001b[0m         i \u001b[38;5;241m=\u001b[39m \u001b[38;5;241m1\u001b[39m\n",
      "Input \u001b[0;32mIn [2]\u001b[0m, in \u001b[0;36mSolution\u001b[0;34m()\u001b[0m\n\u001b[1;32m      7\u001b[0m \u001b[38;5;28;01mclass\u001b[39;00m \u001b[38;5;21;01mSolution\u001b[39;00m:\n\u001b[0;32m----> 8\u001b[0m     \u001b[38;5;28;01mdef\u001b[39;00m \u001b[38;5;21mmiddleNode\u001b[39m(\u001b[38;5;28mself\u001b[39m, head: \u001b[43mOptional\u001b[49m[ListNode]) \u001b[38;5;241m-\u001b[39m\u001b[38;5;241m>\u001b[39m Optional[ListNode]:\n\u001b[1;32m      9\u001b[0m         i \u001b[38;5;241m=\u001b[39m \u001b[38;5;241m1\u001b[39m\n\u001b[1;32m     10\u001b[0m         temp \u001b[38;5;241m=\u001b[39m head\n",
      "\u001b[0;31mNameError\u001b[0m: name 'Optional' is not defined"
     ]
    }
   ],
   "source": [
    "# Definition for singly-linked list.\n",
    "class ListNode:\n",
    "    def __init__(self, val=0, next=None):\n",
    "        self.val = val\n",
    "        self.next = next\n",
    "        \n",
    "class Solution:\n",
    "    def middleNode(self, head: Optional[ListNode]) -> Optional[ListNode]:\n",
    "        i = 1\n",
    "        temp = head\n",
    "        while temp.next is not None:\n",
    "            temp = temp.next\n",
    "            i = i +1\n",
    "        if i%2==1:\n",
    "            j = (i+1)//2-1\n",
    "        else:\n",
    "            j = i//2\n",
    "        k = 0\n",
    "        while k<j:\n",
    "           head = head.next\n",
    "           k+=1\n",
    "        return head"
   ]
  },
  {
   "cell_type": "code",
   "execution_count": null,
   "id": "1871aa5d-9430-4a19-bff1-0e5cc54aa9f1",
   "metadata": {},
   "outputs": [],
   "source": []
  }
 ],
 "metadata": {
  "kernelspec": {
   "display_name": "Python 3 (ipykernel)",
   "language": "python",
   "name": "python3"
  },
  "language_info": {
   "codemirror_mode": {
    "name": "ipython",
    "version": 3
   },
   "file_extension": ".py",
   "mimetype": "text/x-python",
   "name": "python",
   "nbconvert_exporter": "python",
   "pygments_lexer": "ipython3",
   "version": "3.9.12"
  }
 },
 "nbformat": 4,
 "nbformat_minor": 5
}
