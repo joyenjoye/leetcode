{
 "cells": [
  {
   "cell_type": "markdown",
   "metadata": {},
   "source": [
    "https://leetcode-cn.com/problems/symmetric-tree/"
   ]
  },
  {
   "cell_type": "code",
   "execution_count": null,
   "metadata": {},
   "outputs": [],
   "source": [
    "class TreeNode:\n",
    "    def __init__(self, val=0, left=None, right=None):\n",
    "        self.val = val\n",
    "        self.left = left\n",
    "        self.right = right"
   ]
  },
  {
   "cell_type": "markdown",
   "metadata": {},
   "source": [
    "## Solution 1\n",
    "\n",
    "|  Python3  |         |   |  \n",
    "|:--------:|:-------:|------------ |  \n",
    "| 运行时长(ms) |40 |   40.2%   \n",
    "| 内存消耗(mb)  |15   |79.29% "
   ]
  },
  {
   "cell_type": "code",
   "execution_count": null,
   "metadata": {},
   "outputs": [],
   "source": [
    "class Solution:\n",
    "    from collections import deque\n",
    "\n",
    "    def isSymmetric(self, root: TreeNode) -> bool:\n",
    "\n",
    "        if not root.left and not root.right:\n",
    "            return True\n",
    "\n",
    "        elif not root.left or not root.right:\n",
    "            return False\n",
    "\n",
    "        elif root.left.val != root.right.val:\n",
    "            return False\n",
    "\n",
    "        layer_nodes = deque([(1, root.left), (1, root.right)])\n",
    "        layer_num = 1\n",
    "        layer_vals = []\n",
    "        while layer_nodes:\n",
    "            k, layer_node = layer_nodes.popleft()\n",
    "\n",
    "            if k > layer_num:\n",
    "                size = len(layer_vals)//2\n",
    "                for i in range(size):\n",
    "                    if layer_vals[i] != layer_vals[2*size-1-i]:\n",
    "                        return False\n",
    "                layer_vals = []\n",
    "                layer_num = k\n",
    "\n",
    "            if layer_node:\n",
    "                layer_nodes.append((k+1, layer_node.left))\n",
    "                layer_nodes.append((k+1, layer_node.right))\n",
    "\n",
    "            if layer_node:\n",
    "                layer_vals.append(layer_node.val)\n",
    "            else:\n",
    "                layer_vals.append(layer_node)\n",
    "\n",
    "        return True\n"
   ]
  }
 ],
 "metadata": {
  "interpreter": {
   "hash": "762306bead03dc84e16aee56f31f40b1a0c18d71c74386c9334f6620b6a3216a"
  },
  "kernelspec": {
   "display_name": "Python 3.7.1 ('base')",
   "language": "python",
   "name": "python3"
  },
  "language_info": {
   "codemirror_mode": {
    "name": "ipython",
    "version": 3
   },
   "file_extension": ".py",
   "mimetype": "text/x-python",
   "name": "python",
   "nbconvert_exporter": "python",
   "pygments_lexer": "ipython3",
   "version": "3.8.11"
  },
  "orig_nbformat": 4
 },
 "nbformat": 4,
 "nbformat_minor": 2
}
