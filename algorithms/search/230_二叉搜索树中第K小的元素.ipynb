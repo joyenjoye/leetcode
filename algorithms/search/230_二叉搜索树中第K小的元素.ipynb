{
 "cells": [
  {
   "cell_type": "markdown",
   "metadata": {},
   "source": [
    "https://leetcode-cn.com/problems/kth-smallest-element-in-a-bst/"
   ]
  },
  {
   "cell_type": "code",
   "execution_count": null,
   "metadata": {},
   "outputs": [],
   "source": [
    "from typing import Optional\n",
    "class TreeNode:\n",
    "    def __init__(self, val=0, left=None, right=None):\n",
    "        self.val = val\n",
    "        self.left = left\n",
    "        self.right = right"
   ]
  },
  {
   "cell_type": "markdown",
   "metadata": {},
   "source": [
    "## Solution 1\n",
    "\n",
    "|  Python3  |         |   |  \n",
    "|:--------:|:-------:|------------ |  \n",
    "| 运行时长(ms) |48 |   80.5%   \n",
    "| 内存消耗(mb)  |19.1   |16.11%"
   ]
  },
  {
   "cell_type": "code",
   "execution_count": null,
   "metadata": {},
   "outputs": [],
   "source": [
    "class Solution:\n",
    "    def inorder(self,root,k):\n",
    "        if root and self.j<k:\n",
    "            self.inorder(root.left,k)\n",
    "            self.j += 1\n",
    "            if self.j==k:\n",
    "                self.val += root.val\n",
    "            self.inorder(root.right,k)\n",
    "\n",
    "\n",
    "    def kthSmallest(self, root: Optional[TreeNode], k: int) -> int:\n",
    "        self.j = 0\n",
    "        self.val = 0\n",
    "        self.inorder(root,k)\n",
    "        return self.val"
   ]
  },
  {
   "cell_type": "markdown",
   "metadata": {},
   "source": [
    "## Solution 2\n",
    "\n",
    "|  Python3  |         |   |  \n",
    "|:--------:|:-------:|------------ |  \n",
    "| 运行时长(ms) |48 |   80.50%   \n",
    "| 内存消耗(mb)  |18.9   |40.38%"
   ]
  },
  {
   "cell_type": "code",
   "execution_count": null,
   "metadata": {},
   "outputs": [],
   "source": [
    "class Solution:\n",
    "    def inorder(self,root):\n",
    "        if root and self.k>0:\n",
    "            self.inorder(root.left)\n",
    "            self.k -= 1\n",
    "            if self.k==0:\n",
    "                self.val =root.val\n",
    "            self.inorder(root.right)\n",
    "\n",
    "\n",
    "    def kthSmallest(self, root: Optional[TreeNode], k: int) -> int:\n",
    "        self.k = k\n",
    "        self.inorder(root)\n",
    "        return self.val"
   ]
  }
 ],
 "metadata": {
  "interpreter": {
   "hash": "762306bead03dc84e16aee56f31f40b1a0c18d71c74386c9334f6620b6a3216a"
  },
  "kernelspec": {
   "display_name": "Python 3.7.1 ('base')",
   "language": "python",
   "name": "python3"
  },
  "language_info": {
   "codemirror_mode": {
    "name": "ipython",
    "version": 3
   },
   "file_extension": ".py",
   "mimetype": "text/x-python",
   "name": "python",
   "nbconvert_exporter": "python",
   "pygments_lexer": "ipython3",
   "version": "3.8.11"
  },
  "orig_nbformat": 4
 },
 "nbformat": 4,
 "nbformat_minor": 2
}
