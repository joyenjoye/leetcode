{
 "cells": [
  {
   "cell_type": "markdown",
   "metadata": {},
   "source": [
    "https://leetcode-cn.com/problems/search-in-rotated-sorted-array/"
   ]
  },
  {
   "cell_type": "code",
   "execution_count": null,
   "metadata": {},
   "outputs": [],
   "source": [
    "from typing import List"
   ]
  },
  {
   "cell_type": "markdown",
   "metadata": {},
   "source": [
    "## Solution 1\n",
    "\n",
    "|  Python3  |         |  |\n",
    "|:--------:|:-------:|---------------|\n",
    "| 运行时长(ms) | 32  |76.45%        |\n",
    "|   内存消耗(mb)      | 15.1 | 79.4%     \n",
    "\n",
    "参考：[leetcode中文官方题解](https://leetcode-cn.com/problems/search-in-rotated-sorted-array/solution/sou-suo-xuan-zhuan-pai-xu-shu-zu-by-leetcode-solut/)"
   ]
  },
  {
   "cell_type": "code",
   "execution_count": null,
   "metadata": {},
   "outputs": [],
   "source": [
    "class Solution:\n",
    "    def search(self, nums: List[int], target: int) -> int:\n",
    "\n",
    "        if target in nums:\n",
    "            n = len(nums)\n",
    "            start, end = 0, n - 1\n",
    "            while start <= end:\n",
    "                mid = (end - start) // 2 + start\n",
    "                num = nums[mid]\n",
    "                if num == target:\n",
    "                    return mid\n",
    "                    \n",
    "                if num >= nums[start]:\n",
    "                    if nums[start] <= target and target <= num:\n",
    "                        end = mid - 1\n",
    "                    else:\n",
    "                        start = mid + 1\n",
    "\n",
    "                elif num <= nums[end]:\n",
    "                    if num <= target and target <=nums[end]:\n",
    "                        start = mid + 1\n",
    "                    else:\n",
    "                        end = mid - 1\n",
    "\n",
    "        return -1\n"
   ]
  }
 ],
 "metadata": {
  "interpreter": {
   "hash": "762306bead03dc84e16aee56f31f40b1a0c18d71c74386c9334f6620b6a3216a"
  },
  "kernelspec": {
   "display_name": "Python 3.7.1 ('base')",
   "language": "python",
   "name": "python3"
  },
  "language_info": {
   "codemirror_mode": {
    "name": "ipython",
    "version": 3
   },
   "file_extension": ".py",
   "mimetype": "text/x-python",
   "name": "python",
   "nbconvert_exporter": "python",
   "pygments_lexer": "ipython3",
   "version": "3.7.1"
  },
  "orig_nbformat": 4
 },
 "nbformat": 4,
 "nbformat_minor": 2
}
