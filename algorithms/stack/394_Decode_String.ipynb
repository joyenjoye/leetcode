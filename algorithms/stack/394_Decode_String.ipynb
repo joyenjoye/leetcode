{
 "cells": [
  {
   "cell_type": "markdown",
   "id": "63158a98-33df-4bc1-8419-af29a45bea59",
   "metadata": {},
   "source": [
    "- 23July03(Day85): 695,682\n",
    "- 23July09(Day90): 666,141"
   ]
  },
  {
   "cell_type": "code",
   "execution_count": 1,
   "id": "ed5f0d49-6e30-4327-a5b5-60cc112ec7e2",
   "metadata": {},
   "outputs": [
    {
     "name": "stdout",
     "output_type": "stream",
     "text": [
      "93 out of 2763, which is 3.37% \n"
     ]
    }
   ],
   "source": [
    "done = 66+25+2\n",
    "total = 691+1462+610\n",
    "print(\"%s out of %s, which is %.2f%% \" %(done, total,done/total*100))"
   ]
  },
  {
   "cell_type": "markdown",
   "id": "718bc673-dfc9-4ea6-9b4a-6dec94631696",
   "metadata": {},
   "source": [
    "## Solution 1\n",
    "\n",
    "|  Python3  |         |  |\n",
    "|:--------:|:-------:|---------------|\n",
    "| 运行时长(ms) | 99.86 |   27  |\n",
    "|   内存消耗(mb)      | 16.3 | 38.55\n",
    "\n",
    "Solution come from [here](https://leetcode.com/problems/decode-string/solutions/3680089/beginner-friendly-solution-using-stacks-most-efficient/)."
   ]
  },
  {
   "cell_type": "code",
   "execution_count": 4,
   "id": "72908e09-25a9-4cb1-9afc-332a3a986c36",
   "metadata": {},
   "outputs": [],
   "source": [
    "class Solution:\n",
    "    def decodeString(self, s: str) -> str:\n",
    "\n",
    "        stack=[]\n",
    "\n",
    "        for c in s:\n",
    "            if c!=']':\n",
    "                stack.append(c)\n",
    "            else:\n",
    "                res=''\n",
    "                while stack[-1]!='[':\n",
    "                    res+=stack.pop()\n",
    "                stack.pop()\n",
    "                n=''\n",
    "                while len(stack)!=0 and stack[-1].isdigit()==True:\n",
    "                    n+=stack.pop()\n",
    "                stack.append(res*int(n[::-1]))\n",
    "\n",
    "        return ''.join([word[::-1] for word in stack])"
   ]
  }
 ],
 "metadata": {
  "kernelspec": {
   "display_name": "Python 3 (ipykernel)",
   "language": "python",
   "name": "python3"
  },
  "language_info": {
   "codemirror_mode": {
    "name": "ipython",
    "version": 3
   },
   "file_extension": ".py",
   "mimetype": "text/x-python",
   "name": "python",
   "nbconvert_exporter": "python",
   "pygments_lexer": "ipython3",
   "version": "3.9.12"
  }
 },
 "nbformat": 4,
 "nbformat_minor": 5
}
