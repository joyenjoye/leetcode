{
 "cells": [
  {
   "cell_type": "markdown",
   "id": "068e049c-973d-4e60-8ac6-9b27a27f799c",
   "metadata": {},
   "source": [
    "23Apr27\n",
    "\n",
    "Day18: 1,417,981"
   ]
  },
  {
   "cell_type": "markdown",
   "id": "fc827f7a-37f7-43f6-be31-a59c5e56b682",
   "metadata": {},
   "source": [
    "## Solution 1\n",
    "|  Python3  |         |  |\n",
    "|:--------:|:-------:|---------------|\n",
    "| 运行时长(ms) | 87 |   5.35|\n",
    "|   内存消耗(mb)      | 17.2  | 11.32\n"
   ]
  },
  {
   "cell_type": "code",
   "execution_count": 9,
   "id": "e746ef84-d512-411c-8124-ec901ea5576e",
   "metadata": {},
   "outputs": [],
   "source": [
    "class Solution:\n",
    "    def isPalindrome(self, s: str) -> bool:\n",
    "        def is_digit_or_alpha(s):\n",
    "            if s.isalpha():\n",
    "                return True\n",
    "            if s.isdigit():\n",
    "                return True\n",
    "            return False\n",
    "\n",
    "        n = len(s)\n",
    "        i = 0\n",
    "        j = n - 1\n",
    "        s = s.lower()\n",
    "        while i < j:\n",
    "            front = s[i]\n",
    "            back = s[j]\n",
    "            if is_digit_or_alpha(front) and is_digit_or_alpha(back):\n",
    "                if front == back:\n",
    "                    i = i+1\n",
    "                    j = j-1\n",
    "                else:\n",
    "                    return False\n",
    "            if not is_digit_or_alpha(front):\n",
    "                i = i + 1\n",
    "            if not is_digit_or_alpha(back):\n",
    "                j = j - 1\n",
    "        return True"
   ]
  },
  {
   "cell_type": "markdown",
   "id": "2fe9c07d-c821-469a-9970-5aa94bc48344",
   "metadata": {},
   "source": [
    "## Solution 2\n",
    "\n",
    "Time Limit Exceed\n"
   ]
  },
  {
   "cell_type": "code",
   "execution_count": 8,
   "id": "d0526d95-7bd9-4852-b003-4e5547a64aff",
   "metadata": {},
   "outputs": [],
   "source": [
    "class Solution:\n",
    "    def isPalindrome(self, s: str) -> bool:\n",
    "        def isdoa(c):\n",
    "            if c.isdigit():\n",
    "                return True\n",
    "            if c.isalpha():\n",
    "                return True\n",
    "            return False\n",
    "    \n",
    "        \n",
    "        if len(s)==1 and isdoa(s):\n",
    "            return True\n",
    "        \n",
    "        if len(s)==0:\n",
    "            return True\n",
    " \n",
    "        if isdoa(s[-1]):\n",
    "            if isdoa(s[0]):\n",
    "                if s[-1].lower() == s[0].lower():\n",
    "                    return self.isPalindrome(s[1:-1]) \n",
    "                else:\n",
    "                    return False\n",
    "            else:\n",
    "                return self.isPalindrome(s[1:])  \n",
    "        else:\n",
    "            return self.isPalindrome(s[:-1]) "
   ]
  },
  {
   "cell_type": "markdown",
   "id": "02657dd4-555b-4d7a-8960-3347bc1b2f91",
   "metadata": {},
   "source": [
    "## Solution 3\n",
    "|  Python3  |         |  |\n",
    "|:--------:|:-------:|---------------|\n",
    "| 运行时长(ms) | 60 |   20.91|\n",
    "|   内存消耗(mb)      | 17.1  | 11.45\n",
    "\n",
    "Updated at 2023-04-28"
   ]
  },
  {
   "cell_type": "code",
   "execution_count": null,
   "id": "cd5884a8-d8c7-4020-8d61-06ddfe108fcf",
   "metadata": {},
   "outputs": [],
   "source": [
    "class Solution:\n",
    "    def isPalindrome(self, s: str) -> bool:\n",
    "        i = 0\n",
    "        j = len(s) - 1\n",
    "        s = s.lower()\n",
    "        while i < j:\n",
    "            front = s[i]\n",
    "            back = s[j]\n",
    "            if front.isalnum() and back.isalnum():\n",
    "                if front == back:\n",
    "                    i = i+1\n",
    "                    j = j-1\n",
    "                else:\n",
    "                    return False\n",
    "            if not front.isalnum():\n",
    "                i = i + 1\n",
    "            if not back.isalnum():\n",
    "                j = j - 1\n",
    "        return True"
   ]
  },
  {
   "cell_type": "markdown",
   "id": "9cc8572e-37d9-4c64-8b0b-1c89c05c57b2",
   "metadata": {},
   "source": [
    "## Solution 4\n",
    "|  Python3  |         |  |\n",
    "|:--------:|:-------:|---------------|\n",
    "| 运行时长(ms) | 67 |  15.3|\n",
    "|   内存消耗(mb)      | 16.8  | 11.67\n",
    "\n",
    "Updated at 2023-04-28"
   ]
  },
  {
   "cell_type": "code",
   "execution_count": 1,
   "id": "47a861d6-fb91-443e-a5f2-6b828940e738",
   "metadata": {},
   "outputs": [],
   "source": [
    "class Solution:\n",
    "    def isPalindrome(self, s: str) -> bool:\n",
    "        i = 0\n",
    "        j = len(s) - 1\n",
    "        s = s.lower()\n",
    "        while i < j:\n",
    "            if not s[i].isalnum():\n",
    "                i += 1\n",
    "            elif not s[j].isalnum():\n",
    "                j -= 1\n",
    "            elif s[i] == s[j]:\n",
    "                i += 1\n",
    "                j -= 1\n",
    "            else:\n",
    "                return False\n",
    "        return True"
   ]
  }
 ],
 "metadata": {
  "kernelspec": {
   "display_name": "Python 3 (ipykernel)",
   "language": "python",
   "name": "python3"
  },
  "language_info": {
   "codemirror_mode": {
    "name": "ipython",
    "version": 3
   },
   "file_extension": ".py",
   "mimetype": "text/x-python",
   "name": "python",
   "nbconvert_exporter": "python",
   "pygments_lexer": "ipython3",
   "version": "3.8.13"
  }
 },
 "nbformat": 4,
 "nbformat_minor": 5
}
