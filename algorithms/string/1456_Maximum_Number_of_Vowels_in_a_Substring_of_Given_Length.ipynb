{
 "cells": [
  {
   "cell_type": "markdown",
   "id": "7d749470-30c4-48b0-b702-66732019a680",
   "metadata": {},
   "source": [
    "23May5\n",
    "\n",
    "Day25: 1,241,545\n",
    "\n",
    "35/2663"
   ]
  },
  {
   "cell_type": "markdown",
   "id": "c05b16f1-cc6e-4c68-a186-3d0cef04871b",
   "metadata": {},
   "source": [
    "## Solution 1\n",
    "|  Python3  |         |  |\n",
    "|:--------:|:-------:|---------------|\n",
    "| 运行时长(ms) | 223 |   40.15|\n",
    "|   内存消耗(mb)      | 17.4  | 7.56\n"
   ]
  },
  {
   "cell_type": "code",
   "execution_count": 6,
   "id": "6ae093fb-ecd3-407c-b10a-e8b7bddb9855",
   "metadata": {},
   "outputs": [],
   "source": [
    "class Solution:\n",
    "    def maxVowels(self, s: str, k: int) -> int:\n",
    "        s_list = list(s)\n",
    "        vowels = ['a', 'e', 'i', 'o', 'u']\n",
    "        cnt = 0\n",
    "        for i in range(k):\n",
    "            if s_list[i] in vowels:\n",
    "                cnt = cnt + 1\n",
    "        max_num = cnt\n",
    "        for end in range(k,len(s)):\n",
    "            start = end - k + 1\n",
    "            if s_list[start-1] in vowels:\n",
    "                cnt = cnt - 1\n",
    "            if s_list[end] in vowels:\n",
    "                cnt = cnt + 1\n",
    "            max_num = max(max_num, cnt)\n",
    "        return max_num        "
   ]
  },
  {
   "cell_type": "code",
   "execution_count": null,
   "id": "eeeec293-8654-4498-aff3-5c67328362a0",
   "metadata": {},
   "outputs": [],
   "source": []
  }
 ],
 "metadata": {
  "kernelspec": {
   "display_name": "Python 3 (ipykernel)",
   "language": "python",
   "name": "python3"
  },
  "language_info": {
   "codemirror_mode": {
    "name": "ipython",
    "version": 3
   },
   "file_extension": ".py",
   "mimetype": "text/x-python",
   "name": "python",
   "nbconvert_exporter": "python",
   "pygments_lexer": "ipython3",
   "version": "3.8.13"
  }
 },
 "nbformat": 4,
 "nbformat_minor": 5
}
