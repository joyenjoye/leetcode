{
 "cells": [
  {
   "cell_type": "markdown",
   "id": "eaefa9a1-fb1f-4c88-9c86-f444793bddaa",
   "metadata": {},
   "source": [
    "Day17: 1,443,768"
   ]
  },
  {
   "cell_type": "markdown",
   "id": "8e69300b-1dbd-44c4-8de3-6230c1b6e648",
   "metadata": {},
   "source": [
    "## Solution 1\n",
    "|  Python3  |         |  |\n",
    "|:--------:|:-------:|---------------|\n",
    "| 运行时长(ms) | 188 |   5.2|\n",
    "|   内存消耗(mb)      | 14.2  | 94.3\n"
   ]
  },
  {
   "cell_type": "code",
   "execution_count": 6,
   "id": "5910efc9-8763-495a-b33d-d54ca7f282c2",
   "metadata": {},
   "outputs": [],
   "source": [
    "class Solution:\n",
    "    def isAnagram(self, s: str, t: str) -> bool:\n",
    "        for c in t:\n",
    "            idx = s.find(c)\n",
    "            if idx==-1:\n",
    "                return False \n",
    "            else:\n",
    "                s = s[:idx]+s[idx+1:]\n",
    " \n",
    "        return len(s)==0"
   ]
  },
  {
   "cell_type": "markdown",
   "id": "c0973938-4148-4e74-a6bc-5cc180f97626",
   "metadata": {},
   "source": [
    "## Solution 2\n",
    "|  Python3  |         |  |\n",
    "|:--------:|:-------:|---------------|\n",
    "| 运行时长(ms) | 69 |   34.99|\n",
    "|   内存消耗(mb)      | 16.8  | 37.47\n",
    "\n",
    "@ 2023-05-29"
   ]
  },
  {
   "cell_type": "code",
   "execution_count": null,
   "id": "3c125f26-c24a-41e2-94d5-6ff98be7daa7",
   "metadata": {},
   "outputs": [],
   "source": [
    "class Solution:\n",
    "    def isAnagram(self, s: str, t: str) -> bool:\n",
    "        if len(s) != len(t):\n",
    "            return False\n",
    "        \n",
    "        freq = [0] * 26\n",
    "        for i in range(len(s)):\n",
    "            freq[ord(s[i]) - ord('a')] += 1\n",
    "            freq[ord(t[i]) - ord('a')] -= 1\n",
    "        \n",
    "        for i in range(len(freq)):\n",
    "            if freq[i] != 0:\n",
    "                return False\n",
    "        \n",
    "        return True\n",
    "      "
   ]
  },
  {
   "cell_type": "markdown",
   "id": "314ee978-dde2-47b0-8cbc-81f2579a03f0",
   "metadata": {},
   "source": [
    "## Solution 3\n",
    "|  Python3  |         |  |\n",
    "|:--------:|:-------:|---------------|\n",
    "| 运行时长(ms) | 67 |   40.95|\n",
    "|   内存消耗(mb)      | 16.9  | 37.47\n",
    "\n",
    "@ 2023-05-29"
   ]
  },
  {
   "cell_type": "code",
   "execution_count": 3,
   "id": "254d8a0e-eef7-4d0f-b63a-81a242abde70",
   "metadata": {},
   "outputs": [],
   "source": [
    "class Solution:\n",
    "    def isAnagram(self, s: str, t: str) -> bool:\n",
    "        if len(s) != len(t):\n",
    "            return False\n",
    "        from collections import defaultdict\n",
    "        freq = defaultdict(int)\n",
    "        for i in range(len(s)):\n",
    "            freq[s[i]] += 1\n",
    "            freq[t[i]] -= 1\n",
    "        \n",
    "        for char in freq:\n",
    "            if freq[char]!= 0:\n",
    "                return False\n",
    "        \n",
    "        return True\n",
    "      "
   ]
  },
  {
   "cell_type": "code",
   "execution_count": null,
   "id": "c11d0ea4-4d8d-46a9-9400-529f088505d8",
   "metadata": {},
   "outputs": [],
   "source": []
  }
 ],
 "metadata": {
  "kernelspec": {
   "display_name": "Python 3 (ipykernel)",
   "language": "python",
   "name": "python3"
  },
  "language_info": {
   "codemirror_mode": {
    "name": "ipython",
    "version": 3
   },
   "file_extension": ".py",
   "mimetype": "text/x-python",
   "name": "python",
   "nbconvert_exporter": "python",
   "pygments_lexer": "ipython3",
   "version": "3.9.12"
  }
 },
 "nbformat": 4,
 "nbformat_minor": 5
}
