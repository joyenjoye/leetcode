{
 "cells": [
  {
   "cell_type": "markdown",
   "metadata": {},
   "source": [
    "23June4: 862,475"
   ]
  },
  {
   "cell_type": "code",
   "execution_count": 1,
   "metadata": {},
   "outputs": [
    {
     "name": "stdout",
     "output_type": "stream",
     "text": [
      "66 out of 2719, which is 2.43% \n"
     ]
    }
   ],
   "source": [
    "done = 66\n",
    "total = 678+1440+601\n",
    "print(\"%s out of %s, which is %.2f%% \" %(done, total,done/total*100))"
   ]
  },
  {
   "cell_type": "code",
   "execution_count": 2,
   "metadata": {},
   "outputs": [],
   "source": [
    "class Solution:\n",
    "    def minimizedStringLength(self, s: str) -> int:\n",
    "        i = 0\n",
    "        while i <len(s):\n",
    "            left =s[:i].find(s[i])\n",
    "            if left>=0:\n",
    "                s = s[:i][:left]+s[:i][left+1:]+s[i:]\n",
    "                i-=1\n",
    "            right =s[i+1:].find(s[i])\n",
    "            if right>=0:\n",
    "                s = s[:i+1]+s[i+1:][:right]+s[i+1:][right+1:]\n",
    "            i+=1\n",
    "        return len(s)      "
   ]
  }
 ],
 "metadata": {
  "interpreter": {
   "hash": "762306bead03dc84e16aee56f31f40b1a0c18d71c74386c9334f6620b6a3216a"
  },
  "kernelspec": {
   "display_name": "Python 3 (ipykernel)",
   "language": "python",
   "name": "python3"
  },
  "language_info": {
   "codemirror_mode": {
    "name": "ipython",
    "version": 3
   },
   "file_extension": ".py",
   "mimetype": "text/x-python",
   "name": "python",
   "nbconvert_exporter": "python",
   "pygments_lexer": "ipython3",
   "version": "3.9.12"
  }
 },
 "nbformat": 4,
 "nbformat_minor": 4
}
