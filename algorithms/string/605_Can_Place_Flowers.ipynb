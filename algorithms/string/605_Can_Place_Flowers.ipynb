{
 "cells": [
  {
   "cell_type": "markdown",
   "metadata": {},
   "source": [
    "23May29: 934,984"
   ]
  },
  {
   "cell_type": "code",
   "execution_count": 1,
   "metadata": {},
   "outputs": [
    {
     "name": "stdout",
     "output_type": "stream",
     "text": [
      "59 out of 2713, which is 2.17% \n"
     ]
    }
   ],
   "source": [
    "done = 59\n",
    "total = 675+1439+599\n",
    "print(\"%s out of %s, which is %.2f%% \" %(done, total,done/total*100))"
   ]
  },
  {
   "cell_type": "markdown",
   "metadata": {},
   "source": [
    "## Solution 1\n",
    "\n",
    "|  Python3  |         |  |\n",
    "|:--------:|:-------:|---------------|\n",
    "| 运行时长(ms) | 175| 47.52 |\n",
    "|   内存消耗(mb)      | 16.8 | 15.3"
   ]
  },
  {
   "cell_type": "code",
   "execution_count": 10,
   "metadata": {},
   "outputs": [],
   "source": [
    "class Solution:\n",
    "    def canPlaceFlowers(self, flowerbed: List[int], n: int) -> bool:\n",
    "        if len(flowerbed)==1:\n",
    "            if flowerbed[0]==1:\n",
    "                return n==0 \n",
    "            else:\n",
    "                return n<=1\n",
    "        m =0\n",
    "        for i in range(len(flowerbed)):\n",
    "            if flowerbed[i]==0:\n",
    "                if i==0:\n",
    "                    if flowerbed[i+1]==0:\n",
    "                        flowerbed[i]=1\n",
    "                        m +=1  \n",
    "                elif i==len(flowerbed)-1:\n",
    "                    if flowerbed[i-1]==0:\n",
    "                        flowerbed[i]=1\n",
    "                        m +=1  \n",
    "                else:\n",
    "                    if flowerbed[i-1]==0 and flowerbed[i+1]==0:\n",
    "                        flowerbed[i]=1\n",
    "                        m +=1\n",
    "        return m>=n"
   ]
  }
 ],
 "metadata": {
  "interpreter": {
   "hash": "762306bead03dc84e16aee56f31f40b1a0c18d71c74386c9334f6620b6a3216a"
  },
  "kernelspec": {
   "display_name": "Python 3 (ipykernel)",
   "language": "python",
   "name": "python3"
  },
  "language_info": {
   "codemirror_mode": {
    "name": "ipython",
    "version": 3
   },
   "file_extension": ".py",
   "mimetype": "text/x-python",
   "name": "python",
   "nbconvert_exporter": "python",
   "pygments_lexer": "ipython3",
   "version": "3.9.12"
  }
 },
 "nbformat": 4,
 "nbformat_minor": 4
}
