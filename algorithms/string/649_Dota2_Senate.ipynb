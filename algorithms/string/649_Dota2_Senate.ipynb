{
 "cells": [
  {
   "cell_type": "markdown",
   "id": "c730aa5c-b0dc-4df4-a641-f6bb210ba7f1",
   "metadata": {},
   "source": [
    "23May4\n",
    "\n",
    "Day24: 1,260,519\n",
    "\n",
    "35/2663"
   ]
  },
  {
   "cell_type": "markdown",
   "id": "bbcac252-649b-4415-839f-6d1eb5533742",
   "metadata": {},
   "source": [
    "## Solution 1\n",
    "|  Python3  |         |  |\n",
    "|:--------:|:-------:|---------------|\n",
    "| 运行时长(ms) | 3161 |   8.87|\n",
    "|   内存消耗(mb)      | 16.4  | 11.62\n"
   ]
  },
  {
   "cell_type": "code",
   "execution_count": 5,
   "id": "77625c4e-abcd-43fa-9283-13eaf83952f6",
   "metadata": {},
   "outputs": [],
   "source": [
    "class Solution:\n",
    "    def predictPartyVictory(self, senate: str) -> str:\n",
    "        while len(set(senate))>1:\n",
    "            if senate[0] == \"R\":\n",
    "                idx = senate.find(\"D\")\n",
    "            elif senate[0] == \"D\":\n",
    "                idx = senate.find(\"R\")\n",
    "            senate = senate[1:idx]+senate[idx+1:]+senate[0]\n",
    "            \n",
    "        if senate[0]==\"R\":\n",
    "            return \"Radiant\"\n",
    "        else:\n",
    "            return \"Dire\""
   ]
  }
 ],
 "metadata": {
  "kernelspec": {
   "display_name": "Python 3 (ipykernel)",
   "language": "python",
   "name": "python3"
  },
  "language_info": {
   "codemirror_mode": {
    "name": "ipython",
    "version": 3
   },
   "file_extension": ".py",
   "mimetype": "text/x-python",
   "name": "python",
   "nbconvert_exporter": "python",
   "pygments_lexer": "ipython3",
   "version": "3.8.13"
  }
 },
 "nbformat": 4,
 "nbformat_minor": 5
}
