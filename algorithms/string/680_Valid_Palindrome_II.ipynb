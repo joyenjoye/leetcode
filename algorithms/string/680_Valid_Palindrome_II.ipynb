{
 "cells": [
  {
   "cell_type": "markdown",
   "id": "7f9a4270-ee39-4f6b-a1d9-148a6f9a4959",
   "metadata": {},
   "source": [
    "23Apr28\n",
    "\n",
    "Day18: 1,418,943"
   ]
  },
  {
   "cell_type": "markdown",
   "id": "fe9b8409-e45f-45ff-a8da-79bd20b5c402",
   "metadata": {},
   "source": [
    "## Solution 1\n",
    "|  Python3  |         |  |\n",
    "|:--------:|:-------:|---------------|\n",
    "| 运行时长(ms) | 276 |   7.79|\n",
    "|   内存消耗(mb)      | 16.9  | 6.3\n"
   ]
  },
  {
   "cell_type": "code",
   "execution_count": 11,
   "id": "2136280e-4846-4d25-9fc5-9271b9a82414",
   "metadata": {},
   "outputs": [],
   "source": [
    "class Solution:\n",
    "    def isPalindrome(self, s: str) -> bool:\n",
    "        i = 0\n",
    "        j = len(s) - 1\n",
    "        while i < j:\n",
    "            if not s[i].isalnum():\n",
    "                i += 1\n",
    "            elif not s[j].isalnum():\n",
    "                j -= 1\n",
    "            elif s[i] == s[j]:\n",
    "                i += 1\n",
    "                j -= 1\n",
    "            else:\n",
    "                return False\n",
    "        return True\n",
    "\n",
    "    def validPalindrome(self, s: str) -> bool:\n",
    "        i = 0\n",
    "        j = len(s) - 1\n",
    "        s = s.lower()\n",
    "        while i < j:\n",
    "            if not s[i].isalnum():\n",
    "                i += 1\n",
    "            elif not s[j].isalnum():\n",
    "                j -= 1\n",
    "            elif s[i] == s[j]:\n",
    "                i += 1\n",
    "                j -= 1\n",
    "            else:\n",
    "                return self.isPalindrome(s[i+1:j+1]) or self.isPalindrome(s[i:j])\n",
    "        return True"
   ]
  }
 ],
 "metadata": {
  "kernelspec": {
   "display_name": "Python 3 (ipykernel)",
   "language": "python",
   "name": "python3"
  },
  "language_info": {
   "codemirror_mode": {
    "name": "ipython",
    "version": 3
   },
   "file_extension": ".py",
   "mimetype": "text/x-python",
   "name": "python",
   "nbconvert_exporter": "python",
   "pygments_lexer": "ipython3",
   "version": "3.8.13"
  }
 },
 "nbformat": 4,
 "nbformat_minor": 5
}
