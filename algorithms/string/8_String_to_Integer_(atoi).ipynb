{
 "cells": [
  {
   "cell_type": "markdown",
   "id": "78e6fb67-b881-4d63-a6e8-cd74426015dd",
   "metadata": {},
   "source": [
    "23Apr29\n",
    "\n",
    "Day19: 1,393,891"
   ]
  },
  {
   "cell_type": "markdown",
   "id": "8efb5b11-1aba-4232-855e-9d8e019beb0d",
   "metadata": {},
   "source": [
    "## Solution 1\n",
    "|  Python3  |         |  |\n",
    "|:--------:|:-------:|---------------|\n",
    "| 运行时长(ms) | 55 |   5.28|\n",
    "|   内存消耗(mb)      | 16.3  | 16.91\n"
   ]
  },
  {
   "cell_type": "code",
   "execution_count": 12,
   "id": "b27747ef-325e-4b64-a342-c989607c0c7f",
   "metadata": {},
   "outputs": [],
   "source": [
    "class Solution:\n",
    "    def myAtoi(self, s: str) -> int:\n",
    "        \n",
    "        def return_val(c_list):\n",
    "            if len(c_list)==0:\n",
    "                return 0\n",
    "            elif len(c_list)==1 and c_list[0] in [\"+\",\"-\"]:\n",
    "                return 0\n",
    "            else:\n",
    "                x = int(\"\".join(c_list))\n",
    "                if x<-2**31:\n",
    "                    return -2**31\n",
    "                elif x>2**31 - 1:\n",
    "                    return 2**31 - 1\n",
    "                else:\n",
    "                    return x\n",
    "        \n",
    "        c_list = []\n",
    "        for c in s:\n",
    "            if c ==' ':\n",
    "                if len(c_list)==0:\n",
    "                    pass\n",
    "                else:\n",
    "                    return return_val(c_list)\n",
    "            elif c in ['+',\"-\"]:\n",
    "                if len(c_list)==0:\n",
    "                    c_list.append(c)\n",
    "                else:\n",
    "                    return return_val(c_list)\n",
    "            elif c.isdigit():\n",
    "                c_list.append(c)\n",
    "            else:\n",
    "                return return_val(c_list)\n",
    "        return return_val(c_list)\n",
    "                \n",
    "            \n",
    "        "
   ]
  }
 ],
 "metadata": {
  "kernelspec": {
   "display_name": "Python 3 (ipykernel)",
   "language": "python",
   "name": "python3"
  },
  "language_info": {
   "codemirror_mode": {
    "name": "ipython",
    "version": 3
   },
   "file_extension": ".py",
   "mimetype": "text/x-python",
   "name": "python",
   "nbconvert_exporter": "python",
   "pygments_lexer": "ipython3",
   "version": "3.8.13"
  }
 },
 "nbformat": 4,
 "nbformat_minor": 5
}
