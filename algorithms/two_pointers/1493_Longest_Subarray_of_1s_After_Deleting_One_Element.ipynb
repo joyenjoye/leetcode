{
 "cells": [
  {
   "cell_type": "markdown",
   "id": "63158a98-33df-4bc1-8419-af29a45bea59",
   "metadata": {},
   "source": [
    "- 23June26(Day78): 721,428"
   ]
  },
  {
   "cell_type": "code",
   "execution_count": 3,
   "id": "ed5f0d49-6e30-4327-a5b5-60cc112ec7e2",
   "metadata": {},
   "outputs": [
    {
     "name": "stdout",
     "output_type": "stream",
     "text": [
      "87 out of 2751, which is 3.16% \n"
     ]
    }
   ],
   "source": [
    "done = 66+19+2\n",
    "total = 689+1457+605\n",
    "print(\"%s out of %s, which is %.2f%% \" %(done, total,done/total*100))"
   ]
  },
  {
   "cell_type": "code",
   "execution_count": 6,
   "id": "42aee3c3-7ace-43d7-91e3-7c4dfbea9a19",
   "metadata": {},
   "outputs": [],
   "source": [
    "from typing import List"
   ]
  },
  {
   "cell_type": "markdown",
   "id": "718bc673-dfc9-4ea6-9b4a-6dec94631696",
   "metadata": {},
   "source": [
    "## Solution 1\n",
    "\n",
    "Wrong Answer"
   ]
  },
  {
   "cell_type": "code",
   "execution_count": 3,
   "id": "72908e09-25a9-4cb1-9afc-332a3a986c36",
   "metadata": {},
   "outputs": [],
   "source": [
    "class Solution:\n",
    "    def longestSubarray(self, nums: List[int]) -> int:\n",
    "        if len(set(nums))==1 and nums[0]==1:\n",
    "            return len(nums)-1\n",
    "        c = 0\n",
    "        c_list = []\n",
    "        for r, n in enumerate(nums):\n",
    "            if n == 1:\n",
    "                c+=1\n",
    "            if n ==0:\n",
    "                c_list.append(c)\n",
    "                if len(c_list)>=2:\n",
    "                    c = c-c_list[-2]\n",
    "                    if c <0:\n",
    "                        c = 0\n",
    "\n",
    "            if r ==len(nums)-1 and n!=0:\n",
    "                 c_list.append(c)\n",
    "\n",
    "            print(r, n, c,c_list)\n",
    "    \n",
    "        return max(c_list)\n",
    "\n",
    "    "
   ]
  },
  {
   "cell_type": "code",
   "execution_count": null,
   "id": "df4ad8e4-7d03-463f-9db6-eab8b1441933",
   "metadata": {},
   "outputs": [],
   "source": []
  },
  {
   "cell_type": "markdown",
   "id": "0a6ae71b-4cf5-4956-bc44-13b43e7a2e29",
   "metadata": {},
   "source": [
    "## Solution 2\n",
    "\n",
    "[[Python] Sliding window solution explained](https://leetcode.com/problems/longest-subarray-of-1s-after-deleting-one-element/solutions/1748740/python-sliding-window-solution-explained/?envType=study-plan-v2&envId=leetcode-75)"
   ]
  },
  {
   "cell_type": "markdown",
   "id": "710e8fe9-b9a9-4d80-a4cc-1dd14638105c",
   "metadata": {},
   "source": [
    "- 23June27(Day79): 722,110"
   ]
  },
  {
   "cell_type": "code",
   "execution_count": 4,
   "id": "4b1f9f7d-dff4-413a-8de0-c2c6eddfed61",
   "metadata": {},
   "outputs": [
    {
     "name": "stdout",
     "output_type": "stream",
     "text": [
      "88 out of 2752, which is 3.20% \n"
     ]
    }
   ],
   "source": [
    "done = 66+20+2\n",
    "total = 689+1457+606\n",
    "print(\"%s out of %s, which is %.2f%% \" %(done, total,done/total*100))"
   ]
  },
  {
   "cell_type": "code",
   "execution_count": 7,
   "id": "00fedc26-19f6-4f10-b484-b4cac0cfcd58",
   "metadata": {},
   "outputs": [],
   "source": [
    "class Solution:\n",
    "    def longestSubarray(self, nums: List[int]) -> int:\n",
    "        res = 0\n",
    "        k = 1 # max zeroes we can delete\n",
    "        l = 0\n",
    "        \n",
    "        for r in range(len(nums)):\n",
    "            # if we encounter a zero, decrement\n",
    "            # the num zeroes we can now delete\n",
    "            if nums[r] == 0:\n",
    "                k -= 1\n",
    "\n",
    "            # if we've seen more than one zero\n",
    "            # move the left pointer until we\n",
    "            # have discarded the first zero\n",
    "            # we have encountered hence making the\n",
    "            # sliding window (l..r) valid again\n",
    "            while k < 0 and l <= r:\n",
    "                if nums[l] == 0:\n",
    "                    k += 1\n",
    "                l += 1\n",
    "            \n",
    "            # make sure you're not adding +1\n",
    "            # to the sliding window because we\n",
    "            # want to also account for the deleted\n",
    "            # zero, so don't index correct here\n",
    "            res = max(res, r-l)\n",
    "            \n",
    "        return res\n",
    "        \n",
    "\n"
   ]
  }
 ],
 "metadata": {
  "kernelspec": {
   "display_name": "Python 3 (ipykernel)",
   "language": "python",
   "name": "python3"
  },
  "language_info": {
   "codemirror_mode": {
    "name": "ipython",
    "version": 3
   },
   "file_extension": ".py",
   "mimetype": "text/x-python",
   "name": "python",
   "nbconvert_exporter": "python",
   "pygments_lexer": "ipython3",
   "version": "3.9.12"
  }
 },
 "nbformat": 4,
 "nbformat_minor": 5
}
