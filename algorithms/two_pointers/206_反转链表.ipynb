{
 "cells": [
  {
   "cell_type": "markdown",
   "metadata": {},
   "source": [
    "https://leetcode-cn.com/problems/reverse-linked-list/"
   ]
  },
  {
   "cell_type": "code",
   "execution_count": null,
   "metadata": {},
   "outputs": [],
   "source": [
    "class ListNode:\n",
    "    def __init__(self, val=0, next=None):\n",
    "        self.val = val\n",
    "        self.next = next"
   ]
  },
  {
   "cell_type": "markdown",
   "metadata": {},
   "source": [
    "## Solution 1\n",
    "\n",
    "|  Python3  |         |  |\n",
    "|:--------:|:-------:|---------------|\n",
    "| 运行时长(ms) | 40| 44.21%        |\n",
    "|   内存消耗(mb)      | 16.8 | 23.33%     "
   ]
  },
  {
   "cell_type": "code",
   "execution_count": null,
   "metadata": {},
   "outputs": [],
   "source": [
    "# Definition for singly-linked list.\n",
    "# class ListNode:\n",
    "#     def __init__(self, val=0, next=None):\n",
    "#         self.val = val\n",
    "#         self.next = next\n",
    "class Solution:\n",
    "    def reverseList(self, head: ListNode) -> ListNode:\n",
    "        if not head or not head.next:\n",
    "            return head\n",
    "        point = head\n",
    "        val_list = []\n",
    "        while point:\n",
    "            val_list.append(point.val)\n",
    "            point = point.next\n",
    "\n",
    "        res =ListNode(val =val_list.pop())\n",
    "        point = res\n",
    "        \n",
    "        while val_list:\n",
    "            point.next = ListNode(val =val_list.pop())\n",
    "            point = point.next\n",
    "        return res"
   ]
  },
  {
   "cell_type": "markdown",
   "metadata": {},
   "source": [
    "## Solution 2\n",
    "\n",
    "|  Python3  |         |  |\n",
    "|:--------:|:-------:|---------------|\n",
    "| 运行时长(ms) | 32| 89.08%        |\n",
    "|   内存消耗(mb)      | 16.1 | 39.75%     "
   ]
  },
  {
   "cell_type": "code",
   "execution_count": null,
   "metadata": {},
   "outputs": [],
   "source": [
    "# Definition for singly-linked list.\n",
    "# class ListNode:\n",
    "#     def __init__(self, val=0, next=None):\n",
    "#         self.val = val\n",
    "#         self.next = next\n",
    "class Solution:\n",
    "    def reverseList(self, head: ListNode) -> ListNode:\n",
    "        if not head or not head.next:\n",
    "            return head\n",
    "\n",
    "        prev_ = None\n",
    "        curr = head\n",
    "        next_ = head.next\n",
    "\n",
    "        while next_:\n",
    "            curr.next = prev_\n",
    "            prev_ = curr\n",
    "            curr = next_\n",
    "            next_ = next_.next\n",
    "            \n",
    "        curr.next = prev_\n",
    "        return curr\n"
   ]
  },
  {
   "cell_type": "markdown",
   "metadata": {},
   "source": [
    "## Solution 3\n",
    "\n",
    "|  Python3  |         |  |\n",
    "|:--------:|:-------:|---------------|\n",
    "| 运行时长(ms) | 44| 21.54%        |\n",
    "|   内存消耗(mb)      | 16 | 45.49%     "
   ]
  },
  {
   "cell_type": "code",
   "execution_count": null,
   "metadata": {},
   "outputs": [],
   "source": [
    "# Definition for singly-linked list.\n",
    "# class ListNode:\n",
    "#     def __init__(self, val=0, next=None):\n",
    "#         self.val = val\n",
    "#         self.next = next\n",
    "class Solution:\n",
    "    def reverseList(self, head: ListNode) -> ListNode:\n",
    "        if not head or not head.next:\n",
    "            return head\n",
    "\n",
    "        prev_ = None\n",
    "        curr = head\n",
    "\n",
    "        while curr:\n",
    "            #先把当前的下一个存好\n",
    "            next_ = curr.next\n",
    "            #把当前的节点的下一个清空，并存为prev_\n",
    "            curr.next = prev_\n",
    "            prev_ = curr\n",
    "\n",
    "            #切换当前节点到下一个节点去\n",
    "            curr = next_\n",
    "        return prev_"
   ]
  },
  {
   "cell_type": "code",
   "execution_count": null,
   "metadata": {},
   "outputs": [],
   "source": [
    "# Definition for singly-linked list.\n",
    "# class ListNode:\n",
    "#     def __init__(self, val=0, next=None):\n",
    "#         self.val = val\n",
    "#         self.next = next\n",
    "class Solution:\n",
    "    def reverseList(self, head: ListNode) -> ListNode:\n",
    "        if not head or not head.next:\n",
    "            return head\n",
    "\n",
    "        prev_ = None\n",
    "\n",
    "        while head:\n",
    "            #先把当前的下一个存好\n",
    "            next_ = head.next\n",
    "            #把当前的节点的下一个清空，并存为prev_\n",
    "            head.next = prev_\n",
    "            prev_ = head\n",
    "\n",
    "            #切换当前节点到下一个节点去\n",
    "            head = next_\n",
    "        return prev_"
   ]
  }
 ],
 "metadata": {
  "language_info": {
   "name": "python"
  },
  "orig_nbformat": 4
 },
 "nbformat": 4,
 "nbformat_minor": 2
}
