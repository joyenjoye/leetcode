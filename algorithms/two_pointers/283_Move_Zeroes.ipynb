{
 "cells": [
  {
   "cell_type": "markdown",
   "id": "63158a98-33df-4bc1-8419-af29a45bea59",
   "metadata": {},
   "source": [
    "- 23Apr21(Day12): 1,596,010\n",
    "\n",
    "- 23June23(Day75): 732,190. Try again. Still got the same solution.😂\n"
   ]
  },
  {
   "cell_type": "code",
   "execution_count": 4,
   "id": "ed5f0d49-6e30-4327-a5b5-60cc112ec7e2",
   "metadata": {},
   "outputs": [
    {
     "name": "stdout",
     "output_type": "stream",
     "text": [
      "83 out of 2742, which is 3.03% \n"
     ]
    }
   ],
   "source": [
    "done = 64+17+2\n",
    "total = 687+1451+604\n",
    "print(\"%s out of %s, which is %.2f%% \" %(done, total,done/total*100))"
   ]
  },
  {
   "cell_type": "code",
   "execution_count": 2,
   "id": "42aee3c3-7ace-43d7-91e3-7c4dfbea9a19",
   "metadata": {},
   "outputs": [],
   "source": [
    "from typing import List"
   ]
  },
  {
   "cell_type": "markdown",
   "id": "718bc673-dfc9-4ea6-9b4a-6dec94631696",
   "metadata": {},
   "source": [
    "## Solution 1\n",
    "|  Python3  |         |  |\n",
    "|:--------:|:-------:|---------------|\n",
    "| 运行时长(ms) | 175  |      40.32 |\n",
    "|   内存消耗(mb)      | 15.5  | 95.14\n",
    "\n",
    "23Apr21"
   ]
  },
  {
   "cell_type": "code",
   "execution_count": 3,
   "id": "72908e09-25a9-4cb1-9afc-332a3a986c36",
   "metadata": {},
   "outputs": [],
   "source": [
    "class Solution:\n",
    "    def moveZeroes(self, nums: List[int]) -> None:\n",
    "        \"\"\"\n",
    "        Do not return anything, modify nums in-place instead.\n",
    "        \"\"\"\n",
    "        i = 0\n",
    "        j = 0\n",
    "        while i <len(nums)-j:\n",
    "            if nums[i]==0:\n",
    "                nums.pop(i)\n",
    "                nums.append(0)\n",
    "                j=j+1\n",
    "            else:\n",
    "                i=i+1"
   ]
  },
  {
   "cell_type": "markdown",
   "id": "3c06fdaf-99cd-409b-9ca3-9270ec4e3dec",
   "metadata": {},
   "source": [
    "## Solution 2\n",
    "|  Python3  |         |  |\n",
    "|:--------:|:-------:|---------------|\n",
    "| 运行时长(ms) | 175  |      40.32 |\n",
    "|   内存消耗(mb)      | 15.5  | 95.14\n",
    "\n",
    "The solution is from [here](https://leetcode.com/problems/move-zeroes/solutions/562911/two-pointers-technique-python-o-n-time-o-1-space/?envType=study-plan-v2&envId=leetcode-75)"
   ]
  },
  {
   "cell_type": "code",
   "execution_count": null,
   "id": "a9e870cd-5623-470c-bf58-6ed0af9b7b2c",
   "metadata": {},
   "outputs": [],
   "source": [
    "class Solution:\n",
    "    def moveZeroes(self, nums: list) -> None:\n",
    "        slow = 0\n",
    "        for fast in range(len(nums)):\n",
    "            if nums[fast] != 0 and nums[slow] == 0:\n",
    "                nums[slow], nums[fast] = nums[fast], nums[slow]\n",
    "\n",
    "            if nums[slow] != 0:\n",
    "                slow += 1"
   ]
  }
 ],
 "metadata": {
  "kernelspec": {
   "display_name": "Python 3 (ipykernel)",
   "language": "python",
   "name": "python3"
  },
  "language_info": {
   "codemirror_mode": {
    "name": "ipython",
    "version": 3
   },
   "file_extension": ".py",
   "mimetype": "text/x-python",
   "name": "python",
   "nbconvert_exporter": "python",
   "pygments_lexer": "ipython3",
   "version": "3.9.12"
  }
 },
 "nbformat": 4,
 "nbformat_minor": 5
}
