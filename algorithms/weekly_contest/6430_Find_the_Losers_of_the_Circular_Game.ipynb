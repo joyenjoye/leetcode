{
 "cells": [
  {
   "cell_type": "markdown",
   "id": "46472543-5442-41a9-9a2e-a0e82b8e9b00",
   "metadata": {},
   "source": [
    "23May14: 1,111,335"
   ]
  },
  {
   "cell_type": "code",
   "execution_count": 5,
   "id": "31fc570e-3e98-4cee-800c-526553cae074",
   "metadata": {},
   "outputs": [
    {
     "name": "stdout",
     "output_type": "stream",
     "text": [
      "43 out of 2688 \n"
     ]
    }
   ],
   "source": [
    "print(\"%s out of %s \" %(43, 666+1429+593))"
   ]
  },
  {
   "cell_type": "markdown",
   "id": "c2fd2429-1298-4f4d-8d03-be137ba3dadb",
   "metadata": {},
   "source": [
    "There are n friends that are playing a game. The friends are sitting in a circle and are numbered from 1 to n in clockwise order. More formally, moving clockwise from the ith friend brings you to the (i+1)th friend for 1 <= i < n, and moving clockwise from the nth friend brings you to the 1st friend.\n",
    "\n",
    "The rules of the game are as follows:\n",
    "\n",
    "1st friend receives the ball.\n",
    "\n",
    "- After that, 1st friend passes it to the friend who is k steps away from them in the clockwise direction.\n",
    "- After that, the friend who receives the ball should pass it to the friend who is 2 * k steps away from them in the clockwise direction.\n",
    "- After that, the friend who receives the ball should pass it to the friend who is 3 * k steps away from them in the clockwise direction, and so on and so forth.\n",
    "In other words, on the ith turn, the friend holding the ball should pass it to the friend who is i * k steps away from them in the clockwise direction.\n",
    "\n",
    "The game is finished when some friend receives the ball for the second time.\n",
    "\n",
    "The losers of the game are friends who did not receive the ball in the entire game.\n",
    "\n",
    "Given the number of friends, n, and an integer k, return the array answer, which contains the losers of the game in the ascending order."
   ]
  },
  {
   "cell_type": "code",
   "execution_count": 2,
   "id": "352869c7-6b2c-49fb-b084-9f621759a0a6",
   "metadata": {},
   "outputs": [],
   "source": [
    "from typing import List"
   ]
  },
  {
   "cell_type": "code",
   "execution_count": 3,
   "id": "8ae9b8b9-47ca-452a-b318-f2b498fff70b",
   "metadata": {},
   "outputs": [],
   "source": [
    "class Solution:\n",
    "    def circularGameLosers(self, n: int, k: int) -> List[int]:\n",
    "        winers = []\n",
    "        i = 1\n",
    "        j = 1\n",
    "        while i not in winers:\n",
    "            winers.append(i)\n",
    "            if i +k*j<=n:\n",
    "                i = i +k*j\n",
    "            else:\n",
    "                i = (i +k*j)%n\n",
    "                if i==0:\n",
    "                    i =n\n",
    "            j = j+1 \n",
    "        losers = [i for i in range(1,n+1) if i not in winers]\n",
    "        return losers "
   ]
  }
 ],
 "metadata": {
  "kernelspec": {
   "display_name": "Python 3 (ipykernel)",
   "language": "python",
   "name": "python3"
  },
  "language_info": {
   "codemirror_mode": {
    "name": "ipython",
    "version": 3
   },
   "file_extension": ".py",
   "mimetype": "text/x-python",
   "name": "python",
   "nbconvert_exporter": "python",
   "pygments_lexer": "ipython3",
   "version": "3.9.12"
  }
 },
 "nbformat": 4,
 "nbformat_minor": 5
}
