{
 "cells": [
  {
   "cell_type": "code",
   "execution_count": 3,
   "id": "3fc73dd4-1db7-4a10-a93e-721e057a829e",
   "metadata": {},
   "outputs": [],
   "source": [
    "from typing import List"
   ]
  },
  {
   "cell_type": "code",
   "execution_count": 6,
   "id": "07c53c3a-dc60-4634-ba5e-30db6726fbdd",
   "metadata": {},
   "outputs": [],
   "source": [
    "class Solution:\n",
    "    def maxProfit(self, prices: List[int]) -> int:\n",
    "        profit = 0\n",
    "        for i in range(len(prices)-1):\n",
    "            if prices[i+1]>prices[i]:\n",
    "                profit = profit + prices[i+1] - prices[i]"
   ]
  },
  {
   "cell_type": "code",
   "execution_count": 7,
   "id": "1f3ce0e6-d06c-4ff7-a13a-738285d487ef",
   "metadata": {},
   "outputs": [],
   "source": [
    "Solution().maxProfit([7,1,5,3,6,4])"
   ]
  }
 ],
 "metadata": {
  "kernelspec": {
   "display_name": "Python 3 (ipykernel)",
   "language": "python",
   "name": "python3"
  },
  "language_info": {
   "codemirror_mode": {
    "name": "ipython",
    "version": 3
   },
   "file_extension": ".py",
   "mimetype": "text/x-python",
   "name": "python",
   "nbconvert_exporter": "python",
   "pygments_lexer": "ipython3",
   "version": "3.8.13"
  }
 },
 "nbformat": 4,
 "nbformat_minor": 5
}
