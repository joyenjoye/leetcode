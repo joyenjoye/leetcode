{
 "cells": [
  {
   "cell_type": "markdown",
   "id": "e0ff0199-3838-4ef2-aa98-8d1bfac1e347",
   "metadata": {},
   "source": [
    "23May8: 1,204,985\n",
    "\n",
    "38/2673"
   ]
  },
  {
   "cell_type": "markdown",
   "id": "191964e2-0a94-45d1-8296-27db90c905d3",
   "metadata": {},
   "source": [
    "## Solution 1\n",
    "|  Python3  |         |  |\n",
    "|:--------:|:-------:|---------------|\n",
    "| 运行时长(ms) | 135 |   5.85|\n",
    "|   内存消耗(mb)      | 16.6  | 11.57\n"
   ]
  },
  {
   "cell_type": "code",
   "execution_count": null,
   "id": "db99a22a-221e-4821-b73e-28995b693320",
   "metadata": {},
   "outputs": [],
   "source": [
    "class Solution:\n",
    "    def diagonalSum(self, mat: List[List[int]]) -> int:\n",
    "        n = len(mat)\n",
    "        j = 0\n",
    "        k = -1\n",
    "        sum_ = 0\n",
    "        for i in range(n):\n",
    "            if j+i == n+k-i:\n",
    "                sum_ += mat[i][j+i]\n",
    "            else:\n",
    "                sum_ += mat[i][j+i]\n",
    "                sum_ += mat[i][k-i]\n",
    "         \n",
    "        return sum_"
   ]
  }
 ],
 "metadata": {
  "kernelspec": {
   "display_name": "Python 3 (ipykernel)",
   "language": "python",
   "name": "python3"
  },
  "language_info": {
   "codemirror_mode": {
    "name": "ipython",
    "version": 3
   },
   "file_extension": ".py",
   "mimetype": "text/x-python",
   "name": "python",
   "nbconvert_exporter": "python",
   "pygments_lexer": "ipython3",
   "version": "3.8.13"
  }
 },
 "nbformat": 4,
 "nbformat_minor": 5
}
