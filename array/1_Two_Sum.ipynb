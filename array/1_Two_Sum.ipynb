{
 "cells": [
  {
   "cell_type": "markdown",
   "id": "934f18f2-dbb0-4f29-88fe-9fd5b102a9ae",
   "metadata": {},
   "source": [
    "Day13: 1,561,987"
   ]
  },
  {
   "cell_type": "code",
   "execution_count": 1,
   "id": "bc355f14-e067-4103-b217-c60c585d1508",
   "metadata": {},
   "outputs": [],
   "source": [
    "from typing import List"
   ]
  },
  {
   "cell_type": "markdown",
   "id": "10ffe89e-f65c-414a-a2a2-1ca5c327d7c5",
   "metadata": {},
   "source": [
    "## Solution 1\n",
    "|  Python3  |         |  |\n",
    "|:--------:|:-------:|---------------|\n",
    "| 运行时长(ms) | 3.693  |      18.31 |\n",
    "|   内存消耗(mb)      | 14.8  | 86.69\n"
   ]
  },
  {
   "cell_type": "code",
   "execution_count": 2,
   "id": "de803fe0-3301-4209-b836-fd64d7434ffb",
   "metadata": {},
   "outputs": [],
   "source": [
    "class Solution:\n",
    "    def twoSum(self, nums: List[int], target: int) -> List[int]:\n",
    "        \n",
    "        for i in range(len(nums)):\n",
    "            for j in range(i+1, len(nums)):\n",
    "                if nums[j] == target- nums[i]:\n",
    "                    return [i,j]"
   ]
  },
  {
   "cell_type": "markdown",
   "id": "876f7204-dc47-4177-8e78-9ca7b7a6498c",
   "metadata": {},
   "source": [
    "## Solution 2\n",
    "|  Python3  |         |  |\n",
    "|:--------:|:-------:|---------------|\n",
    "| 运行时长(ms) | 3.694  |      18.23 |\n",
    "|   内存消耗(mb)      | 14.9 | 66.97\n"
   ]
  },
  {
   "cell_type": "code",
   "execution_count": 3,
   "id": "2b8d10da-0296-4c7b-b8fd-eecf6e96ffbc",
   "metadata": {},
   "outputs": [],
   "source": [
    "class Solution:\n",
    "    def twoSum(self, nums: List[int], target: int) -> List[int]:\n",
    "        n = len(nums)\n",
    "        for i in range(n-1):\n",
    "            for j in range(i+1, n):\n",
    "                if nums[j] == target- nums[i]:\n",
    "                    return [i,j]"
   ]
  },
  {
   "cell_type": "markdown",
   "id": "198548e1-9ebe-48fb-8671-adbc52bd0adb",
   "metadata": {},
   "source": [
    "## Solution 3\n",
    "|  Python3  |         |  |\n",
    "|:--------:|:-------:|---------------|\n",
    "| 运行时长(ms) | 0.055  |     93.88 |\n",
    "|   内存消耗(mb)      | 15.1 | 35.87\n",
    "\n",
    "\n",
    "The solutions comes from [GeekErra](https://leetcode.com/problems/two-sum/solutions/2361743/python-java-c-simple-solution-o-n-time-o-n-space/?languageTags=python3)\n",
    "\n"
   ]
  },
  {
   "cell_type": "code",
   "execution_count": 4,
   "id": "e4807326-cd09-487c-8370-35f11f6df2c3",
   "metadata": {},
   "outputs": [],
   "source": [
    "class Solution:\n",
    "    def twoSum(self, nums: List[int], target: int) -> List[int]:\n",
    "        save = {}\n",
    "        for i,n in enumerate(nums):\n",
    "            m = target - n\n",
    "            if m in save:\n",
    "                return [save[m],i]\n",
    "            else:\n",
    "                save[n]=i "
   ]
  }
 ],
 "metadata": {
  "kernelspec": {
   "display_name": "Python 3 (ipykernel)",
   "language": "python",
   "name": "python3"
  },
  "language_info": {
   "codemirror_mode": {
    "name": "ipython",
    "version": 3
   },
   "file_extension": ".py",
   "mimetype": "text/x-python",
   "name": "python",
   "nbconvert_exporter": "python",
   "pygments_lexer": "ipython3",
   "version": "3.8.13"
  }
 },
 "nbformat": 4,
 "nbformat_minor": 5
}
