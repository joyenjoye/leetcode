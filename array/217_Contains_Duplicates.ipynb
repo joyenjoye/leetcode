{
 "cells": [
  {
   "cell_type": "code",
   "execution_count": 2,
   "id": "efca32fa-c86f-47e9-b153-a96aa6b60c0d",
   "metadata": {},
   "outputs": [],
   "source": [
    "from typing import List"
   ]
  },
  {
   "cell_type": "markdown",
   "id": "99bab654-d5bd-431c-a1e1-e27447f470a5",
   "metadata": {},
   "source": [
    "## Solution1\n",
    "\n",
    "Time Limit Exceed"
   ]
  },
  {
   "cell_type": "code",
   "execution_count": 3,
   "id": "5eea4b7d-44b2-4728-b5e9-41f8841020d2",
   "metadata": {},
   "outputs": [],
   "source": [
    "class Solution:\n",
    "    def containsDuplicate(self, nums: List[int]) -> bool:\n",
    "        for i in range(len(nums)):\n",
    "            if nums[i] in nums[i:i]:\n",
    "                return True\n",
    "            if nums[i] in nums[i+1:i+k+1]:\n",
    "                return True\n",
    "        return False"
   ]
  },
  {
   "cell_type": "markdown",
   "id": "f6290bd5-676c-4d93-b69c-097b593472dc",
   "metadata": {},
   "source": [
    "## Solution2"
   ]
  },
  {
   "cell_type": "code",
   "execution_count": 4,
   "id": "c85ef9ae-bf61-483c-b52c-cf5a2e5972b6",
   "metadata": {},
   "outputs": [],
   "source": [
    "class Solution:\n",
    "    def containsDuplicate(self, nums: List[int]) -> bool:\n",
    "        return len(nums)!=len(set(nums))"
   ]
  },
  {
   "cell_type": "markdown",
   "id": "bb7ae794-96d5-491d-9c32-dfbb12042d73",
   "metadata": {},
   "source": [
    "## Solution3"
   ]
  },
  {
   "cell_type": "code",
   "execution_count": 5,
   "id": "bd955dfd-758d-41da-adb1-c5125bd8cc8a",
   "metadata": {},
   "outputs": [],
   "source": [
    "class Solution:\n",
    "    def containsDuplicate(self, nums: List[int]) -> bool:\n",
    "        check_set = set()\n",
    "        for num in nums:\n",
    "            if num in check_set:\n",
    "                return True\n",
    "            else:\n",
    "                check_set.add(num)\n",
    "        return False"
   ]
  }
 ],
 "metadata": {
  "kernelspec": {
   "display_name": "Python 3 (ipykernel)",
   "language": "python",
   "name": "python3"
  },
  "language_info": {
   "codemirror_mode": {
    "name": "ipython",
    "version": 3
   },
   "file_extension": ".py",
   "mimetype": "text/x-python",
   "name": "python",
   "nbconvert_exporter": "python",
   "pygments_lexer": "ipython3",
   "version": "3.8.13"
  }
 },
 "nbformat": 4,
 "nbformat_minor": 5
}
