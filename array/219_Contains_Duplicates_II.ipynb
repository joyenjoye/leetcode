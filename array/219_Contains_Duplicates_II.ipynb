{
 "cells": [
  {
   "cell_type": "code",
   "execution_count": null,
   "id": "23d7a48b-322e-441e-8794-f4b636ee6d2c",
   "metadata": {},
   "outputs": [],
   "source": [
    "from typing import List"
   ]
  },
  {
   "cell_type": "markdown",
   "id": "a39cf685-437e-4e76-8353-6adf8c6a97b9",
   "metadata": {},
   "source": [
    "## Solution1\n",
    "\n",
    "Time Limit Exceed"
   ]
  },
  {
   "cell_type": "code",
   "execution_count": null,
   "id": "daee57dc-6426-400f-a0bb-b9414e090c6f",
   "metadata": {},
   "outputs": [],
   "source": [
    "class Solution:\n",
    "    def containsNearbyDuplicate(self, nums: List[int], k: int) -> bool:\n",
    "        for i in range(len(nums)):\n",
    "            if nums[i] in nums[i-k:i]:\n",
    "                return True\n",
    "            if nums[i] in nums[i+1:i+k+1]:\n",
    "                return True\n",
    "        return False"
   ]
  },
  {
   "cell_type": "markdown",
   "id": "0a177c43-7fd2-419e-a6c7-0f04962717a4",
   "metadata": {},
   "source": [
    "## Solution2\n",
    "\n",
    "Time Limit Exceed"
   ]
  },
  {
   "cell_type": "code",
   "execution_count": null,
   "id": "561572e2-5021-4baf-ac62-f476f433ca96",
   "metadata": {},
   "outputs": [],
   "source": [
    "class Solution:\n",
    "    def containsNearbyDuplicate(self, nums: List[int], k: int) -> bool:\n",
    "        for i in range(len(nums)):\n",
    "            if nums[i] in set(nums[i-k:i]):\n",
    "                return True\n",
    "            if nums[i] in set(nums[i+1:i+k+1]):\n",
    "                return True\n",
    "        return False"
   ]
  },
  {
   "cell_type": "markdown",
   "id": "c48009e7-d5e6-4927-89eb-975d558ac898",
   "metadata": {},
   "source": [
    "## Solution3\n",
    "\n",
    "Time Limit Exceed"
   ]
  },
  {
   "cell_type": "code",
   "execution_count": null,
   "id": "c563ae8d-3c06-4137-b750-4e19ea9e2419",
   "metadata": {},
   "outputs": [],
   "source": [
    "class Solution:\n",
    "    def containsNearbyDuplicate(self, nums: List[int], k: int) -> bool:\n",
    "        nums_list = []\n",
    "        for i in range(len(nums)):\n",
    "            if nums[i] in nums_list:\n",
    "                return True\n",
    "            else:\n",
    "                nums_list.append(nums[i])\n",
    "            if len(nums_list)>k:\n",
    "                nums_list.pop(0)\n",
    "        return False"
   ]
  },
  {
   "cell_type": "markdown",
   "id": "9c411daf-14ae-4d9e-9849-a2738d095cd2",
   "metadata": {},
   "source": [
    "## Solution 4"
   ]
  },
  {
   "cell_type": "code",
   "execution_count": null,
   "id": "4d373d6c-9953-4f8c-826e-0aae424dbc9a",
   "metadata": {},
   "outputs": [],
   "source": [
    "class Solution:\n",
    "    def containsNearbyDuplicate(self, nums: List[int], k: int) -> bool:\n",
    "        index_dict = {}\n",
    "        for i, n in enumerate(nums):\n",
    "            if n in index_dict and i - index_dict[n] <= k:\n",
    "                return True\n",
    "            index_dict[n] = i\n",
    "        return False"
   ]
  }
 ],
 "metadata": {
  "kernelspec": {
   "display_name": "Python 3 (ipykernel)",
   "language": "python",
   "name": "python3"
  },
  "language_info": {
   "codemirror_mode": {
    "name": "ipython",
    "version": 3
   },
   "file_extension": ".py",
   "mimetype": "text/x-python",
   "name": "python",
   "nbconvert_exporter": "python",
   "pygments_lexer": "ipython3",
   "version": "3.8.13"
  }
 },
 "nbformat": 4,
 "nbformat_minor": 5
}
