{
 "cells": [
  {
   "cell_type": "markdown",
   "id": "267358b2-9d52-4585-a1d5-b391a404e04c",
   "metadata": {},
   "source": [
    "23May3\n",
    "\n",
    "Day23: 1,280,575\n",
    "\n",
    "34/2663"
   ]
  },
  {
   "cell_type": "code",
   "execution_count": 7,
   "id": "ae0387a2-22a1-4a34-9c29-3a2c96d3206f",
   "metadata": {},
   "outputs": [],
   "source": [
    "from typing import List"
   ]
  },
  {
   "cell_type": "markdown",
   "id": "d9f7402b-fd73-4bd0-8048-bf226ad3b55b",
   "metadata": {},
   "source": [
    "## Solution 1\n",
    "|  Python3  |         |  |\n",
    "|:--------:|:-------:|---------------|\n",
    "| 运行时长(ms) | 835 |   21.1|\n",
    "|   内存消耗(mb)      | 16.6  | 9.53\n"
   ]
  },
  {
   "cell_type": "code",
   "execution_count": 8,
   "id": "a689af08-a157-4e1c-851d-bf59cdb0ea63",
   "metadata": {},
   "outputs": [],
   "source": [
    "class Solution:\n",
    "    def findDifference(self, nums1: List[int], nums2: List[int]) -> List[List[int]]:\n",
    "        i = 0\n",
    "        while i <len(nums1):\n",
    "            num = nums1[i]\n",
    "            if num in nums2:\n",
    "                while num in nums1:\n",
    "                    nums1.remove(num)\n",
    "                while num in nums2:\n",
    "                    nums2.remove(num)\n",
    "            else:\n",
    "                i = i+1\n",
    "        return [list(set(nums1)),list(set(nums2))]\n",
    "\n"
   ]
  }
 ],
 "metadata": {
  "kernelspec": {
   "display_name": "Python 3 (ipykernel)",
   "language": "python",
   "name": "python3"
  },
  "language_info": {
   "codemirror_mode": {
    "name": "ipython",
    "version": 3
   },
   "file_extension": ".py",
   "mimetype": "text/x-python",
   "name": "python",
   "nbconvert_exporter": "python",
   "pygments_lexer": "ipython3",
   "version": "3.8.13"
  }
 },
 "nbformat": 4,
 "nbformat_minor": 5
}
