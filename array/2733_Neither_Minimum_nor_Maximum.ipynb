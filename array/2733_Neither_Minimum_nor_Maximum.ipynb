{
 "cells": [
  {
   "cell_type": "markdown",
   "id": "63158a98-33df-4bc1-8419-af29a45bea59",
   "metadata": {},
   "source": [
    "- 23July07(Day89): 670,743"
   ]
  },
  {
   "cell_type": "code",
   "execution_count": 2,
   "id": "ed5f0d49-6e30-4327-a5b5-60cc112ec7e2",
   "metadata": {},
   "outputs": [
    {
     "name": "stdout",
     "output_type": "stream",
     "text": [
      "98 out of 2764, which is 3.55% \n"
     ]
    }
   ],
   "source": [
    "done = 71+25+2\n",
    "total = 691+1463+610\n",
    "print(\"%s out of %s, which is %.2f%% \" %(done, total,done/total*100))"
   ]
  },
  {
   "cell_type": "markdown",
   "id": "718bc673-dfc9-4ea6-9b4a-6dec94631696",
   "metadata": {},
   "source": [
    "## Solution 1\n",
    "\n",
    "|  Python3  |         |  |\n",
    "|:--------:|:-------:|---------------|\n",
    "| 运行时长(ms) | 382 |  79.5  |\n",
    "|   内存消耗(mb)      | 16.3 | 48.5\n"
   ]
  },
  {
   "cell_type": "code",
   "execution_count": 3,
   "id": "b051654c-32d3-4338-80f7-62e77f725cbf",
   "metadata": {},
   "outputs": [],
   "source": [
    "from typing import List"
   ]
  },
  {
   "cell_type": "code",
   "execution_count": 4,
   "id": "72908e09-25a9-4cb1-9afc-332a3a986c36",
   "metadata": {},
   "outputs": [],
   "source": [
    "class Solution:\n",
    "    def findNonMinOrMax(self, nums: List[int]) -> int:\n",
    "        m = nums[0]\n",
    "        n = nums[0]\n",
    "        for num in nums[1:]:\n",
    "            if num>=m:\n",
    "                m = num\n",
    "            elif num<=n:\n",
    "                n = num\n",
    "        for num in nums:\n",
    "            if num!=m and num!=n:\n",
    "                return num\n",
    "        return -1\n"
   ]
  }
 ],
 "metadata": {
  "kernelspec": {
   "display_name": "Python 3 (ipykernel)",
   "language": "python",
   "name": "python3"
  },
  "language_info": {
   "codemirror_mode": {
    "name": "ipython",
    "version": 3
   },
   "file_extension": ".py",
   "mimetype": "text/x-python",
   "name": "python",
   "nbconvert_exporter": "python",
   "pygments_lexer": "ipython3",
   "version": "3.9.12"
  }
 },
 "nbformat": 4,
 "nbformat_minor": 5
}
