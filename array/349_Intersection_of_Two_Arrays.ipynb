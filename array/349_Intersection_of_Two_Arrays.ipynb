{
 "cells": [
  {
   "cell_type": "markdown",
   "id": "3f2e6740-dd33-4d43-a3eb-faf08cd2c909",
   "metadata": {},
   "source": [
    "Day11: 1,631,822"
   ]
  },
  {
   "cell_type": "code",
   "execution_count": 4,
   "id": "fac4691b-251c-46e7-bf06-9d63398d4bd2",
   "metadata": {},
   "outputs": [],
   "source": [
    "from typing import List"
   ]
  },
  {
   "cell_type": "markdown",
   "id": "cd0b068b-afe4-4cc8-affd-0cf525cd1426",
   "metadata": {},
   "source": [
    "## Solution 1\n",
    "|  Python3  |         |  |\n",
    "|:--------:|:-------:|---------------|\n",
    "| 运行时长(ms) | 72   |      11.2 |\n",
    "|   内存消耗(mb)      | 14.1  | 57.63\n"
   ]
  },
  {
   "cell_type": "code",
   "execution_count": 5,
   "id": "6e880c85-84df-437a-ae2a-7da70516f5ff",
   "metadata": {},
   "outputs": [],
   "source": [
    "class Solution:\n",
    "    def intersection(self, nums1: List[int], nums2: List[int]) -> List[int]:\n",
    "        nums = []\n",
    "        for n in nums1:\n",
    "            if n in nums2 and n not in nums:\n",
    "                nums.append(n)\n",
    "        return nums"
   ]
  },
  {
   "cell_type": "markdown",
   "id": "8eea7e23-e9a6-4bf0-8fcb-8e8ffec4c439",
   "metadata": {},
   "source": [
    "## Solution 2\n",
    "|  Python3  |         |  |\n",
    "|:--------:|:-------:|---------------|\n",
    "| 运行时长(ms) | 69  |      14.1 |\n",
    "|   内存消耗(mb)      | 13.9  | 98.81\n"
   ]
  },
  {
   "cell_type": "code",
   "execution_count": 6,
   "id": "61ddb1f3-ab08-4747-9a1b-35c48157aaff",
   "metadata": {},
   "outputs": [],
   "source": [
    "class Solution:\n",
    "    def intersection(self, nums1: List[int], nums2: List[int]) -> List[int]:\n",
    "        nums = []\n",
    "        for n in nums1:\n",
    "            if n in nums2:\n",
    "                nums.append(n)\n",
    "        return list(set(nums))"
   ]
  },
  {
   "cell_type": "markdown",
   "id": "05372305-f36d-4aad-9859-23a72810a09e",
   "metadata": {},
   "source": [
    "## Solution 3\n",
    "|  Python3  |         |  |\n",
    "|:--------:|:-------:|---------------|\n",
    "| 运行时长(ms) | 68  |      15.67 |\n",
    "|   内存消耗(mb)      | 13.9  | 98.81\n"
   ]
  },
  {
   "cell_type": "code",
   "execution_count": 7,
   "id": "957aceae-0dcf-4bf0-8ee1-4c0cc29973b5",
   "metadata": {},
   "outputs": [],
   "source": [
    "class Solution:\n",
    "    def intersection(self, nums1: List[int], nums2: List[int]) -> List[int]:\n",
    "        i=0\n",
    "        while i < len(nums1):\n",
    "            if nums1[i] not in nums2:\n",
    "                nums1.pop(i)\n",
    "            else:\n",
    "                i +=1\n",
    "        return list(set(nums1))"
   ]
  }
 ],
 "metadata": {
  "kernelspec": {
   "display_name": "Python 3 (ipykernel)",
   "language": "python",
   "name": "python3"
  },
  "language_info": {
   "codemirror_mode": {
    "name": "ipython",
    "version": 3
   },
   "file_extension": ".py",
   "mimetype": "text/x-python",
   "name": "python",
   "nbconvert_exporter": "python",
   "pygments_lexer": "ipython3",
   "version": "3.8.13"
  }
 },
 "nbformat": 4,
 "nbformat_minor": 5
}
