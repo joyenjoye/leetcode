{
 "cells": [
  {
   "cell_type": "markdown",
   "id": "44570c5a-bb7c-461e-9e9f-727c93502780",
   "metadata": {},
   "source": [
    "Day10: 1713231"
   ]
  },
  {
   "cell_type": "code",
   "execution_count": 1,
   "id": "5292df9c-1980-46bf-9214-1146543e4a98",
   "metadata": {},
   "outputs": [],
   "source": [
    "from typing import List"
   ]
  },
  {
   "cell_type": "markdown",
   "id": "11f64a25-2a1f-4ce5-8391-864e9830f9f1",
   "metadata": {},
   "source": [
    "## Solution 1\n",
    "|  Python3  |         |  |\n",
    "|:--------:|:-------:|---------------|\n",
    "| 运行时长(ms) | 71   |      15.87 |\n",
    "|   内存消耗(mb)      | 14  |  75.87\n"
   ]
  },
  {
   "cell_type": "code",
   "execution_count": 2,
   "id": "f7aeefb9-f8ea-4285-abc4-77720dc7a0cb",
   "metadata": {},
   "outputs": [],
   "source": [
    "class Solution:\n",
    "    def intersect(self, nums1: List[int], nums2: List[int]) -> List[int]:\n",
    "        nums = []\n",
    "        for n in nums1:\n",
    "            if n in nums2:\n",
    "                nums.append(n)\n",
    "                nums2.remove(n)\n",
    "        return nums"
   ]
  },
  {
   "cell_type": "markdown",
   "id": "10db78fa-602e-49d5-b18b-761072e939a1",
   "metadata": {},
   "source": [
    "## Solution 2\n",
    "|  Python3  |         |  |\n",
    "|:--------:|:-------:|---------------|\n",
    "| 运行时长(ms) | 72   |      14.4 |\n",
    "|   内存消耗(mb)      | 13.9  |  97.71\n"
   ]
  },
  {
   "cell_type": "code",
   "execution_count": 3,
   "id": "c925940a-36d5-4438-a52c-6cc78be8966e",
   "metadata": {},
   "outputs": [],
   "source": [
    "class Solution:\n",
    "    def intersect(self, nums1: List[int], nums2: List[int]) -> List[int]:\n",
    "        nums = []\n",
    "        for n in nums1:\n",
    "            try:\n",
    "                nums2.remove(n)\n",
    "                nums.append(n)\n",
    "            except:\n",
    "                pass\n",
    "        return nums                "
   ]
  },
  {
   "cell_type": "markdown",
   "id": "16a5d3b8-33bf-4bdf-98b0-f63fdbfc5371",
   "metadata": {},
   "source": [
    "## Solution 3\n",
    "\n",
    "|  Python3  |         |  |\n",
    "|:--------:|:-------:|---------------|\n",
    "| 运行时长(ms) | 56   |      34.36  |\n",
    "|   内存消耗(mb)      | 13.9  |  97.71\n"
   ]
  },
  {
   "cell_type": "code",
   "execution_count": 4,
   "id": "26a5cd0c-f5eb-475e-979a-1f9e968e468b",
   "metadata": {},
   "outputs": [],
   "source": [
    "class Solution:\n",
    "    def intersect(self, nums1: List[int], nums2: List[int]) -> List[int]:\n",
    "        sorted_nums1 = sorted(nums1)  \n",
    "        sorted_nums2 = sorted(nums2)  \n",
    "        i = 0\n",
    "        j = 0\n",
    "        output = []\n",
    "        while i <len(sorted_nums1) and j<len(sorted_nums2):\n",
    "            if sorted_nums1[i]<sorted_nums2[j]:\n",
    "                i+=1\n",
    "            elif sorted_nums1[i]>sorted_nums2[j]:\n",
    "                j+=1\n",
    "            else:\n",
    "                output.append(sorted_nums1[i])\n",
    "                i+=1\n",
    "                j+=1\n",
    "        return output"
   ]
  },
  {
   "cell_type": "markdown",
   "id": "b3d5182e-24b9-4a97-be96-98fa7e176ae1",
   "metadata": {},
   "source": [
    "## Follow up:\n",
    "\n",
    "- What if the given array is already sorted? How would you optimize your algorithm?\n",
    "- What if nums1's size is small compared to nums2's size? Which algorithm is better?\n",
    "- What if elements of nums2 are stored on disk, and the memory is limited such that you cannot load all elements into the memory at once?"
   ]
  }
 ],
 "metadata": {
  "kernelspec": {
   "display_name": "Python 3 (ipykernel)",
   "language": "python",
   "name": "python3"
  },
  "language_info": {
   "codemirror_mode": {
    "name": "ipython",
    "version": 3
   },
   "file_extension": ".py",
   "mimetype": "text/x-python",
   "name": "python",
   "nbconvert_exporter": "python",
   "pygments_lexer": "ipython3",
   "version": "3.8.13"
  }
 },
 "nbformat": 4,
 "nbformat_minor": 5
}
