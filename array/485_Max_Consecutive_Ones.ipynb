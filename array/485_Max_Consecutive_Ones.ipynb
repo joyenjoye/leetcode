{
 "cells": [
  {
   "cell_type": "markdown",
   "id": "bcde21cc-d635-4062-99b9-4e313eec3c66",
   "metadata": {},
   "source": [
    "23May17: 1,084,239"
   ]
  },
  {
   "cell_type": "code",
   "execution_count": 1,
   "id": "bd7a8fd4-e15f-4168-bc8a-14a4c7e924c8",
   "metadata": {},
   "outputs": [
    {
     "name": "stdout",
     "output_type": "stream",
     "text": [
      "46 out of 2688 \n"
     ]
    }
   ],
   "source": [
    "print(\"%s out of %s \" %(46, 666+1429+593))"
   ]
  },
  {
   "cell_type": "markdown",
   "id": "996bff2d-a227-4f4c-ae57-7a4ff668b8fc",
   "metadata": {},
   "source": [
    "## Solution 1\n",
    "|  Python3  |         |  |\n",
    "|:--------:|:-------:|---------------|\n",
    "| 运行时长(ms) |345 |   57.62|\n",
    "|   内存消耗(mb)      | 16.5  | 22.67\n"
   ]
  },
  {
   "cell_type": "code",
   "execution_count": 2,
   "id": "de67fd7c-90a8-4eb4-bea8-c4d5ce1b73fc",
   "metadata": {},
   "outputs": [],
   "source": [
    "from typing import List"
   ]
  },
  {
   "cell_type": "code",
   "execution_count": 3,
   "id": "df7fda7f-8bba-47b9-8da2-75680d2defe5",
   "metadata": {},
   "outputs": [],
   "source": [
    "class Solution:\n",
    "    def findMaxConsecutiveOnes(self, nums: List[int]) -> int:\n",
    "        cnt = 0\n",
    "        max_cnt = 0\n",
    "        for num in nums:\n",
    "            if num ==1:\n",
    "                cnt +=1\n",
    "            else:\n",
    "                if cnt>max_cnt:\n",
    "                    max_cnt = cnt\n",
    "                cnt = 0\n",
    "        return max(max_cnt,cnt)\n",
    "        "
   ]
  },
  {
   "cell_type": "code",
   "execution_count": null,
   "id": "f04f0532-85e8-47f4-b80c-bfe822544dd5",
   "metadata": {},
   "outputs": [],
   "source": []
  }
 ],
 "metadata": {
  "kernelspec": {
   "display_name": "Python 3 (ipykernel)",
   "language": "python",
   "name": "python3"
  },
  "language_info": {
   "codemirror_mode": {
    "name": "ipython",
    "version": 3
   },
   "file_extension": ".py",
   "mimetype": "text/x-python",
   "name": "python",
   "nbconvert_exporter": "python",
   "pygments_lexer": "ipython3",
   "version": "3.9.12"
  }
 },
 "nbformat": 4,
 "nbformat_minor": 5
}
