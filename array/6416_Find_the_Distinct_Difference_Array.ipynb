{
 "cells": [
  {
   "cell_type": "markdown",
   "id": "cfa9f8c5-eb89-41b4-998d-19bce2051f1f",
   "metadata": {},
   "source": [
    "23May7\n",
    "\n",
    "Day27: 1,223,092\n",
    "\n",
    "36/2663"
   ]
  },
  {
   "cell_type": "code",
   "execution_count": 3,
   "id": "8eb0c186-6883-46a0-9dd2-137ebac2fdc1",
   "metadata": {},
   "outputs": [],
   "source": [
    "from typing import List"
   ]
  },
  {
   "cell_type": "code",
   "execution_count": 4,
   "id": "b1bb4f2f-f995-4083-bc66-0a99a4c1dd67",
   "metadata": {},
   "outputs": [],
   "source": [
    "class Solution:\n",
    "    def distinctDifferenceArray(self, nums: List[int]) -> List[int]:\n",
    "        diff = []\n",
    "        for i in range(len(nums)):\n",
    "            m = len(set(nums[:i+1])) -  len(set(nums[i+1:])) \n",
    "            diff.append(m)\n",
    "        return diff"
   ]
  }
 ],
 "metadata": {
  "kernelspec": {
   "display_name": "Python 3 (ipykernel)",
   "language": "python",
   "name": "python3"
  },
  "language_info": {
   "codemirror_mode": {
    "name": "ipython",
    "version": 3
   },
   "file_extension": ".py",
   "mimetype": "text/x-python",
   "name": "python",
   "nbconvert_exporter": "python",
   "pygments_lexer": "ipython3",
   "version": "3.8.13"
  }
 },
 "nbformat": 4,
 "nbformat_minor": 5
}
