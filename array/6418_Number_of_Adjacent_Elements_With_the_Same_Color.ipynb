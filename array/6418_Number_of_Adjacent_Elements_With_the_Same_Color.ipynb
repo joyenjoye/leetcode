{
 "cells": [
  {
   "cell_type": "markdown",
   "id": "d609d908-be9e-4693-8d51-ec3c8621bdb8",
   "metadata": {},
   "source": [
    "23May7\n",
    "\n",
    "Day27: 1,223,092\n",
    "\n",
    "36/2663"
   ]
  },
  {
   "cell_type": "markdown",
   "id": "421381d7-d294-4bef-afcf-2796980d4b3b",
   "metadata": {},
   "source": [
    "There is a 0-indexed array nums of length n. Initially, all elements are uncolored (has a value of 0).\n",
    "\n",
    "You are given a 2D integer array queries where queries[i] = [indexi, colori].\n",
    "\n",
    "For each query, you color the index indexi with the color colori in the array nums.\n",
    "\n",
    "Return an array answer of the same length as queries where answer[i] is the number of adjacent elements with the same color after the ith query.\n",
    "\n",
    "More formally, answer[i] is the number of indices j, such that 0 <= j < n - 1 and nums[j] == nums[j + 1] and nums[j] != 0 after the ith query.\n",
    "\n"
   ]
  },
  {
   "cell_type": "code",
   "execution_count": 2,
   "id": "114128be-8050-4915-9281-c506298c7b19",
   "metadata": {},
   "outputs": [],
   "source": [
    "from typing import List"
   ]
  },
  {
   "cell_type": "markdown",
   "id": "ee2cb223-2a34-46f3-ad5d-975bfba1d9aa",
   "metadata": {},
   "source": [
    "## Solution 1\n",
    "\n",
    "Time Limit Exceeded"
   ]
  },
  {
   "cell_type": "code",
   "execution_count": 3,
   "id": "d920cdd3-37a1-4c5b-b763-3445559d3d58",
   "metadata": {},
   "outputs": [],
   "source": [
    "class Solution:\n",
    "    def colorTheArray(self, n: int, queries: List[List[int]]) -> List[int]:\n",
    "        arr = [0 for i in range(n)]\n",
    "        res = []\n",
    "        for i in range(len(queries)):\n",
    "            q = queries[i]\n",
    "            arr[q[0]]=q[1]\n",
    "            if i ==0:\n",
    "                res.append(0)\n",
    "            else:\n",
    "                res.append(sum([len(set(arr[j:j+2]))==1 and arr[j]!=0 for j in range(n-1)]))\n",
    "        return res\n",
    "            "
   ]
  }
 ],
 "metadata": {
  "kernelspec": {
   "display_name": "Python 3 (ipykernel)",
   "language": "python",
   "name": "python3"
  },
  "language_info": {
   "codemirror_mode": {
    "name": "ipython",
    "version": 3
   },
   "file_extension": ".py",
   "mimetype": "text/x-python",
   "name": "python",
   "nbconvert_exporter": "python",
   "pygments_lexer": "ipython3",
   "version": "3.8.13"
  }
 },
 "nbformat": 4,
 "nbformat_minor": 5
}
