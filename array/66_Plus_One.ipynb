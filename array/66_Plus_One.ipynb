{
 "cells": [
  {
   "cell_type": "markdown",
   "id": "a965500c-7574-4cb8-93f5-aeba57dfea5a",
   "metadata": {},
   "source": [
    "Day10: 1713231"
   ]
  },
  {
   "cell_type": "code",
   "execution_count": 1,
   "id": "9bbce53c-2a44-4c9d-96e7-b0fa0b01b893",
   "metadata": {},
   "outputs": [],
   "source": [
    "from typing import List"
   ]
  },
  {
   "cell_type": "markdown",
   "id": "1b095c9d-5def-4ba1-9608-5372420aa1a2",
   "metadata": {},
   "source": [
    "## Solution 1\n",
    "|  Python3  |         |  |\n",
    "|:--------:|:-------:|---------------|\n",
    "| 运行时长(ms) | 35   |      51.71|\n",
    "|   内存消耗(mb)      | 13.9  |  11.38\n"
   ]
  },
  {
   "cell_type": "code",
   "execution_count": 2,
   "id": "282727b1-ca41-4a69-a0ee-609e6ac46b57",
   "metadata": {},
   "outputs": [],
   "source": [
    "class Solution:\n",
    "    def plusOne(self, digits: List[int]) -> List[int]:\n",
    "        for i in range(len(digits)-1,-1,-1):\n",
    "            if digits[i]+1<10:\n",
    "                digits[i] = digits[i]+1\n",
    "                return digits\n",
    "            else:\n",
    "                digits[i] = digits[i]+1-10\n",
    "        digits.insert(0,1)\n",
    "        return digits"
   ]
  }
 ],
 "metadata": {
  "kernelspec": {
   "display_name": "Python 3 (ipykernel)",
   "language": "python",
   "name": "python3"
  },
  "language_info": {
   "codemirror_mode": {
    "name": "ipython",
    "version": 3
   },
   "file_extension": ".py",
   "mimetype": "text/x-python",
   "name": "python",
   "nbconvert_exporter": "python",
   "pygments_lexer": "ipython3",
   "version": "3.8.13"
  }
 },
 "nbformat": 4,
 "nbformat_minor": 5
}
