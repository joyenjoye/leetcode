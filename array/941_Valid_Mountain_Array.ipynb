{
 "cells": [
  {
   "cell_type": "markdown",
   "metadata": {},
   "source": [
    "23May26: 988,152"
   ]
  },
  {
   "cell_type": "code",
   "execution_count": 3,
   "metadata": {},
   "outputs": [
    {
     "name": "stdout",
     "output_type": "stream",
     "text": [
      "53 out of 2702 \n"
     ]
    }
   ],
   "source": [
    "print(\"%s out of %s \" %(53, 671+1434+597))"
   ]
  },
  {
   "cell_type": "code",
   "execution_count": 4,
   "metadata": {},
   "outputs": [],
   "source": [
    "from typing import List"
   ]
  },
  {
   "cell_type": "code",
   "execution_count": 5,
   "metadata": {},
   "outputs": [],
   "source": [
    "class Solution:\n",
    "    def validMountainArray(self, arr: List[int]) -> bool:\n",
    "        if len(arr)==2:\n",
    "            return False\n",
    "        change = 0\n",
    "        direction = 0 \n",
    "        i = 0\n",
    "        while i < len(arr)-1:\n",
    "            if direction ==0:\n",
    "                if arr[i]<=arr[i+1]:\n",
    "                    pass\n",
    "                else:\n",
    "                    change +=1\n",
    "                    direction = 1\n",
    "            else:\n",
    "                if arr[i]>=arr[i+1]:\n",
    "                    pass\n",
    "                else:\n",
    "                    change +=1\n",
    "                    direction = 0\n",
    "            i = i+1\n",
    "        # print(change, direction)\n",
    "        if change ==1 and direction==1:\n",
    "            return True\n",
    "        else:\n",
    "            return False\n",
    "                \n"
   ]
  }
 ],
 "metadata": {
  "interpreter": {
   "hash": "762306bead03dc84e16aee56f31f40b1a0c18d71c74386c9334f6620b6a3216a"
  },
  "kernelspec": {
   "display_name": "Python 3 (ipykernel)",
   "language": "python",
   "name": "python3"
  },
  "language_info": {
   "codemirror_mode": {
    "name": "ipython",
    "version": 3
   },
   "file_extension": ".py",
   "mimetype": "text/x-python",
   "name": "python",
   "nbconvert_exporter": "python",
   "pygments_lexer": "ipython3",
   "version": "3.9.12"
  }
 },
 "nbformat": 4,
 "nbformat_minor": 4
}
