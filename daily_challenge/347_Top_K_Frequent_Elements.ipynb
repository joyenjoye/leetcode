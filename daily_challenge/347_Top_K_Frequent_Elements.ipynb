{
 "cells": [
  {
   "cell_type": "markdown",
   "metadata": {},
   "source": [
    "23May22: 1,021,451"
   ]
  },
  {
   "cell_type": "code",
   "execution_count": 1,
   "metadata": {},
   "outputs": [
    {
     "name": "stdout",
     "output_type": "stream",
     "text": [
      "50 out of 2699 \n"
     ]
    }
   ],
   "source": [
    "print(\"%s out of %s \" %(50, 671+1433+595))"
   ]
  },
  {
   "cell_type": "code",
   "execution_count": 2,
   "metadata": {},
   "outputs": [],
   "source": [
    "from typing import List"
   ]
  },
  {
   "cell_type": "markdown",
   "metadata": {},
   "source": [
    "## Solution 1\n",
    "\n",
    "|  Python3  |         |  |\n",
    "|:--------:|:-------:|---------------|\n",
    "| 运行时长(ms) | 210| 5.18      |\n",
    "|   内存消耗(mb)      | 21.1 | 41.2  "
   ]
  },
  {
   "cell_type": "code",
   "execution_count": 4,
   "metadata": {},
   "outputs": [],
   "source": [
    "class Solution:\n",
    "    def topKFrequent(self, nums: List[int], k: int) -> List[int]:\n",
    "        freq_dict = {}\n",
    "        count_freq_dict = {}\n",
    "        for num in nums:\n",
    "            if num not in freq_dict:\n",
    "                freq_dict[num]=1\n",
    "            else:\n",
    "                count_freq_dict[freq_dict[num]].remove(num)\n",
    "                if not count_freq_dict[freq_dict[num]]:\n",
    "                     count_freq_dict.pop(freq_dict[num])\n",
    "                freq_dict[num]+=1\n",
    "            \n",
    "            if freq_dict[num] not in count_freq_dict:\n",
    "                count_freq_dict[freq_dict[num]]=[num]\n",
    "            else:\n",
    "                count_freq_dict[freq_dict[num]].append(num)\n",
    "        top_freq = sorted(count_freq_dict.keys(),reverse = True)[:k]\n",
    "        res = []\n",
    "        for i in top_freq:\n",
    "            res.extend(count_freq_dict[i])\n",
    "        return res[:k]"
   ]
  },
  {
   "cell_type": "code",
   "execution_count": null,
   "metadata": {},
   "outputs": [],
   "source": []
  }
 ],
 "metadata": {
  "interpreter": {
   "hash": "762306bead03dc84e16aee56f31f40b1a0c18d71c74386c9334f6620b6a3216a"
  },
  "kernelspec": {
   "display_name": "Python 3 (ipykernel)",
   "language": "python",
   "name": "python3"
  },
  "language_info": {
   "codemirror_mode": {
    "name": "ipython",
    "version": 3
   },
   "file_extension": ".py",
   "mimetype": "text/x-python",
   "name": "python",
   "nbconvert_exporter": "python",
   "pygments_lexer": "ipython3",
   "version": "3.9.12"
  }
 },
 "nbformat": 4,
 "nbformat_minor": 4
}
