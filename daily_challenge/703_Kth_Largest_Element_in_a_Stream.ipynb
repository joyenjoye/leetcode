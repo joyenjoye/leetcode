{
 "cells": [
  {
   "cell_type": "markdown",
   "metadata": {},
   "source": [
    "23May23: 1,009,706"
   ]
  },
  {
   "cell_type": "code",
   "execution_count": 2,
   "metadata": {},
   "outputs": [
    {
     "name": "stdout",
     "output_type": "stream",
     "text": [
      "51 out of 2701 \n"
     ]
    }
   ],
   "source": [
    "print(\"%s out of %s \" %(51, 671+1434+596))"
   ]
  },
  {
   "cell_type": "code",
   "execution_count": 3,
   "metadata": {},
   "outputs": [],
   "source": [
    "from typing import List"
   ]
  },
  {
   "cell_type": "markdown",
   "metadata": {},
   "source": [
    "## Solution 1\n",
    "\n",
    "|  Python3  |         |  |\n",
    "|:--------:|:-------:|---------------|\n",
    "| 运行时长(ms) | 964| 9.66      |\n",
    "|   内存消耗(mb)      | 21.1 | 6.32"
   ]
  },
  {
   "cell_type": "code",
   "execution_count": 4,
   "metadata": {},
   "outputs": [],
   "source": [
    "class KthLargest:\n",
    "\n",
    "    def __init__(self, k: int, nums: List[int]):\n",
    "        self.k = k\n",
    "        nums.sort()\n",
    "        self.nums =  nums\n",
    "        if nums:\n",
    "            if k >len(nums):\n",
    "                self.m = nums[0]\n",
    "            else:\n",
    "                self.m = nums[-k]\n",
    "\n",
    "\n",
    "    def add(self, val: int) -> int:\n",
    "        # print(self.nums)\n",
    "        if self.nums:\n",
    "            if val<=self.m:\n",
    "                self.nums.insert(0,val)\n",
    "                self.m = self.nums[-self.k]\n",
    "            else:\n",
    "                part2 = self.nums[-self.k+1:]\n",
    "                part2.append(val)\n",
    "                part2.sort()\n",
    "                self.nums = self.nums[:-self.k+1]\n",
    "                self.nums.extend(part2)\n",
    "                self.m = self.nums[-self.k]\n",
    "        else:\n",
    "            self.nums.append(val)\n",
    "            self.m = self.nums[-self.k]\n",
    "        return self.m\n",
    "        \n",
    "\n",
    "# Your KthLargest object will be instantiated and called as such:\n",
    "# obj = KthLargest(k, nums)\n",
    "# param_1 = obj.add(val)"
   ]
  },
  {
   "cell_type": "code",
   "execution_count": null,
   "metadata": {},
   "outputs": [],
   "source": []
  }
 ],
 "metadata": {
  "interpreter": {
   "hash": "762306bead03dc84e16aee56f31f40b1a0c18d71c74386c9334f6620b6a3216a"
  },
  "kernelspec": {
   "display_name": "Python 3 (ipykernel)",
   "language": "python",
   "name": "python3"
  },
  "language_info": {
   "codemirror_mode": {
    "name": "ipython",
    "version": 3
   },
   "file_extension": ".py",
   "mimetype": "text/x-python",
   "name": "python",
   "nbconvert_exporter": "python",
   "pygments_lexer": "ipython3",
   "version": "3.9.12"
  }
 },
 "nbformat": 4,
 "nbformat_minor": 4
}
