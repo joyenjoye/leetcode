{
 "cells": [
  {
   "cell_type": "markdown",
   "id": "b081c228-8f5b-4582-b0e0-b892e8319a72",
   "metadata": {},
   "source": [
    "## 119. Pascal's Triangle II\n",
    "<div class=\"elfjS\" data-track-load=\"description_content\"><p>Given an integer <code>rowIndex</code>, return the <code>rowIndex<sup>th</sup></code> (<strong>0-indexed</strong>) row of the <strong>Pascal's triangle</strong>.</p>\n",
    "\n",
    "<p>In <strong>Pascal's triangle</strong>, each number is the sum of the two numbers directly above it as shown:</p>\n",
    "<img alt=\"\" src=\"https://upload.wikimedia.org/wikipedia/commons/0/0d/PascalTriangleAnimated2.gif\" style=\"height: 240px; width: 260px;\">\n",
    "<p>&nbsp;</p>\n",
    "<p><strong class=\"example\">Example 1:</strong></p>\n",
    "<pre><strong>Input:</strong> rowIndex = 3\n",
    "<strong>Output:</strong> [1,3,3,1]\n",
    "</pre><p><strong class=\"example\">Example 2:</strong></p>\n",
    "<pre><strong>Input:</strong> rowIndex = 0\n",
    "<strong>Output:</strong> [1]\n",
    "</pre><p><strong class=\"example\">Example 3:</strong></p>\n",
    "<pre><strong>Input:</strong> rowIndex = 1\n",
    "<strong>Output:</strong> [1,1]\n",
    "</pre>\n",
    "<p>&nbsp;</p>\n",
    "<p><strong>Constraints:</strong></p>\n",
    "\n",
    "<ul>\n",
    "\t<li><code>0 &lt;= rowIndex &lt;= 33</code></li>\n",
    "</ul>\n",
    "\n",
    "<p>&nbsp;</p>\n",
    "<p><strong>Follow up:</strong> Could you optimize your algorithm to use only <code>O(rowIndex)</code> extra space?</p>\n",
    "</div>"
   ]
  },
  {
   "cell_type": "code",
   "execution_count": 1,
   "id": "2fa34cbb-9c71-49fa-8d0e-78972dce7cea",
   "metadata": {},
   "outputs": [],
   "source": [
    "from typing import List\n",
    "%load_ext memory_magics"
   ]
  },
  {
   "cell_type": "markdown",
   "id": "744d8325-a9d7-496a-8815-8c397b872b82",
   "metadata": {},
   "source": [
    "## Solution 1"
   ]
  },
  {
   "cell_type": "code",
   "execution_count": 2,
   "id": "2244ff5b-1b72-4b34-bd9a-04410f8eadff",
   "metadata": {},
   "outputs": [],
   "source": [
    "class Solution:\n",
    "    def getRow(self, rowIndex: int) -> List[int]:\n",
    "        dp = []\n",
    "        for i in range(rowIndex+1):\n",
    "            row = [1]*(i+1)\n",
    "            if i>1:\n",
    "                for j in range(1,i):\n",
    "                    row[j]=dp[i-1][j-1]+dp[i-1][j]\n",
    "            if i==rowIndex:\n",
    "                return row\n",
    "            else:\n",
    "                dp.append(row)"
   ]
  },
  {
   "cell_type": "code",
   "execution_count": 3,
   "id": "953df8a4-eca2-4beb-ad47-46043bc50afe",
   "metadata": {},
   "outputs": [
    {
     "name": "stdout",
     "output_type": "stream",
     "text": [
      "RAM usage: line: 1.31 KiB / 12.12 KiB\n",
      "CPU times: user 13.2 ms, sys: 20.4 ms, total: 33.5 ms\n",
      "Wall time: 48 ms\n"
     ]
    }
   ],
   "source": [
    "%%time\n",
    "solution = Solution()\n",
    "%memory _ = solution.getRow(10)"
   ]
  },
  {
   "cell_type": "markdown",
   "id": "b8051f49-f02c-4c42-a5bd-d73b483fe694",
   "metadata": {},
   "source": [
    "Sure, here are the updated time and space complexities with `N` instead of `n`:\n",
    "\n",
    "- **Time Complexity**: $O(N^2)$\n",
    "  - The outer loop runs `rowIndex + 1` times, which is $O(N)$.\n",
    "  - Inside the loop, constructing each row takes $O(i)$ time, where $i$ is the current row index.\n",
    "  - In the worst case, when generating the last row, the inner loop runs $i$ times, and each iteration involves constant time operations.\n",
    "  - Therefore, the total time complexity is $O(N^2)$.\n",
    "\n",
    "- **Space Complexity**: $O(N^2)$\n",
    "  - The space complexity is dominated by the `dp` list, which holds all rows of Pascal's triangle up to `rowIndex`.\n",
    "  - Since each row contains up to `rowIndex + 1` elements, and there are `rowIndex + 1` rows, the total number of elements stored in `dp` is $\\frac{N \\cdot (N + 1)}{2}$, which simplifies to $O(N^2)$.\n",
    "  - Hence, the space complexity is $O(N^2)$.\n",
    "\n",
    "These complexities indicate that both time and space requirements grow quadratically with the input size (`rowIndex`), now denoted as `N`."
   ]
  },
  {
   "cell_type": "markdown",
   "id": "6e188c4e-f845-4426-9611-29517f36f93f",
   "metadata": {},
   "source": [
    "## Solution 2"
   ]
  },
  {
   "cell_type": "code",
   "execution_count": 4,
   "id": "63e6bd87-0fb0-47b9-ba54-fb11107fe3c1",
   "metadata": {},
   "outputs": [],
   "source": [
    "class Solution:\n",
    "    def getRow(self, rowIndex: int) -> List[int]:\n",
    "        row = [1] * (rowIndex + 1)\n",
    "        for j in range(1, rowIndex):\n",
    "            prev = 1\n",
    "            for i in range(1, j + 1):\n",
    "                temp = row[i]\n",
    "                row[i] += prev\n",
    "                prev = temp\n",
    "        return row"
   ]
  },
  {
   "cell_type": "code",
   "execution_count": 5,
   "id": "937a7b6e-23f6-4fc4-ba1c-11d9e0a45973",
   "metadata": {},
   "outputs": [
    {
     "name": "stdout",
     "output_type": "stream",
     "text": [
      "RAM usage: line: 511 B / 11.65 KiB\n",
      "CPU times: user 12.1 ms, sys: 18.8 ms, total: 30.9 ms\n",
      "Wall time: 46.4 ms\n"
     ]
    }
   ],
   "source": [
    "%%time\n",
    "solution = Solution()\n",
    "%memory _ = solution.getRow(10)"
   ]
  },
  {
   "cell_type": "markdown",
   "id": "bfe3ea0a-abe7-4027-8b74-79b19d87ee7a",
   "metadata": {},
   "source": [
    "Here are the time and space complexities of the updated solution:\n",
    "\n",
    "- **Time Complexity**: $O(N^2)$\n",
    "  - The outer loop runs `N - 1` times, where `N` is the rowIndex, which is $O(N)$.\n",
    "  - Inside the outer loop, there is another loop that runs from 1 to `rowIndex - 1`, which also contributes $O(N)$ in the worst case.\n",
    "  - Therefore, the total time complexity is $O(N^2)$.\n",
    "\n",
    "- **Space Complexity**: $O(N)$\n",
    "  - The space complexity is dominated by the `row` list, which holds the rowIndex-th row of Pascal's triangle.\n",
    "  - The length of the `row` list is `rowIndex + 1`, which is $O(N)$.\n",
    "  - Hence, the space complexity is $O(N)$.\n",
    "\n",
    "These complexities indicate that time grows quadratically with the input size (`rowIndex`), and space grows linearly with the input size."
   ]
  }
 ],
 "metadata": {
  "kernelspec": {
   "display_name": "Python 3 (ipykernel)",
   "language": "python",
   "name": "python3"
  },
  "language_info": {
   "codemirror_mode": {
    "name": "ipython",
    "version": 3
   },
   "file_extension": ".py",
   "mimetype": "text/x-python",
   "name": "python",
   "nbconvert_exporter": "python",
   "pygments_lexer": "ipython3",
   "version": "3.9.12"
  }
 },
 "nbformat": 4,
 "nbformat_minor": 5
}
