{
 "cells": [
  {
   "cell_type": "markdown",
   "id": "46ec06fb-cb68-4b4f-9079-3b6395d418c9",
   "metadata": {
    "tags": []
   },
   "source": [
    "## 122. Best Time to Buy and Sell Stock II\n",
    "<div class=\"elfjS\" data-track-load=\"description_content\"><p>You are given an integer array <code>prices</code> where <code>prices[i]</code> is the price of a given stock on the <code>i<sup>th</sup></code> day.</p>\n",
    "\n",
    "<p>On each day, you may decide to buy and/or sell the stock. You can only hold <strong>at most one</strong> share of the stock at any time. However, you can buy it then immediately sell it on the <strong>same day</strong>.</p>\n",
    "\n",
    "<p>Find and return <em>the <strong>maximum</strong> profit you can achieve</em>.</p>\n",
    "\n",
    "<p>&nbsp;</p>\n",
    "<p><strong class=\"example\">Example 1:</strong></p>\n",
    "\n",
    "<pre><strong>Input:</strong> prices = [7,1,5,3,6,4]\n",
    "<strong>Output:</strong> 7\n",
    "<strong>Explanation:</strong> Buy on day 2 (price = 1) and sell on day 3 (price = 5), profit = 5-1 = 4.\n",
    "Then buy on day 4 (price = 3) and sell on day 5 (price = 6), profit = 6-3 = 3.\n",
    "Total profit is 4 + 3 = 7.\n",
    "</pre>\n",
    "\n",
    "<p><strong class=\"example\">Example 2:</strong></p>\n",
    "\n",
    "<pre><strong>Input:</strong> prices = [1,2,3,4,5]\n",
    "<strong>Output:</strong> 4\n",
    "<strong>Explanation:</strong> Buy on day 1 (price = 1) and sell on day 5 (price = 5), profit = 5-1 = 4.\n",
    "Total profit is 4.\n",
    "</pre>\n",
    "\n",
    "<p><strong class=\"example\">Example 3:</strong></p>\n",
    "\n",
    "<pre><strong>Input:</strong> prices = [7,6,4,3,1]\n",
    "<strong>Output:</strong> 0\n",
    "<strong>Explanation:</strong> There is no way to make a positive profit, so we never buy the stock to achieve the maximum profit of 0.\n",
    "</pre>\n",
    "\n",
    "<p>&nbsp;</p>\n",
    "<p><strong>Constraints:</strong></p>\n",
    "\n",
    "<ul>\n",
    "\t<li><code>1 &lt;= prices.length &lt;= 3 * 10<sup>4</sup></code></li>\n",
    "\t<li><code>0 &lt;= prices[i] &lt;= 10<sup>4</sup></code></li>\n",
    "</ul>\n",
    "</div>"
   ]
  },
  {
   "cell_type": "code",
   "execution_count": 1,
   "id": "2fa34cbb-9c71-49fa-8d0e-78972dce7cea",
   "metadata": {},
   "outputs": [],
   "source": [
    "from typing import List\n",
    "%load_ext memory_magics"
   ]
  },
  {
   "cell_type": "markdown",
   "id": "744d8325-a9d7-496a-8815-8c397b872b82",
   "metadata": {
    "tags": []
   },
   "source": [
    "## Solution 1"
   ]
  },
  {
   "cell_type": "code",
   "execution_count": 2,
   "id": "a1eae05a-240b-4ede-b1e2-563b0feff465",
   "metadata": {},
   "outputs": [],
   "source": [
    "class Solution:\n",
    "    def maxProfit(self, prices: List[int]) -> int: \n",
    "        dp = []\n",
    "        i = 0\n",
    "        n = len(prices)\n",
    "        while i<n-1:\n",
    "            if prices[i+1]>prices[i]:\n",
    "                dp.append( prices[i+1]- prices[i])\n",
    "            i +=1\n",
    "        return sum(dp)\n",
    "    \n",
    "    from collections import defaultdict"
   ]
  },
  {
   "cell_type": "code",
   "execution_count": 3,
   "id": "eaf11a73-e349-48c7-965e-ad2c68ed78e5",
   "metadata": {},
   "outputs": [
    {
     "name": "stdout",
     "output_type": "stream",
     "text": [
      "RAM usage: line: 1.37 KiB / 13.06 KiB\n",
      "CPU times: user 9.21 ms, sys: 13.1 ms, total: 22.3 ms\n",
      "Wall time: 23.4 ms\n"
     ]
    }
   ],
   "source": [
    "%%time\n",
    "solution = Solution()\n",
    "%memory _ = solution.maxProfit([1,2,3,4,5])"
   ]
  },
  {
   "cell_type": "markdown",
   "id": "e7ac202a-9cc9-475f-82fb-c3a4b9aab9c3",
   "metadata": {
    "tags": []
   },
   "source": [
    "## Solution 2"
   ]
  },
  {
   "cell_type": "code",
   "execution_count": 4,
   "id": "2e63344d-0cae-4100-89f1-fa3d0afacb5a",
   "metadata": {},
   "outputs": [],
   "source": [
    "class Solution:\n",
    "    def maxProfit(self, prices: List[int]) -> int:        \n",
    "        n = len(prices)\n",
    "        dp = [[0] * 2 for _ in range(n)]\n",
    "        \n",
    "        # Initial state\n",
    "        dp[0][0] = 0\n",
    "        dp[0][1] = -prices[0]\n",
    "        \n",
    "        for i in range(1, n):\n",
    "            dp[i][0] = max(dp[i-1][0], dp[i-1][1] + prices[i])\n",
    "            dp[i][1] = max(dp[i-1][1], dp[i-1][0] - prices[i])\n",
    "        \n",
    "        return dp[n-1][0]\n"
   ]
  },
  {
   "cell_type": "code",
   "execution_count": 5,
   "id": "cf4bb185-63f8-4d82-817f-384f826c5348",
   "metadata": {},
   "outputs": [
    {
     "name": "stdout",
     "output_type": "stream",
     "text": [
      "RAM usage: line: 311 B / 12.53 KiB\n",
      "CPU times: user 12.2 ms, sys: 16.3 ms, total: 28.5 ms\n",
      "Wall time: 34.8 ms\n"
     ]
    }
   ],
   "source": [
    "%%time\n",
    "solution = Solution()\n",
    "%memory _ = solution.maxProfit([1,2,3,4,5])"
   ]
  },
  {
   "cell_type": "markdown",
   "id": "333ef290-7e01-432c-93d7-542c673a59cb",
   "metadata": {
    "tags": []
   },
   "source": [
    "## Solution 3"
   ]
  },
  {
   "cell_type": "code",
   "execution_count": 6,
   "id": "5aef998d-b6bc-4474-a92c-89704c2dc081",
   "metadata": {},
   "outputs": [],
   "source": [
    "class Solution:\n",
    "    def maxProfit(self, prices: List[int]) -> int:\n",
    "        dp = [[0,0] for i in range(len(prices))]\n",
    "        for i in range(len(prices)):\n",
    "            if i ==0:\n",
    "                dp[i][0] = 0\n",
    "                dp[i][1] = - prices[i]\n",
    "            else:\n",
    "                # profit not holding the stock at i-th day\n",
    "                dp[i][0] = max( dp[i-1][0], dp[i-1][1]+prices[i])\n",
    "                # profit holding the stock at i-th day\n",
    "                dp[i][1] = dp[i][0] - prices[i]\n",
    "                \n",
    "        # The last day - must sell the stock        \n",
    "        return dp[i][0]"
   ]
  },
  {
   "cell_type": "code",
   "execution_count": 7,
   "id": "ba939323-6cb6-4b9f-8a6a-449c40569d3d",
   "metadata": {},
   "outputs": [
    {
     "name": "stdout",
     "output_type": "stream",
     "text": [
      "RAM usage: line: 311 B / 12.53 KiB\n",
      "CPU times: user 11.1 ms, sys: 16 ms, total: 27.1 ms\n",
      "Wall time: 35.6 ms\n"
     ]
    }
   ],
   "source": [
    "%%time\n",
    "solution = Solution()\n",
    "%memory _ = solution.maxProfit([1,2,3,4,5])"
   ]
  }
 ],
 "metadata": {
  "kernelspec": {
   "display_name": "Python 3 (ipykernel)",
   "language": "python",
   "name": "python3"
  },
  "language_info": {
   "codemirror_mode": {
    "name": "ipython",
    "version": 3
   },
   "file_extension": ".py",
   "mimetype": "text/x-python",
   "name": "python",
   "nbconvert_exporter": "python",
   "pygments_lexer": "ipython3",
   "version": "3.9.12"
  }
 },
 "nbformat": 4,
 "nbformat_minor": 5
}
