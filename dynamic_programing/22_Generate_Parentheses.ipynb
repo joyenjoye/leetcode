{
 "cells": [
  {
   "cell_type": "markdown",
   "id": "46ec06fb-cb68-4b4f-9079-3b6395d418c9",
   "metadata": {
    "tags": []
   },
   "source": [
    "## 22. Generate Parentheses\n",
    "\n",
    "<div class=\"elfjS\" data-track-load=\"description_content\"><p>Given <code>n</code> pairs of parentheses, write a function to <em>generate all combinations of well-formed parentheses</em>.</p>\n",
    "\n",
    "<p>&nbsp;</p>\n",
    "<p><strong class=\"example\">Example 1:</strong></p>\n",
    "<pre><strong>Input:</strong> n = 3\n",
    "<strong>Output:</strong> [\"((()))\",\"(()())\",\"(())()\",\"()(())\",\"()()()\"]\n",
    "</pre><p><strong class=\"example\">Example 2:</strong></p>\n",
    "<pre><strong>Input:</strong> n = 1\n",
    "<strong>Output:</strong> [\"()\"]\n",
    "</pre>\n",
    "<p>&nbsp;</p>\n",
    "<p><strong>Constraints:</strong></p>\n",
    "\n",
    "<ul>\n",
    "\t<li><code>1 &lt;= n &lt;= 8</code></li>\n",
    "</ul>\n",
    "</div>"
   ]
  },
  {
   "cell_type": "code",
   "execution_count": 1,
   "id": "2fa34cbb-9c71-49fa-8d0e-78972dce7cea",
   "metadata": {},
   "outputs": [],
   "source": [
    "from typing import List, Optional\n",
    "%load_ext memory_magics"
   ]
  },
  {
   "cell_type": "markdown",
   "id": "744d8325-a9d7-496a-8815-8c397b872b82",
   "metadata": {
    "tags": []
   },
   "source": [
    "## Solution 1"
   ]
  },
  {
   "cell_type": "code",
   "execution_count": 2,
   "id": "a1eae05a-240b-4ede-b1e2-563b0feff465",
   "metadata": {},
   "outputs": [],
   "source": [
    "class Solution:\n",
    "    def generateParenthesis(self, n: int) -> List[str]:\n",
    "        from collections import defaultdict\n",
    "        if n == 1:\n",
    "            return [\"()\"]\n",
    "\n",
    "        dp = defaultdict(list)\n",
    "        dp[1] = [\"()\"]\n",
    "        for i in range(2, n + 1):   \n",
    "            j = 1\n",
    "            while j<= i//2:\n",
    "                for item in dp[i - j]:\n",
    "                    for v in dp[j]:\n",
    "                        if v + item not in dp[i]:\n",
    "                            dp[i].append(v+item)\n",
    "                        if item + v not in dp[i]:\n",
    "                            dp[i].append(item+v)\n",
    "                    if j ==1:\n",
    "                         if \"(\" + item + \")\" not in dp[i]:\n",
    "                            dp[i].append(\"(\" + item + \")\")\n",
    "                j = j+1\n",
    "                    \n",
    "        return dp[n]\n"
   ]
  },
  {
   "cell_type": "code",
   "execution_count": 3,
   "id": "eaf11a73-e349-48c7-965e-ad2c68ed78e5",
   "metadata": {},
   "outputs": [
    {
     "name": "stdout",
     "output_type": "stream",
     "text": [
      "CPU times: user 41 µs, sys: 1 µs, total: 42 µs\n",
      "Wall time: 46.7 µs\n"
     ]
    }
   ],
   "source": [
    "%%time\n",
    "solution = Solution()\n",
    "_ = solution.generateParenthesis(4)"
   ]
  },
  {
   "cell_type": "markdown",
   "id": "98bf1118-1f64-4f04-9642-ad83c5cfebeb",
   "metadata": {
    "tags": []
   },
   "source": [
    "## Solution 2"
   ]
  },
  {
   "cell_type": "code",
   "execution_count": 4,
   "id": "104f0f87-42ed-40f4-a36e-3eb4d288928a",
   "metadata": {},
   "outputs": [],
   "source": [
    "class Solution:\n",
    "    def generateParenthesis(self, n: int) -> List[str]:\n",
    "        if n == 1:\n",
    "            return [\"()\"]\n",
    "\n",
    "        dp = {1: [\"()\"]}\n",
    "        for i in range(2, n + 1):\n",
    "            dp[i] = []    \n",
    "            j = 1\n",
    "            while j<= i//2:\n",
    "                for item in dp[i - j]:\n",
    "                    for v in dp[j]:\n",
    "                        if v + item not in dp[i]:\n",
    "                            dp[i].append(v+item)\n",
    "                        if item + v not in dp[i]:\n",
    "                            dp[i].append(item+v)\n",
    "                    if j ==1:\n",
    "                         if \"(\" + item + \")\" not in dp[i]:\n",
    "                            dp[i].append(\"(\" + item + \")\")\n",
    "                j = j+1\n",
    "                    \n",
    "        return dp[n]\n",
    "\n",
    "\n",
    "        "
   ]
  },
  {
   "cell_type": "code",
   "execution_count": 5,
   "id": "ca77707f-8d19-49ed-a7f3-8c5497dee1ae",
   "metadata": {},
   "outputs": [
    {
     "name": "stdout",
     "output_type": "stream",
     "text": [
      "CPU times: user 33 µs, sys: 1 µs, total: 34 µs\n",
      "Wall time: 37.2 µs\n"
     ]
    }
   ],
   "source": [
    "%%time\n",
    "solution = Solution()\n",
    "_ = solution.generateParenthesis(4)"
   ]
  },
  {
   "cell_type": "markdown",
   "id": "9c3d608d-a19e-4a71-91ab-e39b4e763398",
   "metadata": {
    "tags": []
   },
   "source": [
    "## Solution 3"
   ]
  },
  {
   "cell_type": "code",
   "execution_count": 6,
   "id": "0cd3c0ff-e7a9-4552-8240-b65ed3b8ebdb",
   "metadata": {},
   "outputs": [],
   "source": [
    "class Solution:\n",
    "    def generateParenthesis(self, n: int) -> List[str]:\n",
    "        if n == 0:\n",
    "            return []\n",
    "        \n",
    "        dp = [[] for _ in range(n + 1)]\n",
    "        dp[0] = ['']\n",
    "        \n",
    "        for i in range(1, n + 1):\n",
    "            for j in range(i):\n",
    "                for x in dp[j]:\n",
    "                    for y in dp[i - j - 1]:\n",
    "                        dp[i].append('(' + x + ')' + y)\n",
    "        \n",
    "        return dp[n]"
   ]
  },
  {
   "cell_type": "code",
   "execution_count": 7,
   "id": "ba51a5b1-8bd3-49a0-bd9f-9444ab9b4b78",
   "metadata": {},
   "outputs": [
    {
     "name": "stdout",
     "output_type": "stream",
     "text": [
      "CPU times: user 25 µs, sys: 0 ns, total: 25 µs\n",
      "Wall time: 28.8 µs\n"
     ]
    }
   ],
   "source": [
    "%%time\n",
    "solution = Solution()\n",
    "_ = solution.generateParenthesis(4)"
   ]
  }
 ],
 "metadata": {
  "kernelspec": {
   "display_name": "Python 3 (ipykernel)",
   "language": "python",
   "name": "python3"
  },
  "language_info": {
   "codemirror_mode": {
    "name": "ipython",
    "version": 3
   },
   "file_extension": ".py",
   "mimetype": "text/x-python",
   "name": "python",
   "nbconvert_exporter": "python",
   "pygments_lexer": "ipython3",
   "version": "3.9.12"
  }
 },
 "nbformat": 4,
 "nbformat_minor": 5
}
