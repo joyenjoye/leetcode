{
 "cells": [
  {
   "cell_type": "markdown",
   "id": "b081c228-8f5b-4582-b0e0-b892e8319a72",
   "metadata": {},
   "source": [
    "Round 2 \n",
    "\n",
    "24May31\n",
    "\n",
    "Day3: 807,854\n",
    "\n",
    "110/3167"
   ]
  },
  {
   "cell_type": "code",
   "execution_count": 1,
   "id": "2fa34cbb-9c71-49fa-8d0e-78972dce7cea",
   "metadata": {},
   "outputs": [],
   "source": [
    "from typing import List"
   ]
  },
  {
   "cell_type": "markdown",
   "id": "744d8325-a9d7-496a-8815-8c397b872b82",
   "metadata": {},
   "source": [
    "## Solution 1"
   ]
  },
  {
   "cell_type": "code",
   "execution_count": 2,
   "id": "2244ff5b-1b72-4b34-bd9a-04410f8eadff",
   "metadata": {},
   "outputs": [],
   "source": [
    "class Solution:\n",
    "    def canPartition(self, nums: List[int]) -> bool:\n",
    "        total = sum(nums)\n",
    "        \n",
    "        if total % 2 != 0:\n",
    "            return False\n",
    "        \n",
    "        target = total // 2\n",
    "        \n",
    "        dp = [False] * (target + 1)\n",
    "        dp[0] = True\n",
    "        \n",
    "        for num in nums:\n",
    "            for j in range(target, num - 1, -1):\n",
    "                if dp[j - num]:\n",
    "                    dp[j] = True\n",
    "        \n",
    "        return dp[target]"
   ]
  }
 ],
 "metadata": {
  "kernelspec": {
   "display_name": "Python 3 (ipykernel)",
   "language": "python",
   "name": "python3"
  },
  "language_info": {
   "codemirror_mode": {
    "name": "ipython",
    "version": 3
   },
   "file_extension": ".py",
   "mimetype": "text/x-python",
   "name": "python",
   "nbconvert_exporter": "python",
   "pygments_lexer": "ipython3",
   "version": "3.9.12"
  }
 },
 "nbformat": 4,
 "nbformat_minor": 5
}
