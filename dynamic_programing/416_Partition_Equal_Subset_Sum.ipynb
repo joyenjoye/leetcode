{
 "cells": [
  {
   "cell_type": "markdown",
   "id": "46ec06fb-cb68-4b4f-9079-3b6395d418c9",
   "metadata": {
    "tags": []
   },
   "source": [
    "## 416. Partition Equal Subset Sum\n",
    "<div class=\"elfjS\" data-track-load=\"description_content\"><p>Given an integer array <code>nums</code>, return <code>true</code> <em>if you can partition the array into two subsets such that the sum of the elements in both subsets is equal or </em><code>false</code><em> otherwise</em>.</p>\n",
    "\n",
    "<p>&nbsp;</p>\n",
    "<p><strong class=\"example\">Example 1:</strong></p>\n",
    "\n",
    "<pre><strong>Input:</strong> nums = [1,5,11,5]\n",
    "<strong>Output:</strong> true\n",
    "<strong>Explanation:</strong> The array can be partitioned as [1, 5, 5] and [11].\n",
    "</pre>\n",
    "\n",
    "<p><strong class=\"example\">Example 2:</strong></p>\n",
    "\n",
    "<pre><strong>Input:</strong> nums = [1,2,3,5]\n",
    "<strong>Output:</strong> false\n",
    "<strong>Explanation:</strong> The array cannot be partitioned into equal sum subsets.\n",
    "</pre>\n",
    "\n",
    "<p>&nbsp;</p>\n",
    "<p><strong>Constraints:</strong></p>\n",
    "\n",
    "<ul>\n",
    "\t<li><code>1 &lt;= nums.length &lt;= 200</code></li>\n",
    "\t<li><code>1 &lt;= nums[i] &lt;= 100</code></li>\n",
    "</ul>\n",
    "</div>"
   ]
  },
  {
   "cell_type": "code",
   "execution_count": 1,
   "id": "2fa34cbb-9c71-49fa-8d0e-78972dce7cea",
   "metadata": {},
   "outputs": [],
   "source": [
    "from typing import List\n",
    "%load_ext memory_magics"
   ]
  },
  {
   "cell_type": "markdown",
   "id": "744d8325-a9d7-496a-8815-8c397b872b82",
   "metadata": {},
   "source": [
    "## Solution 1"
   ]
  },
  {
   "cell_type": "code",
   "execution_count": 2,
   "id": "2244ff5b-1b72-4b34-bd9a-04410f8eadff",
   "metadata": {},
   "outputs": [],
   "source": [
    "class Solution:\n",
    "    def canPartition(self, nums: List[int]) -> bool:\n",
    "        total = sum(nums)\n",
    "        \n",
    "        if total % 2 != 0:\n",
    "            return False\n",
    "        \n",
    "        target = total // 2\n",
    "        \n",
    "        dp = [False] * (target + 1)\n",
    "        dp[0] = True\n",
    "        \n",
    "        for num in nums:\n",
    "            for j in range(target, num - 1, -1):\n",
    "                if dp[j - num]:\n",
    "                    dp[j] = True\n",
    "        \n",
    "        return dp[target]"
   ]
  },
  {
   "cell_type": "code",
   "execution_count": 3,
   "id": "eaf11a73-e349-48c7-965e-ad2c68ed78e5",
   "metadata": {},
   "outputs": [
    {
     "name": "stdout",
     "output_type": "stream",
     "text": [
      "RAM usage: line: 1.31 KiB / 13.04 KiB\n",
      "CPU times: user 8.7 ms, sys: 14.3 ms, total: 23 ms\n",
      "Wall time: 25.3 ms\n"
     ]
    }
   ],
   "source": [
    "%%time\n",
    "solution = Solution()\n",
    "%memory _ = solution.canPartition([1,5,11,5])"
   ]
  },
  {
   "cell_type": "markdown",
   "id": "f3780b0a-8280-46b8-87ca-fb98773daf2d",
   "metadata": {},
   "source": [
    "- Time Complexity: $O(N \\times \\text{target})$\n",
    "- Space Complexity: $O(\\text{target})$\n",
    "\n",
    "Where:\n",
    "- $N$ is the number of elements in the input array `nums`.\n",
    "- $\\text{target}$ is half of the total sum of the array elements, i.e., $\\text{target} = \\frac{\\text{total sum}}{2}$.\n"
   ]
  }
 ],
 "metadata": {
  "kernelspec": {
   "display_name": "Python 3 (ipykernel)",
   "language": "python",
   "name": "python3"
  },
  "language_info": {
   "codemirror_mode": {
    "name": "ipython",
    "version": 3
   },
   "file_extension": ".py",
   "mimetype": "text/x-python",
   "name": "python",
   "nbconvert_exporter": "python",
   "pygments_lexer": "ipython3",
   "version": "3.9.12"
  }
 },
 "nbformat": 4,
 "nbformat_minor": 5
}
