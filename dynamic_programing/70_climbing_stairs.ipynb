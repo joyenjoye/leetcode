{
 "cells": [
  {
   "cell_type": "markdown",
   "id": "176770b2-70f6-41be-8193-3b747687075d",
   "metadata": {
    "tags": []
   },
   "source": [
    "## 70. Climbing Stairs\n",
    "<div class=\"elfjS\" data-track-load=\"description_content\"><p>You are climbing a staircase. It takes <code>n</code> steps to reach the top.</p>\n",
    "\n",
    "<p>Each time you can either climb <code>1</code> or <code>2</code> steps. In how many distinct ways can you climb to the top?</p>\n",
    "\n",
    "<p>&nbsp;</p>\n",
    "<p><strong class=\"example\">Example 1:</strong></p>\n",
    "\n",
    "<pre><strong>Input:</strong> n = 2\n",
    "<strong>Output:</strong> 2\n",
    "<strong>Explanation:</strong> There are two ways to climb to the top.\n",
    "1. 1 step + 1 step\n",
    "2. 2 steps\n",
    "</pre>\n",
    "\n",
    "<p><strong class=\"example\">Example 2:</strong></p>\n",
    "\n",
    "<pre><strong>Input:</strong> n = 3\n",
    "<strong>Output:</strong> 3\n",
    "<strong>Explanation:</strong> There are three ways to climb to the top.\n",
    "1. 1 step + 1 step + 1 step\n",
    "2. 1 step + 2 steps\n",
    "3. 2 steps + 1 step\n",
    "</pre>\n",
    "\n",
    "<p>&nbsp;</p>\n",
    "<p><strong>Constraints:</strong></p>\n",
    "\n",
    "<ul>\n",
    "\t<li><code>1 &lt;= n &lt;= 45</code></li>\n",
    "</ul>\n",
    "</div>"
   ]
  },
  {
   "cell_type": "code",
   "execution_count": 1,
   "id": "2fa34cbb-9c71-49fa-8d0e-78972dce7cea",
   "metadata": {},
   "outputs": [],
   "source": [
    "from functools import lru_cache\n",
    "%load_ext memory_magics"
   ]
  },
  {
   "cell_type": "markdown",
   "id": "744d8325-a9d7-496a-8815-8c397b872b82",
   "metadata": {},
   "source": [
    "## Solution 1"
   ]
  },
  {
   "cell_type": "code",
   "execution_count": 2,
   "id": "2244ff5b-1b72-4b34-bd9a-04410f8eadff",
   "metadata": {},
   "outputs": [],
   "source": [
    "class Solution:\n",
    "    @lru_cache\n",
    "    def climbStairs(self, n: int) -> int:\n",
    "        if n == 1:\n",
    "            return 1\n",
    "        elif n == 2:\n",
    "            return 2\n",
    "        else:\n",
    "            return self.climbStairs(n-1)+self.climbStairs(n-2)"
   ]
  },
  {
   "cell_type": "code",
   "execution_count": 3,
   "id": "e5aa0485-b9e8-4985-a4a9-9e3f36306d7e",
   "metadata": {},
   "outputs": [
    {
     "name": "stdout",
     "output_type": "stream",
     "text": [
      "RAM usage: line: 2.53 KiB / 12.48 KiB\n",
      "CPU times: user 10 ms, sys: 15.6 ms, total: 25.6 ms\n",
      "Wall time: 29 ms\n"
     ]
    }
   ],
   "source": [
    "%%time\n",
    "solution = Solution()\n",
    "%memory _ = solution.climbStairs(3)"
   ]
  },
  {
   "cell_type": "markdown",
   "id": "2ea20645-3d36-4940-8628-b72bd6f63ea5",
   "metadata": {},
   "source": [
    "## Solution 2"
   ]
  },
  {
   "cell_type": "code",
   "execution_count": 4,
   "id": "90491041-1d7f-4121-a57d-6915cf87fe6a",
   "metadata": {},
   "outputs": [],
   "source": [
    "class Solution:\n",
    "    def climbStairs(self, n: int) -> int:\n",
    "        if n == 1:\n",
    "            return 1\n",
    "        if n == 2:\n",
    "            return 2\n",
    "        \n",
    "        dp = [0] * (n + 1)\n",
    "        \n",
    "        dp[1] = 1\n",
    "        dp[2] = 2\n",
    "        \n",
    "        for i in range(3, n + 1):\n",
    "            dp[i] = dp[i - 1] + dp[i - 2]\n",
    "        \n",
    "        return dp[n]"
   ]
  },
  {
   "cell_type": "code",
   "execution_count": 5,
   "id": "7cd38732-09e5-49cc-a546-2648eb7ed6cc",
   "metadata": {},
   "outputs": [
    {
     "name": "stdout",
     "output_type": "stream",
     "text": [
      "RAM usage: line: 1.62 KiB / 12.58 KiB\n",
      "CPU times: user 14 ms, sys: 19.8 ms, total: 33.8 ms\n",
      "Wall time: 66.1 ms\n"
     ]
    }
   ],
   "source": [
    "%%time\n",
    "solution = Solution()\n",
    "%memory _ = solution.climbStairs(3)"
   ]
  }
 ],
 "metadata": {
  "kernelspec": {
   "display_name": "Python 3 (ipykernel)",
   "language": "python",
   "name": "python3"
  },
  "language_info": {
   "codemirror_mode": {
    "name": "ipython",
    "version": 3
   },
   "file_extension": ".py",
   "mimetype": "text/x-python",
   "name": "python",
   "nbconvert_exporter": "python",
   "pygments_lexer": "ipython3",
   "version": "3.9.12"
  }
 },
 "nbformat": 4,
 "nbformat_minor": 5
}
