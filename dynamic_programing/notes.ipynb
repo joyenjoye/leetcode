{
 "cells": [
  {
   "cell_type": "markdown",
   "metadata": {},
   "source": [
    "## 1 区间调动问题\n",
    "\n",
    "### 1.1 无权区间调度问题\n",
    "\n",
    "- 如果两个任务没有重叠的时间，则两个任务互相兼容\n",
    "- 找到最大互相兼容的任务集合\n",
    "\n",
    "可采用贪心算法: 按照最早结束时间排序\n",
    "\n",
    "### 1.2 带权区间调度问题\n",
    "\n",
    "动态规划四步骤：\n",
    "1. 确定状态\n",
    "2. 状态转移方程\n",
    "3. 初始条件和边界情况\n",
    "4. 确定计算顺序\n",
    "\n",
    "\n"
   ]
  },
  {
   "cell_type": "markdown",
   "metadata": {},
   "source": []
  }
 ],
 "metadata": {
  "language_info": {
   "name": "python"
  },
  "orig_nbformat": 4
 },
 "nbformat": 4,
 "nbformat_minor": 2
}
