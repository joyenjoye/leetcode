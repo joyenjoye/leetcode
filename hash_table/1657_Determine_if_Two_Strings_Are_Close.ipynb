{
 "cells": [
  {
   "cell_type": "markdown",
   "id": "63158a98-33df-4bc1-8419-af29a45bea59",
   "metadata": {},
   "source": [
    "- 23June29(Day81): 711,140"
   ]
  },
  {
   "cell_type": "code",
   "execution_count": 1,
   "id": "ed5f0d49-6e30-4327-a5b5-60cc112ec7e2",
   "metadata": {},
   "outputs": [
    {
     "name": "stdout",
     "output_type": "stream",
     "text": [
      "89 out of 2759, which is 3.23% \n"
     ]
    }
   ],
   "source": [
    "done = 66+21+2\n",
    "total = 690+1460+609\n",
    "print(\"%s out of %s, which is %.2f%% \" %(done, total,done/total*100))"
   ]
  },
  {
   "cell_type": "markdown",
   "id": "718bc673-dfc9-4ea6-9b4a-6dec94631696",
   "metadata": {},
   "source": [
    "## Solution 1"
   ]
  },
  {
   "cell_type": "code",
   "execution_count": 4,
   "id": "72908e09-25a9-4cb1-9afc-332a3a986c36",
   "metadata": {},
   "outputs": [],
   "source": [
    "class Solution:\n",
    "    def closeStrings(self, word1: str, word2: str) -> bool:\n",
    "        if len(word1)!=len(word2):\n",
    "            return False\n",
    "        if len(set(word1))!=len(set(word2)):\n",
    "            return False\n",
    "\n",
    "        temp1 = dict()\n",
    "        for w in word1:\n",
    "            if w in temp1:\n",
    "                temp1[w]+=1\n",
    "            else:\n",
    "                temp1[w]=1\n",
    "        temp2 = dict()\n",
    "        for w in word2:\n",
    "            if w not in temp1:\n",
    "                return False\n",
    "            if w in temp2:\n",
    "                temp2[w]+=1\n",
    "            else:\n",
    "                temp2[w]=1\n",
    "\n",
    "        return sorted(temp1.values()) ==sorted(temp2.values())"
   ]
  }
 ],
 "metadata": {
  "kernelspec": {
   "display_name": "Python 3 (ipykernel)",
   "language": "python",
   "name": "python3"
  },
  "language_info": {
   "codemirror_mode": {
    "name": "ipython",
    "version": 3
   },
   "file_extension": ".py",
   "mimetype": "text/x-python",
   "name": "python",
   "nbconvert_exporter": "python",
   "pygments_lexer": "ipython3",
   "version": "3.9.12"
  }
 },
 "nbformat": 4,
 "nbformat_minor": 5
}
