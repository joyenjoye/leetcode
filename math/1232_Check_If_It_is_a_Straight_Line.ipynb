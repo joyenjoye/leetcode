{
 "cells": [
  {
   "cell_type": "markdown",
   "id": "63158a98-33df-4bc1-8419-af29a45bea59",
   "metadata": {},
   "source": [
    "- 23July04(Day86): 690,588"
   ]
  },
  {
   "cell_type": "code",
   "execution_count": 1,
   "id": "ed5f0d49-6e30-4327-a5b5-60cc112ec7e2",
   "metadata": {},
   "outputs": [
    {
     "name": "stdout",
     "output_type": "stream",
     "text": [
      "94 out of 2763, which is 3.40% \n"
     ]
    }
   ],
   "source": [
    "done = 67+25+2\n",
    "total = 691+1462+610\n",
    "print(\"%s out of %s, which is %.2f%% \" %(done, total,done/total*100))"
   ]
  },
  {
   "cell_type": "markdown",
   "id": "718bc673-dfc9-4ea6-9b4a-6dec94631696",
   "metadata": {},
   "source": [
    "## Solution 1\n",
    "\n",
    "|  Python3  |         |  |\n",
    "|:--------:|:-------:|---------------|\n",
    "| 运行时长(ms) | 72 |   87.27  |\n",
    "|   内存消耗(mb)      | 16.8 | 59.52\n",
    "\n",
    "Solution come from [here](https://leetcode.com/problems/decode-string/solutions/3680089/beginner-friendly-solution-using-stacks-most-efficient/)."
   ]
  },
  {
   "cell_type": "code",
   "execution_count": 4,
   "id": "72908e09-25a9-4cb1-9afc-332a3a986c36",
   "metadata": {},
   "outputs": [],
   "source": [
    "class Solution:\n",
    "    def checkStraightLine(self, coordinates: List[List[int]]) -> bool:\n",
    "        n = len(coordinates)\n",
    "        for i in range(1,n):\n",
    "            c1 = coordinates[i-1]\n",
    "            c2 = coordinates[i]\n",
    "            if i==1:\n",
    "                if c2[1]==c1[1]:\n",
    "                    s = \"v\"\n",
    "                else:\n",
    "                    s = (c2[0]-c1[0])/(c2[1]-c1[1])\n",
    "            else:\n",
    "                if c2[1]-c1[1]==0: \n",
    "                    if s !=\"v\":\n",
    "                        return False\n",
    "                elif s != (c2[0]-c1[0])/(c2[1]-c1[1]):\n",
    "                    return False\n",
    "        return True\n"
   ]
  }
 ],
 "metadata": {
  "kernelspec": {
   "display_name": "Python 3 (ipykernel)",
   "language": "python",
   "name": "python3"
  },
  "language_info": {
   "codemirror_mode": {
    "name": "ipython",
    "version": 3
   },
   "file_extension": ".py",
   "mimetype": "text/x-python",
   "name": "python",
   "nbconvert_exporter": "python",
   "pygments_lexer": "ipython3",
   "version": "3.9.12"
  }
 },
 "nbformat": 4,
 "nbformat_minor": 5
}
