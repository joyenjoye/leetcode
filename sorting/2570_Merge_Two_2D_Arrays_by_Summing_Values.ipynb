{
 "cells": [
  {
   "cell_type": "markdown",
   "metadata": {},
   "source": [
    "23May21: 1,033,595"
   ]
  },
  {
   "cell_type": "code",
   "execution_count": 1,
   "metadata": {},
   "outputs": [
    {
     "name": "stdout",
     "output_type": "stream",
     "text": [
      "49 out of 2699 \n"
     ]
    }
   ],
   "source": [
    "print(\"%s out of %s \" %(49, 671+1433+595))"
   ]
  },
  {
   "cell_type": "code",
   "execution_count": 3,
   "metadata": {},
   "outputs": [],
   "source": [
    "from typing import List"
   ]
  },
  {
   "cell_type": "markdown",
   "metadata": {},
   "source": [
    "## Solution 1\n",
    "\n",
    "|  Python3  |         |  |\n",
    "|:--------:|:-------:|---------------|\n",
    "| 运行时长(ms) | 85| 9.57       |\n",
    "|   内存消耗(mb)      | 16.4 | 24.25     "
   ]
  },
  {
   "cell_type": "code",
   "execution_count": 4,
   "metadata": {},
   "outputs": [],
   "source": [
    "class Solution:\n",
    "    def mergeArrays(self, nums1: List[List[int]], nums2: List[List[int]]) -> List[List[int]]:\n",
    "        nums = []\n",
    "        i = 0\n",
    "        for item1 in nums1:\n",
    "            idx1, val1 = item1\n",
    "            while i < len(nums2):\n",
    "                idx2, val2 = nums2[i]\n",
    "                if idx2==idx1:\n",
    "                    nums.append([idx1,val1+val2])\n",
    "                    i +=1\n",
    "                    break\n",
    "                elif idx2<idx1:\n",
    "                    nums.append([idx2,val2])\n",
    "                    i +=1\n",
    "                else:\n",
    "                    nums.append([idx1,val1])\n",
    "                    break\n",
    "            if i ==len(nums2) and idx1!=idx2:\n",
    "                nums.append(item1)\n",
    "        if i <len(nums2):\n",
    "            nums.extend(nums2[i:])\n",
    "        return nums\n"
   ]
  },
  {
   "cell_type": "code",
   "execution_count": null,
   "metadata": {},
   "outputs": [],
   "source": []
  }
 ],
 "metadata": {
  "interpreter": {
   "hash": "762306bead03dc84e16aee56f31f40b1a0c18d71c74386c9334f6620b6a3216a"
  },
  "kernelspec": {
   "display_name": "Python 3 (ipykernel)",
   "language": "python",
   "name": "python3"
  },
  "language_info": {
   "codemirror_mode": {
    "name": "ipython",
    "version": 3
   },
   "file_extension": ".py",
   "mimetype": "text/x-python",
   "name": "python",
   "nbconvert_exporter": "python",
   "pygments_lexer": "ipython3",
   "version": "3.9.12"
  }
 },
 "nbformat": 4,
 "nbformat_minor": 4
}
