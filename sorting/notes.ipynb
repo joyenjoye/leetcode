{
 "cells": [
  {
   "cell_type": "markdown",
   "metadata": {},
   "source": [
    "## 1. 排序简介\n",
    "\n",
    "排序：就是将一组无序的记录序列\n",
    "\n",
    "\n",
    "\n",
    "## 2. 排序算法分类\n",
    "\n",
    "\n",
    "排序算法可以分为内部排序和外部排序，内部排序是数据记录在内存中进行排序，而外部排序是因排序的数据很大，一次不能容纳全部的排序记录，在排序过程中需要访问外存\n",
    "\n",
    "稳定性排序算法\n",
    "\n",
    "\n",
    "\n",
    "\n",
    "## 3. 常见排序算法\n",
    "\n",
    "\n",
    " \n"
   ]
  },
  {
   "cell_type": "markdown",
   "metadata": {},
   "source": [
    "### 1. 冒泡排序(Bubble Sort）\n",
    "\n",
    "- 比较相邻的元素。如果第一个比第二个大，就交换他们两个。\n",
    "\n",
    "- 对每一对相邻元素作同样的工作，从开始第一对到结尾的最后一对。这步做完后，最后的元素会是最大的数。\n",
    "\n",
    "- 针对所有的元素重复以上的步骤，除了最后一个。\n",
    "\n",
    "- 持续每次对越来越少的元素重复上面的步骤，直到没有任何一对数字需要比较。\n",
    "\n",
    "来源：https://github.com/hustcc/JS-Sorting-Algorithm/blob/master/1.bubbleSort.md\n"
   ]
  },
  {
   "cell_type": "code",
   "execution_count": 20,
   "metadata": {},
   "outputs": [],
   "source": [
    "\n",
    "def bubble_sort(self, arr):\n",
    "    for i in range(len(arr)):\n",
    "        for j in range(len(arr)-i-1):\n",
    "            if arr[j] > arr[j+1]:\n",
    "                arr[j], arr[j+1] = arr[j+1], arr[j]\n",
    "    return arr\n"
   ]
  },
  {
   "cell_type": "markdown",
   "metadata": {},
   "source": [
    "|    |      |     |  |\n",
    "|:--------:|:--------:|:-------:|---------------|\n",
    "| 时间复杂度 |最好的情况 | $O(n)$ | 初始序是从小到大升序，此时只需要$n-1$次元素之间的比较，而不移动元素。|\n",
    "|   |最坏的情况 |$O(n^2)$| 初始序列是从大到小降序，此时需要进行$\\sum_{i=2}^{n}(i-1)$次元素之间的比较|\n",
    "\n",
    "由于元素的交换是发生在相邻元素之间的，不会改变相同元素的相对位置，因此冒泡排序法是一种稳定性排序算法\n",
    "\n",
    "来源：[天池leetcode基础训练营课程视频](https://tianchi.aliyun.com/course/932/14646?spm=5176.26707018.J_1142064010.2.3cd0397cRl6jMt)"
   ]
  },
  {
   "cell_type": "markdown",
   "metadata": {},
   "source": [
    "### 2. 选择排序(selectionSort)\n",
    "\n",
    "- 首先在未排序序列中找到最小（大）元素，存放到排序序列的起始位置\n",
    "\n",
    "- 再从剩余未排序元素中继续寻找最小（大）元素，然后放到已排序序列的末尾。\n",
    "\n",
    "- 重复第二步，直到所有元素均排序完毕。"
   ]
  },
  {
   "cell_type": "code",
   "execution_count": null,
   "metadata": {},
   "outputs": [],
   "source": [
    "def selectionSort(arr):\n",
    "    for i in range(len(arr) - 1):\n",
    "    \n",
    "        minIndex = i\n",
    "        for j in range(i + 1, len(arr)):\n",
    "            if arr[j] < arr[minIndex]:\n",
    "                minIndex = j\n",
    "        \n",
    "        if i != minIndex:\n",
    "            arr[i], arr[minIndex] = arr[minIndex], arr[i]\n",
    "    return arr\n",
    "\n"
   ]
  },
  {
   "cell_type": "markdown",
   "metadata": {},
   "source": [
    "|    |      |     |  |\n",
    "|:--------:|:--------:|:-------:|---------------|\n",
    "| 时间复杂度 | | $O(n^2)$ |需要进行$\\sum_{i=2}^{n}(i-1) = \\frac{n*(n-1)}{2}$次元素之间的比较|\n"
   ]
  },
  {
   "cell_type": "markdown",
   "metadata": {},
   "source": [
    "### 插入排序(insertionSort)\n",
    "\n",
    "- 将第一待排序序列第一个元素看做一个有序序列，把第二个元素到最后一个元素当成是未排序序列。\n",
    "\n",
    "- 从头到尾依次扫描未排序序列，将扫描到的每个元素插入有序序列的适当位置。（如果待插入的元素与有序序列中的某个元素相等，则将待插入元素插入到相等元素的后面。）"
   ]
  },
  {
   "cell_type": "code",
   "execution_count": 19,
   "metadata": {},
   "outputs": [],
   "source": [
    "def insertionSort(arr):\n",
    "    #从第二元素开始遍历\n",
    "    for i in range(1, len(arr)):\n",
    "        #当前元素：未排序序列的第一个元素\n",
    "        curr= arr[i]\n",
    "\n",
    "        #未排序序列的前一个元素的下标，也是有序序列的最后一个元素\n",
    "        j = i-1\n",
    "\n",
    "        #如果当前元素小于有序序列的最后一个元素，将有序序列的最后一个元素后移\n",
    "        #并将下标j前移，即当前元素curr与有序序列的倒数第二个元素比较，以此类推\n",
    "        #直到curr不再小于与其比较的元素(下标为j)，或者下标j已经移动到了尽头<0\n",
    "        while j >= 0 and arr[j] > curr:\n",
    "            arr[j+1] = arr[j]\n",
    "            j -= 1\n",
    "\n",
    "        #将j+1下标所在位置赋值为curr\n",
    "        arr[j+1] = curr\n",
    "    return arr\n"
   ]
  },
  {
   "cell_type": "markdown",
   "metadata": {},
   "source": [
    "|    |      |     |  |\n",
    "|:--------:|:--------:|:-------:|---------------|\n",
    "| 时间复杂度 |最好的情况 | $O(n)$ | 初始序是从小到大升序，此时只需要$n-1$次元素之间的比较，而不移动元素。|\n",
    "|   |最坏的情况 |$O(n^2)$| 初始序列是从大到小降序，此时需要进行$\\sum_{i=2}^{n}(i-1)$次元素之间的比较|\n",
    "\n",
    "由于元素的交换是发生在相邻元素之间的，不会改变相同元素的相对位置，因此插入排序法是一种稳定性排序算法\n",
    "\n",
    "来源：[天池leetcode基础训练营课程视频](https://tianchi.aliyun.com/course/932/14646?spm=5176.26707018.J_1142064010.2.3cd0397cRl6jMt)"
   ]
  },
  {
   "cell_type": "markdown",
   "metadata": {},
   "source": [
    "### 希尔排序\n",
    "希尔排序(Shell Sort)是插入排序的一种，它是针对直接插入排序算法的改进。\n",
    "希尔排序又称缩小增量排序，因 DL.Shell 于 1959 年提出而得名。\n",
    "\n",
    "- 将整个序列按照一定的间隔取值划分为若干个子序列，每个字序例分别进行插入排序\n",
    "- 然后逐渐缩小间隔进行下一轮划分子序列和插入排序\n",
    "- 直到最后一轮排序间隔为1，对整个序列进行插入排序"
   ]
  },
  {
   "cell_type": "code",
   "execution_count": 20,
   "metadata": {},
   "outputs": [],
   "source": [
    "def shellSort(arr):\n",
    "\n",
    "    # 初始时候将间隔取值为序列长度的一半\n",
    "    gap = len(arr)//2\n",
    "\n",
    "    while gap > 0:\n",
    "\n",
    "        for i in range(gap, len(arr)):\n",
    "            temp = arr[i]\n",
    "            j = i-gap\n",
    "            while j >= 0 and arr[j] > temp:\n",
    "                arr[j+gap] = arr[j]\n",
    "                j -= gap\n",
    "            arr[j+gap] = temp\n",
    "\n",
    "        gap = gap//2\n",
    "    return arr\n",
    "\n"
   ]
  },
  {
   "cell_type": "markdown",
   "metadata": {},
   "source": [
    "|    |      |     |  |\n",
    "|:--------:|:--------:|:-------:|---------------|\n",
    "| 时间复杂度 | | $O(nlog_2n))$ |外层`while`需要进行$log_2n$次，每次内层`for`和`while`共需要进行$n$次比较|\n",
    "\n",
    "希尔排序是非稳定性排序算法\n",
    "\n",
    "来源：\n",
    "- [天池leetcode基础训练营课程视频](https://tianchi.aliyun.com/course/932/14646?spm=5176.26707018.J_1142064010.2.3cd0397cRl6jMt)\n",
    "- [runoob.com](https://www.runoob.com/data-structures/shell-sort.html#:~:text=%E5%B8%8C%E5%B0%94%E6%8E%92%E5%BA%8F%E6%97%B6%E9%97%B4%E5%A4%8D%E6%9D%82,%E7%9A%84%E7%AE%97%E6%B3%95%E5%BF%AB%E5%BE%97%E5%A4%9A%E3%80%82)"
   ]
  },
  {
   "cell_type": "markdown",
   "metadata": {},
   "source": [
    "### 归并排序\n",
    "- 采用经典的分治策略，先递归地将当前序列平均分成两半\n",
    "- 然后将有序序列两两合并"
   ]
  },
  {
   "cell_type": "code",
   "execution_count": 23,
   "metadata": {},
   "outputs": [],
   "source": [
    "def merge(left,right):\n",
    "    result = []\n",
    "    while left and right:\n",
    "        if left[0] <= right[0]:\n",
    "            result.append(left.pop(0))\n",
    "        else:\n",
    "            result.append(right.pop(0))\n",
    "    while left:\n",
    "        result.append(left.pop(0))\n",
    "    while right:\n",
    "        result.append(right.pop(0))\n",
    "    return result\n",
    "    \n",
    "def mergeSort(arr):\n",
    "    \n",
    "    if(len(arr)<2):\n",
    "        return arr\n",
    "\n",
    "    middle = len(arr)//2\n",
    "\n",
    "    left, right = arr[:middle], arr[middle:]\n",
    "    return merge(mergeSort(left), mergeSort(right))\n",
    "\n"
   ]
  },
  {
   "cell_type": "markdown",
   "metadata": {},
   "source": [
    "|    |      |     |  |\n",
    "|:--------:|:--------:|:-------:|---------------|\n",
    "| 时间复杂度 | | $O(nlog_2n))$ ||\n",
    "\n",
    "归并排序是非稳定性排序算法\n",
    "\n",
    "来源：\n",
    "- [天池leetcode基础训练营课程视频](https://tianchi.aliyun.com/course/932/14646?spm=5176.26707018.J_1142064010.2.3cd0397cRl6jMt)\n",
    "- https://github.com/hustcc/JS-Sorting-Algorithm/blob/master/5.mergeSort.md"
   ]
  },
  {
   "cell_type": "markdown",
   "metadata": {},
   "source": [
    "### 快速排序"
   ]
  },
  {
   "cell_type": "markdown",
   "metadata": {},
   "source": [
    "快速排序是由东尼·霍尔所发展的一种排序算法。在平均状况下，排序 n 个项目要 Ο(nlogn) 次比较。在最坏状况下则需要 Ο(n2) 次比较，但这种状况并不常见。事实上，快速排序通常明显比其他 Ο(nlogn) 算法更快，因为它的内部循环（inner loop）可以在大部分的架构上很有效率地被实现出来。\n",
    "\n",
    "快速排序使用分治法（Divide and conquer）策略来把一个串行（list）分为两个子串行（sub-lists）。\n",
    "\n",
    "快速排序又是一种分而治之思想在排序算法上的典型应用。本质上来看，快速排序应该算是在冒泡排序基础上的递归分治法。\n",
    "\n",
    "快速排序的名字起的是简单粗暴，因为一听到这个名字你就知道它存在的意义，就是快，而且效率高！它是处理大数据最快的排序算法之一了。虽然 Worst Case 的时间复杂度达到了 O(n²)，但是人家就是优秀，在大多数情况下都比平均时间复杂度为 O(n logn) 的排序算法表现要更好，可是这是为什么呢，我也不知道。好在我的强迫症又犯了，查了 N 多资料终于在《算法艺术与信息学竞赛》上找到了满意的答案：\n",
    "\n",
    "> 快速排序的最坏运行情况是 O(n²)，比如说顺序数列的快排。但它的平摊期望时间是 O(nlogn)，且 O(nlogn) 记号中隐含的常数因子很小，比复杂度稳定等于 O(nlogn) 的归并排序要小很多。所以，对绝大多数顺序性较弱的随机数列而言，快速排序总是优于归并排序。\n",
    "\n",
    "来源：\n",
    "- https://raw.githubusercontent.com/hustcc/JS-Sorting-Algorithm/master/6.quickSort.md"
   ]
  },
  {
   "cell_type": "code",
   "execution_count": 25,
   "metadata": {},
   "outputs": [],
   "source": [
    "def swap(arr, i, j):\n",
    "    arr[i], arr[j] = arr[j], arr[i]\n",
    "\n",
    "def partition(arr, left, right):\n",
    "    pivot = left\n",
    "    index = pivot+1\n",
    "    i = index\n",
    "    while  i <= right:\n",
    "        if arr[i] < arr[pivot]:\n",
    "            swap(arr, i, index)\n",
    "            index+=1\n",
    "        i+=1\n",
    "    swap(arr,pivot,index-1)\n",
    "    return index-1\n",
    "    \n",
    "def quickSort(arr, left=None, right=None):\n",
    "    left = 0 if not isinstance(left,(int, float)) else left\n",
    "    right = len(arr)-1 if not isinstance(right,(int, float)) else right\n",
    "    if left < right:\n",
    "        partitionIndex = partition(arr, left, right)\n",
    "        quickSort(arr, left, partitionIndex-1)\n",
    "        quickSort(arr, partitionIndex+1, right)\n",
    "    return arr\n",
    "\n",
    "\n",
    "\n"
   ]
  },
  {
   "cell_type": "markdown",
   "metadata": {},
   "source": []
  },
  {
   "cell_type": "code",
   "execution_count": 1,
   "metadata": {},
   "outputs": [],
   "source": [
    "def swap(arr, i, j):\n",
    "    arr[i], arr[j] = arr[j], arr[i]\n",
    "\n",
    "def buildMaxHeap(arr):\n",
    "    for i in range(len(arr)//2,-1,-1):\n",
    "        heapify(arr,i)\n",
    "\n",
    "def heapify(arr, i):\n",
    "    left = 2*i+1\n",
    "    right = 2*i+2\n",
    "    largest = i\n",
    "    if left < arrLen and arr[left] > arr[largest]:\n",
    "        largest = left\n",
    "    if right < arrLen and arr[right] > arr[largest]:\n",
    "        largest = right\n",
    "\n",
    "    if largest != i:\n",
    "        swap(arr, i, largest)\n",
    "        heapify(arr, largest)\n",
    "\n",
    "\n",
    "\n",
    "def heapSort(arr):\n",
    "    global arrLen\n",
    "    arrLen = len(arr)\n",
    "    buildMaxHeap(arr)\n",
    "    for i in range(len(arr)-1,0,-1):\n",
    "        swap(arr,0,i)\n",
    "        arrLen -=1\n",
    "        heapify(arr, 0)\n",
    "    return arr"
   ]
  },
  {
   "cell_type": "markdown",
   "metadata": {},
   "source": []
  }
 ],
 "metadata": {
  "interpreter": {
   "hash": "762306bead03dc84e16aee56f31f40b1a0c18d71c74386c9334f6620b6a3216a"
  },
  "kernelspec": {
   "display_name": "Python 3.7.1 ('base')",
   "language": "python",
   "name": "python3"
  },
  "language_info": {
   "codemirror_mode": {
    "name": "ipython",
    "version": 3
   },
   "file_extension": ".py",
   "mimetype": "text/x-python",
   "name": "python",
   "nbconvert_exporter": "python",
   "pygments_lexer": "ipython3",
   "version": "3.7.1"
  },
  "orig_nbformat": 4
 },
 "nbformat": 4,
 "nbformat_minor": 2
}
