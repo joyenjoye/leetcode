{
 "cells": [
  {
   "cell_type": "markdown",
   "id": "63158a98-33df-4bc1-8419-af29a45bea59",
   "metadata": {},
   "source": [
    "- 23July02(Day84): 701,028"
   ]
  },
  {
   "cell_type": "code",
   "execution_count": 1,
   "id": "ed5f0d49-6e30-4327-a5b5-60cc112ec7e2",
   "metadata": {},
   "outputs": [
    {
     "name": "stdout",
     "output_type": "stream",
     "text": [
      "92 out of 2763, which is 3.33% \n"
     ]
    }
   ],
   "source": [
    "done = 66+24+2\n",
    "total = 691+1462+610\n",
    "print(\"%s out of %s, which is %.2f%% \" %(done, total,done/total*100))"
   ]
  },
  {
   "cell_type": "markdown",
   "id": "718bc673-dfc9-4ea6-9b4a-6dec94631696",
   "metadata": {},
   "source": [
    "## Solution 1\n",
    "\n",
    "|  Python3  |         |  |\n",
    "|:--------:|:-------:|---------------|\n",
    "| 运行时长(ms) | 120 |   24.9  |\n",
    "|   内存消耗(mb)      | 17.5 | 88.90\n"
   ]
  },
  {
   "cell_type": "code",
   "execution_count": 4,
   "id": "72908e09-25a9-4cb1-9afc-332a3a986c36",
   "metadata": {},
   "outputs": [],
   "source": [
    "class Solution:\n",
    "    def asteroidCollision(self, asteroids: List[int]) -> List[int]:\n",
    "        temp = []\n",
    "        for a in asteroids:\n",
    "            if temp:\n",
    "                if a/temp[-1]>0:\n",
    "                    temp.append(a)\n",
    "                else:\n",
    "                    if a>0:\n",
    "                        temp.append(a)\n",
    "                    else:\n",
    "                        if a/temp[-1]<=-1:\n",
    "                            status = 0\n",
    "                            while temp and a/temp[-1]<=-1:\n",
    "                                if a/temp[-1]==-1:\n",
    "                                    temp.pop()\n",
    "                                    status = 1\n",
    "                                    break\n",
    "                                else:\n",
    "                                    temp.pop()\n",
    "                              \n",
    "                            if temp and a/temp[-1]>0 and status==0:\n",
    "                                temp.append(a)\n",
    "                            elif len(temp)==0 and status==0:\n",
    "                                temp.append(a)\n",
    "\n",
    "            else:\n",
    "                temp.append(a)\n",
    "        return temp"
   ]
  }
 ],
 "metadata": {
  "kernelspec": {
   "display_name": "Python 3 (ipykernel)",
   "language": "python",
   "name": "python3"
  },
  "language_info": {
   "codemirror_mode": {
    "name": "ipython",
    "version": 3
   },
   "file_extension": ".py",
   "mimetype": "text/x-python",
   "name": "python",
   "nbconvert_exporter": "python",
   "pygments_lexer": "ipython3",
   "version": "3.9.12"
  }
 },
 "nbformat": 4,
 "nbformat_minor": 5
}
