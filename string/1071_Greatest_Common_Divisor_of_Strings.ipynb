{
 "cells": [
  {
   "cell_type": "markdown",
   "metadata": {},
   "source": [
    "23May28: 944,812"
   ]
  },
  {
   "cell_type": "code",
   "execution_count": 9,
   "metadata": {},
   "outputs": [
    {
     "name": "stdout",
     "output_type": "stream",
     "text": [
      "58 out of 2713, which is 2.14% \n"
     ]
    }
   ],
   "source": [
    "done = 58\n",
    "total = 675+1439+599\n",
    "print(\"%s out of %s, which is %.2f%% \" %(done, total,done/total*100))"
   ]
  },
  {
   "cell_type": "markdown",
   "metadata": {},
   "source": [
    "## Solution 1\n",
    "\n",
    "|  Python3  |         |  |\n",
    "|:--------:|:-------:|---------------|\n",
    "| 运行时长(ms) | 112| 5.9 |\n",
    "|   内存消耗(mb)      | 16.4 | 28.12"
   ]
  },
  {
   "cell_type": "code",
   "execution_count": 10,
   "metadata": {},
   "outputs": [],
   "source": [
    "class Solution:\n",
    "    def gcdOfStrings(self, str1: str, str2: str) -> str:\n",
    "        m = len(str1)\n",
    "        n = len(str2)\n",
    "        l = min(m,n)\n",
    "        i = 0\n",
    "        res = \"\"\n",
    "        while i <l:\n",
    "            item = str1[:i+1]\n",
    "            if item not in str2:\n",
    "                return res\n",
    "            else:\n",
    "                flag = 0\n",
    "                for v in str1.split(item):\n",
    "                    if len(v)>0:\n",
    "                        flag = 1\n",
    "                        break \n",
    "                if flag ==0:\n",
    "                    for v in str2.split(item):\n",
    "                        if len(v)>0:\n",
    "                            flag = 1\n",
    "                            break \n",
    "                if flag ==0:\n",
    "                    res = item\n",
    "                i = i+1\n",
    "        \n",
    "        return res\n"
   ]
  }
 ],
 "metadata": {
  "interpreter": {
   "hash": "762306bead03dc84e16aee56f31f40b1a0c18d71c74386c9334f6620b6a3216a"
  },
  "kernelspec": {
   "display_name": "Python 3 (ipykernel)",
   "language": "python",
   "name": "python3"
  },
  "language_info": {
   "codemirror_mode": {
    "name": "ipython",
    "version": 3
   },
   "file_extension": ".py",
   "mimetype": "text/x-python",
   "name": "python",
   "nbconvert_exporter": "python",
   "pygments_lexer": "ipython3",
   "version": "3.9.12"
  }
 },
 "nbformat": 4,
 "nbformat_minor": 4
}
