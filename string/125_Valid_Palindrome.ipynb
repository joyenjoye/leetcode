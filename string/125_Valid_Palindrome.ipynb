{
 "cells": [
  {
   "cell_type": "markdown",
   "id": "068e049c-973d-4e60-8ac6-9b27a27f799c",
   "metadata": {},
   "source": [
    "23Apr27\n",
    "\n",
    "Day18: 1,417,981"
   ]
  },
  {
   "cell_type": "markdown",
   "id": "fc827f7a-37f7-43f6-be31-a59c5e56b682",
   "metadata": {},
   "source": [
    "## Solution 1\n",
    "|  Python3  |         |  |\n",
    "|:--------:|:-------:|---------------|\n",
    "| 运行时长(ms) | 87 |   5.35|\n",
    "|   内存消耗(mb)      | 17.2  | 11.32\n"
   ]
  },
  {
   "cell_type": "code",
   "execution_count": 9,
   "id": "e746ef84-d512-411c-8124-ec901ea5576e",
   "metadata": {},
   "outputs": [],
   "source": [
    "class Solution:\n",
    "    def isPalindrome(self, s: str) -> bool:\n",
    "        def is_digit_or_alpha(s):\n",
    "            if s.isalpha():\n",
    "                return True\n",
    "            if s.isdigit():\n",
    "                return True\n",
    "            return False\n",
    "\n",
    "        n = len(s)\n",
    "        i = 0\n",
    "        j = n - 1\n",
    "        s = s.lower()\n",
    "        while i < j:\n",
    "            front = s[i]\n",
    "            back = s[j]\n",
    "            if is_digit_or_alpha(front) and is_digit_or_alpha(back):\n",
    "                if front == back:\n",
    "                    i = i+1\n",
    "                    j = j-1\n",
    "                else:\n",
    "                    return False\n",
    "            if not is_digit_or_alpha(front):\n",
    "                i = i + 1\n",
    "            if not is_digit_or_alpha(back):\n",
    "                j = j - 1\n",
    "        return True"
   ]
  },
  {
   "cell_type": "markdown",
   "id": "2fe9c07d-c821-469a-9970-5aa94bc48344",
   "metadata": {},
   "source": [
    "## Solution 2\n",
    "\n",
    "Time Limit Exceed\n"
   ]
  },
  {
   "cell_type": "code",
   "execution_count": 8,
   "id": "d0526d95-7bd9-4852-b003-4e5547a64aff",
   "metadata": {},
   "outputs": [],
   "source": [
    "class Solution:\n",
    "    def isPalindrome(self, s: str) -> bool:\n",
    "        def isdoa(c):\n",
    "            if c.isdigit():\n",
    "                return True\n",
    "            if c.isalpha():\n",
    "                return True\n",
    "            return False\n",
    "    \n",
    "        \n",
    "        if len(s)==1 and isdoa(s):\n",
    "            return True\n",
    "        \n",
    "        if len(s)==0:\n",
    "            return True\n",
    " \n",
    "        if isdoa(s[-1]):\n",
    "            if isdoa(s[0]):\n",
    "                if s[-1].lower() == s[0].lower():\n",
    "                    return self.isPalindrome(s[1:-1]) \n",
    "                else:\n",
    "                    return False\n",
    "            else:\n",
    "                return self.isPalindrome(s[1:])  \n",
    "        else:\n",
    "            return self.isPalindrome(s[:-1]) "
   ]
  }
 ],
 "metadata": {
  "kernelspec": {
   "display_name": "Python 3 (ipykernel)",
   "language": "python",
   "name": "python3"
  },
  "language_info": {
   "codemirror_mode": {
    "name": "ipython",
    "version": 3
   },
   "file_extension": ".py",
   "mimetype": "text/x-python",
   "name": "python",
   "nbconvert_exporter": "python",
   "pygments_lexer": "ipython3",
   "version": "3.8.13"
  }
 },
 "nbformat": 4,
 "nbformat_minor": 5
}
