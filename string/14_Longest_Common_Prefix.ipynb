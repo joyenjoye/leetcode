{
 "cells": [
  {
   "cell_type": "markdown",
   "id": "b3079cbf-aef2-41fb-b2dc-469efc4167e3",
   "metadata": {},
   "source": [
    "1May30\n",
    "\n",
    "Day21: 1,322,898\n",
    "\n",
    "32/2663"
   ]
  },
  {
   "cell_type": "code",
   "execution_count": 3,
   "id": "8d62be39-8352-43ec-ab6d-7e03de2de8e1",
   "metadata": {},
   "outputs": [],
   "source": [
    "from typing import List"
   ]
  },
  {
   "cell_type": "markdown",
   "id": "53852fc2-6933-4334-a4d5-10d1dbd23b4e",
   "metadata": {},
   "source": [
    "## Solution 1\n",
    "|  Python3  |         |  |\n",
    "|:--------:|:-------:|---------------|\n",
    "| 运行时长(ms) | 60 |   5.7|\n",
    "|   内存消耗(mb)      | 16.4  | 5.49\n"
   ]
  },
  {
   "cell_type": "code",
   "execution_count": 4,
   "id": "6b654af7-90da-4509-a816-bcaba127b9b7",
   "metadata": {},
   "outputs": [],
   "source": [
    "class Solution:\n",
    "    def longestCommonPrefix(self, v: List[str]) -> str:\n",
    "        ans=\"\"\n",
    "        v=sorted(v)\n",
    "        first=v[0]\n",
    "        last=v[-1]\n",
    "        for i in range(min(len(first),len(last))):\n",
    "            if(first[i]!=last[i]):\n",
    "                return ans\n",
    "            ans+=first[i]\n",
    "        return ans "
   ]
  }
 ],
 "metadata": {
  "kernelspec": {
   "display_name": "Python 3 (ipykernel)",
   "language": "python",
   "name": "python3"
  },
  "language_info": {
   "codemirror_mode": {
    "name": "ipython",
    "version": 3
   },
   "file_extension": ".py",
   "mimetype": "text/x-python",
   "name": "python",
   "nbconvert_exporter": "python",
   "pygments_lexer": "ipython3",
   "version": "3.8.13"
  }
 },
 "nbformat": 4,
 "nbformat_minor": 5
}
