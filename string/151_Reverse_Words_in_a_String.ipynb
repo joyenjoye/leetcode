{
 "cells": [
  {
   "cell_type": "markdown",
   "metadata": {},
   "source": [
    "23May31: 916,086"
   ]
  },
  {
   "cell_type": "code",
   "execution_count": 1,
   "metadata": {},
   "outputs": [
    {
     "name": "stdout",
     "output_type": "stream",
     "text": [
      "61 out of 2713, which is 2.25% \n"
     ]
    }
   ],
   "source": [
    "done = 61\n",
    "total = 675+1439+599\n",
    "print(\"%s out of %s, which is %.2f%% \" %(done, total,done/total*100))"
   ]
  },
  {
   "cell_type": "markdown",
   "metadata": {},
   "source": [
    "## Solution 1\n",
    "\n",
    "|  Python3  |         |  |\n",
    "|:--------:|:-------:|---------------|\n",
    "| 运行时长(ms) | 55| 20.21 |\n",
    "|   内存消耗(mb)      | 16.3 | 70.57"
   ]
  },
  {
   "cell_type": "code",
   "execution_count": 2,
   "metadata": {},
   "outputs": [],
   "source": [
    "class Solution:\n",
    "    def reverseWords(self, s: str) -> str:\n",
    "        res = []\n",
    "        s = s.strip().split(\" \")\n",
    "        i = len(s)-1\n",
    "        while i>=0:\n",
    "            item = s[i].strip()\n",
    "            if len(item)>0:\n",
    "                res.append(item)\n",
    "            i -=1\n",
    "        return \" \".join(res)"
   ]
  },
  {
   "cell_type": "markdown",
   "metadata": {},
   "source": [
    "## Solution 2\n",
    "|  Python3  |         |  |\n",
    "|:--------:|:-------:|---------------|\n",
    "| 运行时长(ms) | 52| 31.99 |\n",
    "|   内存消耗(mb)      | 16.4 | 41.57"
   ]
  },
  {
   "cell_type": "code",
   "execution_count": 10,
   "metadata": {},
   "outputs": [],
   "source": [
    "class Solution:\n",
    "    def reverseWords(self, s: str) -> str:\n",
    "        return \" \".join(reversed(s.split()))"
   ]
  },
  {
   "cell_type": "markdown",
   "metadata": {},
   "source": [
    "## Solution 3\n",
    "|  Python3  |         |  |\n",
    "|:--------:|:-------:|---------------|\n",
    "| 运行时长(ms) | 59| 10.13 |\n",
    "|   内存消耗(mb)      | 16.5 | 12.63"
   ]
  },
  {
   "cell_type": "code",
   "execution_count": 11,
   "metadata": {},
   "outputs": [],
   "source": [
    "class Solution:\n",
    "    def reverseWords(self, s: str) -> str:\n",
    "        s = s.split()\n",
    "        s.reverse() \n",
    "        return \" \".join(s)"
   ]
  },
  {
   "cell_type": "markdown",
   "metadata": {},
   "source": [
    "## Solution 4\n",
    "|  Python3  |         |  |\n",
    "|:--------:|:-------:|---------------|\n",
    "| 运行时长(ms) | 44| 64.55 |\n",
    "|   内存消耗(mb)      | 16.3 | 70.57"
   ]
  },
  {
   "cell_type": "code",
   "execution_count": 15,
   "metadata": {},
   "outputs": [],
   "source": [
    "class Solution:\n",
    "    def reverseWords(self, s: str) -> str:\n",
    "        return \" \".join(s.split()[::-1])"
   ]
  }
 ],
 "metadata": {
  "interpreter": {
   "hash": "762306bead03dc84e16aee56f31f40b1a0c18d71c74386c9334f6620b6a3216a"
  },
  "kernelspec": {
   "display_name": "Python 3 (ipykernel)",
   "language": "python",
   "name": "python3"
  },
  "language_info": {
   "codemirror_mode": {
    "name": "ipython",
    "version": 3
   },
   "file_extension": ".py",
   "mimetype": "text/x-python",
   "name": "python",
   "nbconvert_exporter": "python",
   "pygments_lexer": "ipython3",
   "version": "3.9.12"
  }
 },
 "nbformat": 4,
 "nbformat_minor": 4
}
