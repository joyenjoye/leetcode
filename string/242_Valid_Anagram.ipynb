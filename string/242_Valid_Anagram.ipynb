{
 "cells": [
  {
   "cell_type": "markdown",
   "id": "eaefa9a1-fb1f-4c88-9c86-f444793bddaa",
   "metadata": {},
   "source": [
    "Day17: 1,443,768"
   ]
  },
  {
   "cell_type": "markdown",
   "id": "8e69300b-1dbd-44c4-8de3-6230c1b6e648",
   "metadata": {},
   "source": [
    "## Solution 1\n",
    "|  Python3  |         |  |\n",
    "|:--------:|:-------:|---------------|\n",
    "| 运行时长(ms) | 188 |   5.2|\n",
    "|   内存消耗(mb)      | 14.2  | 94.3\n"
   ]
  },
  {
   "cell_type": "code",
   "execution_count": 6,
   "id": "5910efc9-8763-495a-b33d-d54ca7f282c2",
   "metadata": {},
   "outputs": [],
   "source": [
    "class Solution:\n",
    "    def isAnagram(self, s: str, t: str) -> bool:\n",
    "        for c in t:\n",
    "            idx = s.find(c)\n",
    "            if idx==-1:\n",
    "                return False \n",
    "            else:\n",
    "                s = s[:idx]+s[idx+1:]\n",
    " \n",
    "        return len(s)==0"
   ]
  }
 ],
 "metadata": {
  "kernelspec": {
   "display_name": "Python 3 (ipykernel)",
   "language": "python",
   "name": "python3"
  },
  "language_info": {
   "codemirror_mode": {
    "name": "ipython",
    "version": 3
   },
   "file_extension": ".py",
   "mimetype": "text/x-python",
   "name": "python",
   "nbconvert_exporter": "python",
   "pygments_lexer": "ipython3",
   "version": "3.8.13"
  }
 },
 "nbformat": 4,
 "nbformat_minor": 5
}
