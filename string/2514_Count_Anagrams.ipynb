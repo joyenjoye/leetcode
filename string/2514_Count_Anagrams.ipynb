{
 "cells": [
  {
   "cell_type": "markdown",
   "metadata": {},
   "source": [
    "23May31: 916,086"
   ]
  },
  {
   "cell_type": "code",
   "execution_count": 6,
   "metadata": {},
   "outputs": [
    {
     "name": "stdout",
     "output_type": "stream",
     "text": [
      "62 out of 2713, which is 2.29% \n"
     ]
    }
   ],
   "source": [
    "done = 62\n",
    "total = 675+1439+599\n",
    "print(\"%s out of %s, which is %.2f%% \" %(done, total,done/total*100))"
   ]
  },
  {
   "cell_type": "markdown",
   "metadata": {},
   "source": [
    "## Solution 1\n",
    "\n",
    "|  Python3  |         |  |\n",
    "|:--------:|:-------:|---------------|\n",
    "| 运行时长(ms) | 383| 90.34 |\n",
    "|   内存消耗(mb)      |17.6 | 57.97"
   ]
  },
  {
   "cell_type": "code",
   "execution_count": 2,
   "metadata": {},
   "outputs": [],
   "source": [
    "class Solution:\n",
    "    def countAnagrams(self, s: str) -> int:\n",
    "        s = s.split()\n",
    "        total_count = 1\n",
    "        for v in s:\n",
    "            count_dict = dict()\n",
    "            for item in v:\n",
    "                if item not in count_dict:\n",
    "                    count_dict[item]=1\n",
    "                else:\n",
    "                    count_dict[item]+=1\n",
    "            print(count_dict)\n",
    "            count = 1\n",
    "            n = len(v)\n",
    "            for item in count_dict :\n",
    "                m = count_dict[item]\n",
    "                count*=math.comb(n, m)\n",
    "                n -=m\n",
    "            total_count*=count\n",
    "        return total_count%1000000007\n"
   ]
  }
 ],
 "metadata": {
  "interpreter": {
   "hash": "762306bead03dc84e16aee56f31f40b1a0c18d71c74386c9334f6620b6a3216a"
  },
  "kernelspec": {
   "display_name": "Python 3 (ipykernel)",
   "language": "python",
   "name": "python3"
  },
  "language_info": {
   "codemirror_mode": {
    "name": "ipython",
    "version": 3
   },
   "file_extension": ".py",
   "mimetype": "text/x-python",
   "name": "python",
   "nbconvert_exporter": "python",
   "pygments_lexer": "ipython3",
   "version": "3.9.12"
  }
 },
 "nbformat": 4,
 "nbformat_minor": 4
}
