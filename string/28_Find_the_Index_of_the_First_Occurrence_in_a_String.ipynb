{
 "cells": [
  {
   "cell_type": "markdown",
   "id": "7a4a25ed-1ee8-4d3f-8da3-8abb3fead4ab",
   "metadata": {},
   "source": [
    "23Apr30\n",
    "\n",
    "Day19: 1,369,748"
   ]
  },
  {
   "cell_type": "markdown",
   "id": "bfbb8d56-8199-4374-a983-c54a8f8a2667",
   "metadata": {},
   "source": [
    "## Solution 1\n",
    "|  Python3  |         |  |\n",
    "|:--------:|:-------:|---------------|\n",
    "| 运行时长(ms) | 48 |   5.76|\n",
    "|   内存消耗(mb)      | 16.2  | 10.58\n"
   ]
  },
  {
   "cell_type": "code",
   "execution_count": 3,
   "id": "e90908db-a372-4f51-ace8-70477f702c34",
   "metadata": {},
   "outputs": [],
   "source": [
    "class Solution:\n",
    "    def strStr(self, haystack: str, needle: str) -> int:\n",
    "        return haystack.find(needle)"
   ]
  },
  {
   "cell_type": "markdown",
   "id": "97266b3d-a4d9-407a-a79b-8c87001829e2",
   "metadata": {},
   "source": [
    "## Solution 2\n",
    "|  Python3  |         |  |\n",
    "|:--------:|:-------:|---------------|\n",
    "| 运行时长(ms) | 48 |   5.76|\n",
    "|   内存消耗(mb)      | 16.2  | 10.58\n"
   ]
  },
  {
   "cell_type": "code",
   "execution_count": 4,
   "id": "1b079982-e580-4386-be8a-dc3af753108d",
   "metadata": {},
   "outputs": [],
   "source": [
    "class Solution:\n",
    "    def strStr(self, haystack: str, needle: str) -> int:\n",
    "        if needle== haystack:\n",
    "            return 0\n",
    "        i = 0\n",
    "        j = len(needle)\n",
    "        while j<= len(haystack):\n",
    "            curr = haystack[i:j]\n",
    "            if curr == needle:\n",
    "                return i\n",
    "            i += 1\n",
    "            j +=1\n",
    "        return -1"
   ]
  }
 ],
 "metadata": {
  "kernelspec": {
   "display_name": "Python 3 (ipykernel)",
   "language": "python",
   "name": "python3"
  },
  "language_info": {
   "codemirror_mode": {
    "name": "ipython",
    "version": 3
   },
   "file_extension": ".py",
   "mimetype": "text/x-python",
   "name": "python",
   "nbconvert_exporter": "python",
   "pygments_lexer": "ipython3",
   "version": "3.8.13"
  }
 },
 "nbformat": 4,
 "nbformat_minor": 5
}
