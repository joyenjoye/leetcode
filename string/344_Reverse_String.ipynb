{
 "cells": [
  {
   "cell_type": "markdown",
   "id": "232cb235-5ae9-40ec-994b-10a4082de73c",
   "metadata": {},
   "source": [
    "Day14: 1,530,470"
   ]
  },
  {
   "cell_type": "code",
   "execution_count": 2,
   "id": "84040306-5d94-43c4-9fcc-c8a78b8d16f6",
   "metadata": {},
   "outputs": [],
   "source": [
    "from typing import List"
   ]
  },
  {
   "cell_type": "markdown",
   "id": "e194f8b2-664a-4b54-9831-5e5f8d107d32",
   "metadata": {},
   "source": [
    "## Solution 1\n",
    "|  Python3  |         |  |\n",
    "|:--------:|:-------:|---------------|\n",
    "| 运行时长(ms) | 1.293 |    0|\n",
    "|   内存消耗(mb)      | 18.4  | 77\n"
   ]
  },
  {
   "cell_type": "code",
   "execution_count": 3,
   "id": "65e8466e-e571-4bc2-b84d-868c037d05f2",
   "metadata": {},
   "outputs": [],
   "source": [
    "class Solution:\n",
    "    def reverseString(self, s: List[str]) -> None:\n",
    "        \"\"\"\n",
    "        Do not return anything, modify s in-place instead.\n",
    "        \"\"\"\n",
    "        i = 1\n",
    "        while i < len(s):\n",
    "            s.insert(0,s[i])\n",
    "            i=i+1\n",
    "            s.pop(i)"
   ]
  }
 ],
 "metadata": {
  "kernelspec": {
   "display_name": "Python 3 (ipykernel)",
   "language": "python",
   "name": "python3"
  },
  "language_info": {
   "codemirror_mode": {
    "name": "ipython",
    "version": 3
   },
   "file_extension": ".py",
   "mimetype": "text/x-python",
   "name": "python",
   "nbconvert_exporter": "python",
   "pygments_lexer": "ipython3",
   "version": "3.8.13"
  }
 },
 "nbformat": 4,
 "nbformat_minor": 5
}
