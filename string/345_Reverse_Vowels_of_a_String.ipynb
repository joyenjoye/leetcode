{
 "cells": [
  {
   "cell_type": "markdown",
   "metadata": {},
   "source": [
    "23May30: 925,648"
   ]
  },
  {
   "cell_type": "code",
   "execution_count": 2,
   "metadata": {},
   "outputs": [
    {
     "name": "stdout",
     "output_type": "stream",
     "text": [
      "60 out of 2713, which is 2.21% \n"
     ]
    }
   ],
   "source": [
    "done = 60\n",
    "total = 675+1439+599\n",
    "print(\"%s out of %s, which is %.2f%% \" %(done, total,done/total*100))"
   ]
  },
  {
   "cell_type": "markdown",
   "metadata": {},
   "source": [
    "## Solution 1\n",
    "\n",
    "|  Python3  |         |  |\n",
    "|:--------:|:-------:|---------------|\n",
    "| 运行时长(ms) | 86| 26.92 |\n",
    "|   内存消耗(mb)      | 17.4 | 52.31"
   ]
  },
  {
   "cell_type": "code",
   "execution_count": 10,
   "metadata": {},
   "outputs": [],
   "source": [
    "class Solution:\n",
    "    def reverseVowels(self, s: str) -> str:\n",
    "        i = 0\n",
    "        j = len(s)-1\n",
    "        s = list(s)\n",
    "        v =  v=['a','e','i','o','u','A','E','I','O','U']\n",
    "        while i <j:\n",
    "            if s[i] not in v:\n",
    "                i +=1\n",
    "            if s[j] not in v:\n",
    "                j -=1\n",
    "            if s[i] in v and s[j] in v:\n",
    "                    s[i],s[j]=s[j],s[i]\n",
    "                    i+=1\n",
    "                    j-=1\n",
    "        return \"\".join(s)           "
   ]
  }
 ],
 "metadata": {
  "interpreter": {
   "hash": "762306bead03dc84e16aee56f31f40b1a0c18d71c74386c9334f6620b6a3216a"
  },
  "kernelspec": {
   "display_name": "Python 3 (ipykernel)",
   "language": "python",
   "name": "python3"
  },
  "language_info": {
   "codemirror_mode": {
    "name": "ipython",
    "version": 3
   },
   "file_extension": ".py",
   "mimetype": "text/x-python",
   "name": "python",
   "nbconvert_exporter": "python",
   "pygments_lexer": "ipython3",
   "version": "3.9.12"
  }
 },
 "nbformat": 4,
 "nbformat_minor": 4
}
