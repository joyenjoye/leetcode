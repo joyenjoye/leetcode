{
 "cells": [
  {
   "cell_type": "markdown",
   "id": "298dbe94-a4d4-42a1-819e-2ee0000ef0ca",
   "metadata": {},
   "source": [
    "23May16: 1,098,052"
   ]
  },
  {
   "cell_type": "code",
   "execution_count": 2,
   "id": "eb348638-9c47-4aed-9cc0-d992afa5838c",
   "metadata": {},
   "outputs": [
    {
     "name": "stdout",
     "output_type": "stream",
     "text": [
      "45 out of 2688 \n"
     ]
    }
   ],
   "source": [
    "print(\"%s out of %s \" %(45, 666+1429+593))"
   ]
  },
  {
   "cell_type": "markdown",
   "id": "d7e9eb04-a9ab-4ca8-9f32-38251bef5671",
   "metadata": {},
   "source": [
    "## Solution 1\n",
    "|  Python3  |         |  |\n",
    "|:--------:|:-------:|---------------|\n",
    "| 运行时长(ms) |57 |   66.82|\n",
    "|   内存消耗(mb)      | 16.6  | 18.34\n"
   ]
  },
  {
   "cell_type": "code",
   "execution_count": 3,
   "id": "bc04b926-fb08-49d3-98b7-01f629420110",
   "metadata": {},
   "outputs": [],
   "source": [
    "class Solution:\n",
    "    def canConstruct(self, ransomNote: str, magazine: str) -> bool:\n",
    "        for letter in ransomNote:\n",
    "            if letter in magazine:\n",
    "                idx = magazine.find(letter)\n",
    "                magazine = magazine[:idx]+magazine[idx+1:]\n",
    "            else:\n",
    "                return False\n",
    "        return True"
   ]
  }
 ],
 "metadata": {
  "kernelspec": {
   "display_name": "Python 3 (ipykernel)",
   "language": "python",
   "name": "python3"
  },
  "language_info": {
   "codemirror_mode": {
    "name": "ipython",
    "version": 3
   },
   "file_extension": ".py",
   "mimetype": "text/x-python",
   "name": "python",
   "nbconvert_exporter": "python",
   "pygments_lexer": "ipython3",
   "version": "3.9.12"
  }
 },
 "nbformat": 4,
 "nbformat_minor": 5
}
