{
 "cells": [
  {
   "cell_type": "markdown",
   "id": "232cb235-5ae9-40ec-994b-10a4082de73c",
   "metadata": {},
   "source": [
    "Day16: 1,471,094"
   ]
  },
  {
   "cell_type": "markdown",
   "id": "e194f8b2-664a-4b54-9831-5e5f8d107d32",
   "metadata": {},
   "source": [
    "## Solution 1\n",
    "|  Python3  |         |  |\n",
    "|:--------:|:-------:|---------------|\n",
    "| 运行时长(ms) | 193 |    20.52|\n",
    "|   内存消耗(mb)      | 14.1  | 45\n"
   ]
  },
  {
   "cell_type": "code",
   "execution_count": 3,
   "id": "65e8466e-e571-4bc2-b84d-868c037d05f2",
   "metadata": {},
   "outputs": [],
   "source": [
    "class Solution:\n",
    "    def firstUniqChar(self, s: str) -> int:\n",
    "        char_dict = {}\n",
    "        for i in range(len(s)):\n",
    "            char = s[i]\n",
    "            if char not in s[i+1:]:\n",
    "                if char not in char_dict:\n",
    "                    return i\n",
    "            else:\n",
    "                char_dict[char]=i\n",
    "        return -1\n",
    "                "
   ]
  }
 ],
 "metadata": {
  "kernelspec": {
   "display_name": "Python 3 (ipykernel)",
   "language": "python",
   "name": "python3"
  },
  "language_info": {
   "codemirror_mode": {
    "name": "ipython",
    "version": 3
   },
   "file_extension": ".py",
   "mimetype": "text/x-python",
   "name": "python",
   "nbconvert_exporter": "python",
   "pygments_lexer": "ipython3",
   "version": "3.8.13"
  }
 },
 "nbformat": 4,
 "nbformat_minor": 5
}
