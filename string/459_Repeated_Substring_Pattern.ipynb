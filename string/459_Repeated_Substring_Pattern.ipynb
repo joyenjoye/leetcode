{
 "cells": [
  {
   "cell_type": "markdown",
   "id": "ccb5f06a-71a7-4733-a1c1-1f0fa4b1f7d9",
   "metadata": {},
   "source": [
    "23Apr30\n",
    "\n",
    "Day20: 1,369,748\n",
    "\n",
    "30/2663"
   ]
  },
  {
   "cell_type": "markdown",
   "id": "320a1a2b-a0e9-4e41-b21f-48c5b6a000dd",
   "metadata": {},
   "source": [
    "## Solution 1\n",
    "|  Python3  |         |  |\n",
    "|:--------:|:-------:|---------------|\n",
    "| 运行时长(ms) | 1661 |   7.29|\n",
    "|   内存消耗(mb)      | 16.4  | 5.13\n"
   ]
  },
  {
   "cell_type": "code",
   "execution_count": 71,
   "id": "7d1de9e3-893b-44d4-9e75-5f5e9ee097f2",
   "metadata": {},
   "outputs": [],
   "source": [
    "class Solution:\n",
    "    def repeatedSubstringPattern(self, s: str) -> bool:\n",
    "        \n",
    "        def repeated(s,sub):\n",
    "            i = 0\n",
    "            while i <len(s):\n",
    "                if len(s[i:])<len(sub):\n",
    "                    return False\n",
    "                if s[i:].find(sub)==0:\n",
    "                    i += len(sub)\n",
    "                else:\n",
    "                    return False\n",
    "                \n",
    "            return True\n",
    "            \n",
    "        sub = s[0]\n",
    "        i = 1\n",
    "        while i <len(s):\n",
    "            if len(s[i:])<len(sub):\n",
    "                return False\n",
    "            \n",
    "            if s[i:].find(sub)==0:\n",
    "                if repeated(s[i:],sub):\n",
    "                    return True\n",
    "                else:\n",
    "                    sub +=s[i]\n",
    "                    i +=1    \n",
    "            else:\n",
    "                sub +=s[i]\n",
    "                i +=1\n",
    "        if sub==s:\n",
    "            return False\n",
    "        else:\n",
    "            return True"
   ]
  }
 ],
 "metadata": {
  "kernelspec": {
   "display_name": "Python 3 (ipykernel)",
   "language": "python",
   "name": "python3"
  },
  "language_info": {
   "codemirror_mode": {
    "name": "ipython",
    "version": 3
   },
   "file_extension": ".py",
   "mimetype": "text/x-python",
   "name": "python",
   "nbconvert_exporter": "python",
   "pygments_lexer": "ipython3",
   "version": "3.8.13"
  }
 },
 "nbformat": 4,
 "nbformat_minor": 5
}
