{
 "cells": [
  {
   "cell_type": "markdown",
   "metadata": {},
   "source": [
    "23June10: 824,630"
   ]
  },
  {
   "cell_type": "code",
   "execution_count": 2,
   "metadata": {},
   "outputs": [
    {
     "name": "stdout",
     "output_type": "stream",
     "text": [
      "71 out of 2728, which is 2.60% \n"
     ]
    }
   ],
   "source": [
    "done = 71\n",
    "total = 684+1443+601\n",
    "print(\"%s out of %s, which is %.2f%% \" %(done, total,done/total*100))"
   ]
  },
  {
   "cell_type": "markdown",
   "metadata": {},
   "source": [
    "## Solution 1\n",
    "\n",
    "|  Python3  |         |  |\n",
    "|:--------:|:-------:|---------------|\n",
    "| 运行时长(ms) |54| 42.86  |\n",
    "|   内存消耗(mb)      |16.4 | 14.29\n"
   ]
  },
  {
   "cell_type": "code",
   "execution_count": 1,
   "metadata": {},
   "outputs": [],
   "source": [
    "class Solution:\n",
    "    def isFascinating(self, n: int) -> bool:\n",
    "        n = list(str(n)+str(2*n)+str(3*n))\n",
    "        if len(n)!=9:\n",
    "            return False\n",
    "        if len(n)!=len(set(n)):\n",
    "            return False\n",
    "        if \"0\" in n:\n",
    "            return False\n",
    "        return True\n",
    "        \n",
    "        "
   ]
  }
 ],
 "metadata": {
  "interpreter": {
   "hash": "762306bead03dc84e16aee56f31f40b1a0c18d71c74386c9334f6620b6a3216a"
  },
  "kernelspec": {
   "display_name": "Python 3 (ipykernel)",
   "language": "python",
   "name": "python3"
  },
  "language_info": {
   "codemirror_mode": {
    "name": "ipython",
    "version": 3
   },
   "file_extension": ".py",
   "mimetype": "text/x-python",
   "name": "python",
   "nbconvert_exporter": "python",
   "pygments_lexer": "ipython3",
   "version": "3.9.12"
  }
 },
 "nbformat": 4,
 "nbformat_minor": 4
}
