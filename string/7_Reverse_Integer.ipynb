{
 "cells": [
  {
   "cell_type": "markdown",
   "id": "03dce324-b52c-46a2-955c-2dc8ad43c3aa",
   "metadata": {},
   "source": [
    "Day15: 1,500,034"
   ]
  },
  {
   "cell_type": "markdown",
   "id": "24408eab-b9ff-4719-9d39-0361590a4640",
   "metadata": {},
   "source": [
    "## Solution 1\n",
    "|  Python3  |         |  |\n",
    "|:--------:|:-------:|---------------|\n",
    "| 运行时长(ms) | 42 |    10.81|\n",
    "|   内存消耗(mb)      | 13.9  | 48.74\n"
   ]
  },
  {
   "cell_type": "code",
   "execution_count": 6,
   "id": "1616f60f-97df-480b-b72f-3d923b1497a1",
   "metadata": {},
   "outputs": [],
   "source": [
    "class Solution:\n",
    "    def reverse(self, x: int) -> int:\n",
    "        mlist= []\n",
    "        y = abs(x)\n",
    "        while y//10 >=1:\n",
    "            m = y%10\n",
    "            mlist.append(m)\n",
    "            y = (y - m)/10\n",
    "        mlist.append(y)\n",
    "        \n",
    "        n = len(mlist)\n",
    "        z = 0\n",
    "        for i in range(n):\n",
    "            z = z+ mlist[i]* pow(10,(n-i-1))\n",
    "            \n",
    "        if x>0:\n",
    "            if int(z)< pow(2,31)- 1:\n",
    "                return int(z)\n",
    "            else:\n",
    "                return 0\n",
    "        else:\n",
    "            if int(-z)< -pow(2,31):\n",
    "                return 0\n",
    "            else:\n",
    "                return int(-z)\n",
    "        "
   ]
  }
 ],
 "metadata": {
  "kernelspec": {
   "display_name": "Python 3 (ipykernel)",
   "language": "python",
   "name": "python3"
  },
  "language_info": {
   "codemirror_mode": {
    "name": "ipython",
    "version": 3
   },
   "file_extension": ".py",
   "mimetype": "text/x-python",
   "name": "python",
   "nbconvert_exporter": "python",
   "pygments_lexer": "ipython3",
   "version": "3.8.13"
  }
 },
 "nbformat": 4,
 "nbformat_minor": 5
}
