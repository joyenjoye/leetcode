{
 "cells": [
  {
   "cell_type": "markdown",
   "id": "63158a98-33df-4bc1-8419-af29a45bea59",
   "metadata": {},
   "source": [
    "- 23June26(Day78): 721,428\n"
   ]
  },
  {
   "cell_type": "code",
   "execution_count": 1,
   "id": "ed5f0d49-6e30-4327-a5b5-60cc112ec7e2",
   "metadata": {},
   "outputs": [
    {
     "name": "stdout",
     "output_type": "stream",
     "text": [
      "87 out of 2751, which is 3.16% \n"
     ]
    }
   ],
   "source": [
    "done = 66+19+2\n",
    "total = 689+1457+605\n",
    "print(\"%s out of %s, which is %.2f%% \" %(done, total,done/total*100))"
   ]
  },
  {
   "cell_type": "code",
   "execution_count": 2,
   "id": "42aee3c3-7ace-43d7-91e3-7c4dfbea9a19",
   "metadata": {},
   "outputs": [],
   "source": [
    "from typing import List"
   ]
  },
  {
   "cell_type": "markdown",
   "id": "718bc673-dfc9-4ea6-9b4a-6dec94631696",
   "metadata": {},
   "source": [
    "## Solution 1\n",
    "\n",
    "Wrong Answer"
   ]
  },
  {
   "cell_type": "code",
   "execution_count": 3,
   "id": "72908e09-25a9-4cb1-9afc-332a3a986c36",
   "metadata": {},
   "outputs": [],
   "source": [
    "class Solution:\n",
    "    def longestSubarray(self, nums: List[int]) -> int:\n",
    "        if len(set(nums))==1 and nums[0]==1:\n",
    "            return len(nums)-1\n",
    "        c = 0\n",
    "        c_list = []\n",
    "        for r, n in enumerate(nums):\n",
    "            if n == 1:\n",
    "                c+=1\n",
    "            if n ==0:\n",
    "                c_list.append(c)\n",
    "                if len(c_list)>=2:\n",
    "                    c = c-c_list[-2]\n",
    "                    if c <0:\n",
    "                        c = 0\n",
    "\n",
    "            if r ==len(nums)-1 and n!=0:\n",
    "                 c_list.append(c)\n",
    "\n",
    "            print(r, n, c,c_list)\n",
    "    \n",
    "        return max(c_list)\n",
    "\n",
    "    "
   ]
  }
 ],
 "metadata": {
  "kernelspec": {
   "display_name": "Python 3 (ipykernel)",
   "language": "python",
   "name": "python3"
  },
  "language_info": {
   "codemirror_mode": {
    "name": "ipython",
    "version": 3
   },
   "file_extension": ".py",
   "mimetype": "text/x-python",
   "name": "python",
   "nbconvert_exporter": "python",
   "pygments_lexer": "ipython3",
   "version": "3.9.12"
  }
 },
 "nbformat": 4,
 "nbformat_minor": 5
}
