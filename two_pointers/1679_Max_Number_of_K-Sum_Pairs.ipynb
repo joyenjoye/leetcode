{
 "cells": [
  {
   "cell_type": "markdown",
   "id": "63158a98-33df-4bc1-8419-af29a45bea59",
   "metadata": {},
   "source": [
    "- 23June24(Day76): 732,820. \n"
   ]
  },
  {
   "cell_type": "code",
   "execution_count": 2,
   "id": "ed5f0d49-6e30-4327-a5b5-60cc112ec7e2",
   "metadata": {},
   "outputs": [
    {
     "name": "stdout",
     "output_type": "stream",
     "text": [
      "85 out of 2743, which is 3.10% \n"
     ]
    }
   ],
   "source": [
    "done = 66+17+2\n",
    "total = 687+1452+604\n",
    "print(\"%s out of %s, which is %.2f%% \" %(done, total,done/total*100))"
   ]
  },
  {
   "cell_type": "code",
   "execution_count": 2,
   "id": "42aee3c3-7ace-43d7-91e3-7c4dfbea9a19",
   "metadata": {},
   "outputs": [],
   "source": [
    "from typing import List"
   ]
  },
  {
   "cell_type": "markdown",
   "id": "718bc673-dfc9-4ea6-9b4a-6dec94631696",
   "metadata": {},
   "source": [
    "## Solution 1\n",
    "|  Python3  |         |  |\n",
    "|:--------:|:-------:|---------------|\n",
    "| 运行时长(ms) | 662  |      52.63 |\n",
    "|   内存消耗(mb)      | 29.8  | 9.53\n"
   ]
  },
  {
   "cell_type": "code",
   "execution_count": 3,
   "id": "72908e09-25a9-4cb1-9afc-332a3a986c36",
   "metadata": {},
   "outputs": [],
   "source": [
    "class Solution:\n",
    "    def maxOperations(self, nums: List[int], k: int) -> int:\n",
    "        counter = defaultdict(int)\n",
    "        co = 0\n",
    "        for x in nums:\n",
    "            comp = k - x\n",
    "            if counter[comp]>0:\n",
    "                counter[comp]-=1\n",
    "                co+=1\n",
    "            else:\n",
    "                counter[x] +=1\n",
    "        return co"
   ]
  }
 ],
 "metadata": {
  "kernelspec": {
   "display_name": "Python 3 (ipykernel)",
   "language": "python",
   "name": "python3"
  },
  "language_info": {
   "codemirror_mode": {
    "name": "ipython",
    "version": 3
   },
   "file_extension": ".py",
   "mimetype": "text/x-python",
   "name": "python",
   "nbconvert_exporter": "python",
   "pygments_lexer": "ipython3",
   "version": "3.9.12"
  }
 },
 "nbformat": 4,
 "nbformat_minor": 5
}
