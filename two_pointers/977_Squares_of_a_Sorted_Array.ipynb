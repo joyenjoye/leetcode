{
 "cells": [
  {
   "cell_type": "markdown",
   "id": "bcde21cc-d635-4062-99b9-4e313eec3c66",
   "metadata": {},
   "source": [
    "23May19: 1,058,160"
   ]
  },
  {
   "cell_type": "code",
   "execution_count": 2,
   "id": "bd7a8fd4-e15f-4168-bc8a-14a4c7e924c8",
   "metadata": {},
   "outputs": [
    {
     "name": "stdout",
     "output_type": "stream",
     "text": [
      "48 out of 2695 \n"
     ]
    }
   ],
   "source": [
    "print(\"%s out of %s \" %(48, 669+1432+594))"
   ]
  },
  {
   "cell_type": "markdown",
   "id": "996bff2d-a227-4f4c-ae57-7a4ff668b8fc",
   "metadata": {},
   "source": [
    "## Solution 1\n",
    "|  Python3  |         |  |\n",
    "|:--------:|:-------:|---------------|\n",
    "| 运行时长(ms) |267 |   14.81|\n",
    "|   内存消耗(mb)      | 18.7 | 14.72\n"
   ]
  },
  {
   "cell_type": "code",
   "execution_count": 5,
   "id": "de67fd7c-90a8-4eb4-bea8-c4d5ce1b73fc",
   "metadata": {},
   "outputs": [],
   "source": [
    "from typing import List"
   ]
  },
  {
   "cell_type": "code",
   "execution_count": 3,
   "id": "df7fda7f-8bba-47b9-8da2-75680d2defe5",
   "metadata": {},
   "outputs": [],
   "source": [
    "class Solution:\n",
    "    def sortedSquares(self, nums: List[int]) -> List[int]:\n",
    "        i = 0\n",
    "        j = len(nums)-1\n",
    "        new_nums = []\n",
    "        while i<=j:\n",
    "            i2 = pow(nums[i],2)\n",
    "            j2 = pow(nums[j],2)\n",
    "            if i2<j2:\n",
    "                new_nums.append(j2)\n",
    "                j -=1\n",
    "            elif i2>j2:\n",
    "                new_nums.append(i2)\n",
    "                i +=1\n",
    "            else:\n",
    "                if i==j:\n",
    "                    new_nums.append(i2)\n",
    "                    break\n",
    "                else:\n",
    "                    new_nums.append(i2)\n",
    "                    new_nums.append(j2)\n",
    "                    j -=1 \n",
    "                    i +=1\n",
    "        new_nums.reverse()\n",
    "        return new_nums\n",
    "        "
   ]
  },
  {
   "cell_type": "markdown",
   "id": "b5dee915-a0f2-4fcd-9187-2daefec8ac94",
   "metadata": {},
   "source": [
    "## Solution 2\n",
    "|  Python3  |         |  |\n",
    "|:--------:|:-------:|---------------|\n",
    "| 运行时长(ms) |441|   5.4|\n",
    "|   内存消耗(mb)      | 18.9 | 5.93\n"
   ]
  },
  {
   "cell_type": "code",
   "execution_count": null,
   "id": "0a5c4dbf-7658-4288-944f-3552f55c11b1",
   "metadata": {},
   "outputs": [],
   "source": [
    "class Solution:\n",
    "    def sortedSquares(self, nums: List[int]) -> List[int]:\n",
    "        i = 0\n",
    "        j = len(nums)-1\n",
    "        new_nums = []\n",
    "        while i<=j:\n",
    "            i2 = pow(nums[i],2)\n",
    "            j2 = pow(nums[j],2)\n",
    "            if i2<j2:\n",
    "                new_nums.insert(0,j2)\n",
    "                j -=1\n",
    "            elif i2>j2:\n",
    "                new_nums.insert(0,i2)\n",
    "                i +=1\n",
    "            else:\n",
    "                if i==j:\n",
    "                    new_nums.insert(0,i2)\n",
    "                    break\n",
    "                else:\n",
    "                    new_nums.insert(0,i2)\n",
    "                    new_nums.insert(0,j2)\n",
    "                    j -=1 \n",
    "                    i +=1\n",
    "        return new_nums\n",
    "        "
   ]
  },
  {
   "cell_type": "markdown",
   "id": "ed90ca21-758f-42d1-b692-b809972b1b6a",
   "metadata": {},
   "source": [
    "## Solution 3\n",
    "|  Python3  |         |  |\n",
    "|:--------:|:-------:|---------------|\n",
    "| 运行时长(ms) |219|   74.31|\n",
    "|   内存消耗(mb)      | 18.1 | 29.55\n"
   ]
  },
  {
   "cell_type": "code",
   "execution_count": 6,
   "id": "55b5ddc4-e92f-4956-802e-59cd10c2dd84",
   "metadata": {},
   "outputs": [],
   "source": [
    "class Solution:\n",
    "    def sortedSquares(self, A: List[int]) -> List[int]:\n",
    "        for i in range(len(A)):\n",
    "            A[i] *= A[i]\n",
    "        A.sort()\n",
    "        return A"
   ]
  }
 ],
 "metadata": {
  "kernelspec": {
   "display_name": "Python 3 (ipykernel)",
   "language": "python",
   "name": "python3"
  },
  "language_info": {
   "codemirror_mode": {
    "name": "ipython",
    "version": 3
   },
   "file_extension": ".py",
   "mimetype": "text/x-python",
   "name": "python",
   "nbconvert_exporter": "python",
   "pygments_lexer": "ipython3",
   "version": "3.9.12"
  }
 },
 "nbformat": 4,
 "nbformat_minor": 5
}
