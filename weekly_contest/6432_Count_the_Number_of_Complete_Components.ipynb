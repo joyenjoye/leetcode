{
 "cells": [
  {
   "cell_type": "markdown",
   "id": "3091e6a4-6753-49c0-abb9-9a81a90c7eff",
   "metadata": {},
   "source": [
    "23May14: 1,111,335"
   ]
  },
  {
   "cell_type": "code",
   "execution_count": 11,
   "id": "3b243097-5268-433f-8397-976e514b0e51",
   "metadata": {},
   "outputs": [
    {
     "name": "stdout",
     "output_type": "stream",
     "text": [
      "43 out of 2688 \n"
     ]
    }
   ],
   "source": [
    "print(\"%s out of %s \" %(43, 666+1429+593))"
   ]
  },
  {
   "cell_type": "markdown",
   "id": "44e3ec79-5cca-4c88-bd96-e2803fe40020",
   "metadata": {},
   "source": [
    "You are given an integer n. There is an undirected graph with n vertices, numbered from 0 to n - 1. You are given a 2D integer array edges where edges[i] = [ai, bi] denotes that there exists an undirected edge connecting vertices ai and bi.\n",
    "\n",
    "Return the number of complete connected components of the graph.\n",
    "\n",
    "A connected component is a subgraph of a graph in which there exists a path between any two vertices, and no vertex of the subgraph shares an edge with a vertex outside of the subgraph.\n",
    "\n",
    "A connected component is said to be complete if there exists an edge between every pair of its vertices."
   ]
  },
  {
   "cell_type": "markdown",
   "id": "76af2046-e22c-40f4-aebd-50485bd3156f",
   "metadata": {},
   "source": [
    "```\n",
    "Input: n = 6, edges = [[0,1],[0,2],[1,2],[3,4]]\n",
    "Output: 3\n",
    "Explanation: From the picture above, one can see that all of the components of this graph are complete.\n",
    "```\n",
    "\n",
    "```\n",
    "Input: n = 6, edges = [[0,1],[0,2],[1,2],[3,4],[3,5]]\n",
    "Output: 1\n",
    "Explanation: The component containing vertices 0, 1, and 2 is complete since there is an edge between every pair of two vertices. On the other hand, the component containing vertices 3, 4, and 5 is not complete since there is no edge between vertices 4 and 5. Thus, the number of complete components in this graph is 1.\n",
    "```"
   ]
  },
  {
   "cell_type": "code",
   "execution_count": 8,
   "id": "f410a308-ad12-4c7b-9968-8ce21b135a70",
   "metadata": {},
   "outputs": [],
   "source": [
    "from typing import List"
   ]
  },
  {
   "cell_type": "code",
   "execution_count": 9,
   "id": "c18393c9-dd28-41b1-957b-6fd8cf8aef27",
   "metadata": {},
   "outputs": [],
   "source": [
    "class Solution:\n",
    "    def countCompleteComponents(self, n: int, edges: List[List[int]]) -> int:\n",
    "        subgraph = {}\n",
    "        subgraph_id= 0\n",
    "        for edge in edges:\n",
    "            if edge[0] not in subgraph and edge[1] not in subgraph:\n",
    "                subgraph[edge[0]] = subgraph_id\n",
    "                subgraph[edge[1]] = subgraph_id\n",
    "                subgraph_id = subgraph_id+1\n",
    "            elif edge[0] in subgraph and edge[1] not in subgraph:\n",
    "                subgraph[edge[1]] = subgraph[edge[0]] \n",
    "            elif edge[1] in subgraph and edge[0] not in subgraph:\n",
    "                subgraph[edge[0]] = subgraph[edge[1]] \n",
    "            else:\n",
    "                if not subgraph[edge[0]]==subgraph[edge[1]]:\n",
    "                    for item, val in subgraph.items():\n",
    "                        if val == subgraph[edge[1]]:\n",
    "                            subgraph[item] = subgraph[edge[0]]\n",
    "        print(subgraph)\n",
    "                \n",
    "            \n",
    "                    \n",
    "                \n",
    "        "
   ]
  }
 ],
 "metadata": {
  "kernelspec": {
   "display_name": "Python 3 (ipykernel)",
   "language": "python",
   "name": "python3"
  },
  "language_info": {
   "codemirror_mode": {
    "name": "ipython",
    "version": 3
   },
   "file_extension": ".py",
   "mimetype": "text/x-python",
   "name": "python",
   "nbconvert_exporter": "python",
   "pygments_lexer": "ipython3",
   "version": "3.9.12"
  }
 },
 "nbformat": 4,
 "nbformat_minor": 5
}
